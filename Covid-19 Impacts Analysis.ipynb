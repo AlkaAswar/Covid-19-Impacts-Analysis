{
 "cells": [
  {
   "cell_type": "code",
   "execution_count": 1,
   "id": "6b382d75",
   "metadata": {},
   "outputs": [],
   "source": [
    "import pandas as pd\n",
    "import plotly.express as px\n",
    "import plotly.graph_objects as go\n",
    "\n"
   ]
  },
  {
   "cell_type": "code",
   "execution_count": 2,
   "id": "14e36e1e",
   "metadata": {},
   "outputs": [],
   "source": [
    "data = pd.read_csv(\"transformed_data.csv\")\n"
   ]
  },
  {
   "cell_type": "code",
   "execution_count": 3,
   "id": "4256b872",
   "metadata": {},
   "outputs": [
    {
     "name": "stdout",
     "output_type": "stream",
     "text": [
      "      CODE      COUNTRY        DATE    HDI        TC        TD       STI  \\\n",
      "0      AFG  Afghanistan  2019-12-31  0.498  0.000000  0.000000  0.000000   \n",
      "1      AFG  Afghanistan  2020-01-01  0.498  0.000000  0.000000  0.000000   \n",
      "2      AFG  Afghanistan  2020-01-02  0.498  0.000000  0.000000  0.000000   \n",
      "3      AFG  Afghanistan  2020-01-03  0.498  0.000000  0.000000  0.000000   \n",
      "4      AFG  Afghanistan  2020-01-04  0.498  0.000000  0.000000  0.000000   \n",
      "...    ...          ...         ...    ...       ...       ...       ...   \n",
      "50413  ZWE     Zimbabwe  2020-10-15  0.535  8.994048  5.442418  4.341855   \n",
      "50414  ZWE     Zimbabwe  2020-10-16  0.535  8.996528  5.442418  4.341855   \n",
      "50415  ZWE     Zimbabwe  2020-10-17  0.535  8.999496  5.442418  4.341855   \n",
      "50416  ZWE     Zimbabwe  2020-10-18  0.535  9.000853  5.442418  4.341855   \n",
      "50417  ZWE     Zimbabwe  2020-10-19  0.535  9.005405  5.442418  4.341855   \n",
      "\n",
      "             POP    GDPCAP  \n",
      "0      17.477233  7.497754  \n",
      "1      17.477233  7.497754  \n",
      "2      17.477233  7.497754  \n",
      "3      17.477233  7.497754  \n",
      "4      17.477233  7.497754  \n",
      "...          ...       ...  \n",
      "50413  16.514381  7.549491  \n",
      "50414  16.514381  7.549491  \n",
      "50415  16.514381  7.549491  \n",
      "50416  16.514381  7.549491  \n",
      "50417  16.514381  7.549491  \n",
      "\n",
      "[50418 rows x 9 columns]\n"
     ]
    }
   ],
   "source": [
    "data2 = pd.read_csv(\"raw_data.csv\",encoding='latin')\n",
    "print(data)"
   ]
  },
  {
   "cell_type": "markdown",
   "id": "43976cb1",
   "metadata": {},
   "source": [
    "so here we can see the impact of covid from 12 december 2019 to 19 octomber 2020  we can see in date columnsData "
   ]
  },
  {
   "cell_type": "markdown",
   "id": "e9ffb5a9",
   "metadata": {},
   "source": [
    "# Data preparation"
   ]
  },
  {
   "cell_type": "code",
   "execution_count": 4,
   "id": "58979eb5",
   "metadata": {},
   "outputs": [
    {
     "data": {
      "text/html": [
       "<div>\n",
       "<style scoped>\n",
       "    .dataframe tbody tr th:only-of-type {\n",
       "        vertical-align: middle;\n",
       "    }\n",
       "\n",
       "    .dataframe tbody tr th {\n",
       "        vertical-align: top;\n",
       "    }\n",
       "\n",
       "    .dataframe thead th {\n",
       "        text-align: right;\n",
       "    }\n",
       "</style>\n",
       "<table border=\"1\" class=\"dataframe\">\n",
       "  <thead>\n",
       "    <tr style=\"text-align: right;\">\n",
       "      <th></th>\n",
       "      <th>CODE</th>\n",
       "      <th>COUNTRY</th>\n",
       "      <th>DATE</th>\n",
       "      <th>HDI</th>\n",
       "      <th>TC</th>\n",
       "      <th>TD</th>\n",
       "      <th>STI</th>\n",
       "      <th>POP</th>\n",
       "      <th>GDPCAP</th>\n",
       "    </tr>\n",
       "  </thead>\n",
       "  <tbody>\n",
       "    <tr>\n",
       "      <th>0</th>\n",
       "      <td>AFG</td>\n",
       "      <td>Afghanistan</td>\n",
       "      <td>2019-12-31</td>\n",
       "      <td>0.498</td>\n",
       "      <td>0.0</td>\n",
       "      <td>0.0</td>\n",
       "      <td>0.0</td>\n",
       "      <td>17.477233</td>\n",
       "      <td>7.497754</td>\n",
       "    </tr>\n",
       "    <tr>\n",
       "      <th>1</th>\n",
       "      <td>AFG</td>\n",
       "      <td>Afghanistan</td>\n",
       "      <td>2020-01-01</td>\n",
       "      <td>0.498</td>\n",
       "      <td>0.0</td>\n",
       "      <td>0.0</td>\n",
       "      <td>0.0</td>\n",
       "      <td>17.477233</td>\n",
       "      <td>7.497754</td>\n",
       "    </tr>\n",
       "    <tr>\n",
       "      <th>2</th>\n",
       "      <td>AFG</td>\n",
       "      <td>Afghanistan</td>\n",
       "      <td>2020-01-02</td>\n",
       "      <td>0.498</td>\n",
       "      <td>0.0</td>\n",
       "      <td>0.0</td>\n",
       "      <td>0.0</td>\n",
       "      <td>17.477233</td>\n",
       "      <td>7.497754</td>\n",
       "    </tr>\n",
       "    <tr>\n",
       "      <th>3</th>\n",
       "      <td>AFG</td>\n",
       "      <td>Afghanistan</td>\n",
       "      <td>2020-01-03</td>\n",
       "      <td>0.498</td>\n",
       "      <td>0.0</td>\n",
       "      <td>0.0</td>\n",
       "      <td>0.0</td>\n",
       "      <td>17.477233</td>\n",
       "      <td>7.497754</td>\n",
       "    </tr>\n",
       "    <tr>\n",
       "      <th>4</th>\n",
       "      <td>AFG</td>\n",
       "      <td>Afghanistan</td>\n",
       "      <td>2020-01-04</td>\n",
       "      <td>0.498</td>\n",
       "      <td>0.0</td>\n",
       "      <td>0.0</td>\n",
       "      <td>0.0</td>\n",
       "      <td>17.477233</td>\n",
       "      <td>7.497754</td>\n",
       "    </tr>\n",
       "  </tbody>\n",
       "</table>\n",
       "</div>"
      ],
      "text/plain": [
       "  CODE      COUNTRY        DATE    HDI   TC   TD  STI        POP    GDPCAP\n",
       "0  AFG  Afghanistan  2019-12-31  0.498  0.0  0.0  0.0  17.477233  7.497754\n",
       "1  AFG  Afghanistan  2020-01-01  0.498  0.0  0.0  0.0  17.477233  7.497754\n",
       "2  AFG  Afghanistan  2020-01-02  0.498  0.0  0.0  0.0  17.477233  7.497754\n",
       "3  AFG  Afghanistan  2020-01-03  0.498  0.0  0.0  0.0  17.477233  7.497754\n",
       "4  AFG  Afghanistan  2020-01-04  0.498  0.0  0.0  0.0  17.477233  7.497754"
      ]
     },
     "execution_count": 4,
     "metadata": {},
     "output_type": "execute_result"
    }
   ],
   "source": [
    "data.head()"
   ]
  },
  {
   "cell_type": "code",
   "execution_count": 5,
   "id": "091a69b0",
   "metadata": {},
   "outputs": [
    {
     "data": {
      "text/html": [
       "<div>\n",
       "<style scoped>\n",
       "    .dataframe tbody tr th:only-of-type {\n",
       "        vertical-align: middle;\n",
       "    }\n",
       "\n",
       "    .dataframe tbody tr th {\n",
       "        vertical-align: top;\n",
       "    }\n",
       "\n",
       "    .dataframe thead th {\n",
       "        text-align: right;\n",
       "    }\n",
       "</style>\n",
       "<table border=\"1\" class=\"dataframe\">\n",
       "  <thead>\n",
       "    <tr style=\"text-align: right;\">\n",
       "      <th></th>\n",
       "      <th>ï»¿iso_code</th>\n",
       "      <th>location</th>\n",
       "      <th>date</th>\n",
       "      <th>total_cases</th>\n",
       "      <th>total_deaths</th>\n",
       "      <th>stringency_index</th>\n",
       "      <th>population</th>\n",
       "      <th>gdp_per_capita</th>\n",
       "      <th>human_development_index</th>\n",
       "      <th>Unnamed: 9</th>\n",
       "      <th>Unnamed: 10</th>\n",
       "      <th>Unnamed: 11</th>\n",
       "      <th>Unnamed: 12</th>\n",
       "      <th>Unnamed: 13</th>\n",
       "    </tr>\n",
       "  </thead>\n",
       "  <tbody>\n",
       "    <tr>\n",
       "      <th>0</th>\n",
       "      <td>AFG</td>\n",
       "      <td>Afghanistan</td>\n",
       "      <td>2019-12-31</td>\n",
       "      <td>0.0</td>\n",
       "      <td>0.0</td>\n",
       "      <td>0.0</td>\n",
       "      <td>38928341</td>\n",
       "      <td>1803.987</td>\n",
       "      <td>0.498</td>\n",
       "      <td>#NUM!</td>\n",
       "      <td>#NUM!</td>\n",
       "      <td>#NUM!</td>\n",
       "      <td>17.477233</td>\n",
       "      <td>7.497754494</td>\n",
       "    </tr>\n",
       "    <tr>\n",
       "      <th>1</th>\n",
       "      <td>AFG</td>\n",
       "      <td>Afghanistan</td>\n",
       "      <td>2020-01-01</td>\n",
       "      <td>0.0</td>\n",
       "      <td>0.0</td>\n",
       "      <td>0.0</td>\n",
       "      <td>38928341</td>\n",
       "      <td>1803.987</td>\n",
       "      <td>0.498</td>\n",
       "      <td>#NUM!</td>\n",
       "      <td>#NUM!</td>\n",
       "      <td>#NUM!</td>\n",
       "      <td>17.477233</td>\n",
       "      <td>7.497754494</td>\n",
       "    </tr>\n",
       "    <tr>\n",
       "      <th>2</th>\n",
       "      <td>AFG</td>\n",
       "      <td>Afghanistan</td>\n",
       "      <td>2020-01-02</td>\n",
       "      <td>0.0</td>\n",
       "      <td>0.0</td>\n",
       "      <td>0.0</td>\n",
       "      <td>38928341</td>\n",
       "      <td>1803.987</td>\n",
       "      <td>0.498</td>\n",
       "      <td>#NUM!</td>\n",
       "      <td>#NUM!</td>\n",
       "      <td>#NUM!</td>\n",
       "      <td>17.477233</td>\n",
       "      <td>7.497754494</td>\n",
       "    </tr>\n",
       "    <tr>\n",
       "      <th>3</th>\n",
       "      <td>AFG</td>\n",
       "      <td>Afghanistan</td>\n",
       "      <td>2020-01-03</td>\n",
       "      <td>0.0</td>\n",
       "      <td>0.0</td>\n",
       "      <td>0.0</td>\n",
       "      <td>38928341</td>\n",
       "      <td>1803.987</td>\n",
       "      <td>0.498</td>\n",
       "      <td>#NUM!</td>\n",
       "      <td>#NUM!</td>\n",
       "      <td>#NUM!</td>\n",
       "      <td>17.477233</td>\n",
       "      <td>7.497754494</td>\n",
       "    </tr>\n",
       "    <tr>\n",
       "      <th>4</th>\n",
       "      <td>AFG</td>\n",
       "      <td>Afghanistan</td>\n",
       "      <td>2020-01-04</td>\n",
       "      <td>0.0</td>\n",
       "      <td>0.0</td>\n",
       "      <td>0.0</td>\n",
       "      <td>38928341</td>\n",
       "      <td>1803.987</td>\n",
       "      <td>0.498</td>\n",
       "      <td>#NUM!</td>\n",
       "      <td>#NUM!</td>\n",
       "      <td>#NUM!</td>\n",
       "      <td>17.477233</td>\n",
       "      <td>7.497754494</td>\n",
       "    </tr>\n",
       "  </tbody>\n",
       "</table>\n",
       "</div>"
      ],
      "text/plain": [
       "  ï»¿iso_code     location        date  total_cases  total_deaths  \\\n",
       "0         AFG  Afghanistan  2019-12-31          0.0           0.0   \n",
       "1         AFG  Afghanistan  2020-01-01          0.0           0.0   \n",
       "2         AFG  Afghanistan  2020-01-02          0.0           0.0   \n",
       "3         AFG  Afghanistan  2020-01-03          0.0           0.0   \n",
       "4         AFG  Afghanistan  2020-01-04          0.0           0.0   \n",
       "\n",
       "   stringency_index  population  gdp_per_capita  human_development_index  \\\n",
       "0               0.0    38928341        1803.987                    0.498   \n",
       "1               0.0    38928341        1803.987                    0.498   \n",
       "2               0.0    38928341        1803.987                    0.498   \n",
       "3               0.0    38928341        1803.987                    0.498   \n",
       "4               0.0    38928341        1803.987                    0.498   \n",
       "\n",
       "  Unnamed: 9 Unnamed: 10 Unnamed: 11  Unnamed: 12  Unnamed: 13  \n",
       "0      #NUM!       #NUM!       #NUM!    17.477233  7.497754494  \n",
       "1      #NUM!       #NUM!       #NUM!    17.477233  7.497754494  \n",
       "2      #NUM!       #NUM!       #NUM!    17.477233  7.497754494  \n",
       "3      #NUM!       #NUM!       #NUM!    17.477233  7.497754494  \n",
       "4      #NUM!       #NUM!       #NUM!    17.477233  7.497754494  "
      ]
     },
     "execution_count": 5,
     "metadata": {},
     "output_type": "execute_result"
    }
   ],
   "source": [
    "data2.head()"
   ]
  },
  {
   "cell_type": "markdown",
   "id": "02d2d3e9",
   "metadata": {},
   "source": [
    "we will use this both the dataset or analysis here only columns are diferents."
   ]
  },
  {
   "cell_type": "code",
   "execution_count": 6,
   "id": "2a03135d",
   "metadata": {},
   "outputs": [
    {
     "data": {
      "text/plain": [
       "Afghanistan        294\n",
       "Indonesia          294\n",
       "Macedonia          294\n",
       "Luxembourg         294\n",
       "Lithuania          294\n",
       "                  ... \n",
       "Tajikistan         172\n",
       "Comoros            171\n",
       "Lesotho            158\n",
       "Hong Kong           51\n",
       "Solomon Islands      4\n",
       "Name: COUNTRY, Length: 210, dtype: int64"
      ]
     },
     "execution_count": 6,
     "metadata": {},
     "output_type": "execute_result"
    }
   ],
   "source": [
    "data['COUNTRY'].value_counts()"
   ]
  },
  {
   "cell_type": "code",
   "execution_count": 7,
   "id": "4ba0c988",
   "metadata": {},
   "outputs": [
    {
     "data": {
      "text/plain": [
       "0    294\n",
       "dtype: int64"
      ]
     },
     "execution_count": 7,
     "metadata": {},
     "output_type": "execute_result"
    }
   ],
   "source": [
    "data['COUNTRY'].value_counts().mode()"
   ]
  },
  {
   "cell_type": "code",
   "execution_count": 8,
   "id": "fda89393",
   "metadata": {},
   "outputs": [
    {
     "name": "stdout",
     "output_type": "stream",
     "text": [
      "  Country Code      Country       HDI  Total Cases  Total Deaths  \\\n",
      "0          AFG  Afghanistan  0.498000    5126433.0      165875.0   \n",
      "1          ALB      Albania  0.600765    1071951.0       31056.0   \n",
      "2          DZA      Algeria  0.754000    4893999.0      206429.0   \n",
      "3          AND      Andorra  0.659551     223576.0        9850.0   \n",
      "4          AGO       Angola  0.418952     304005.0       11820.0   \n",
      "\n",
      "   Stringency Index  Population  \n",
      "0          3.049673   17.477233  \n",
      "1          3.005624   14.872537  \n",
      "2          3.195168   17.596309  \n",
      "3          2.677654   11.254996  \n",
      "4          2.965560   17.307957  \n"
     ]
    }
   ],
   "source": [
    "code = data[\"CODE\"].unique().tolist()\n",
    "country = data[\"COUNTRY\"].unique().tolist()\n",
    "hdi = []\n",
    "tc = []\n",
    "td = []\n",
    "sti = []\n",
    "population = data[\"POP\"].unique().tolist()   #tolist() will used to data element to an array\n",
    "gdp = []\n",
    "\n",
    "for i in country:\n",
    "    hdi.append((data.loc[data[\"COUNTRY\"] == i, \"HDI\"]).sum()/294)\n",
    "    tc.append((data2.loc[data2[\"location\"] == i, \"total_cases\"]).sum())\n",
    "    td.append((data2.loc[data2[\"location\"] == i, \"total_deaths\"]).sum())\n",
    "    sti.append((data.loc[data[\"COUNTRY\"] == i, \"STI\"]).sum()/294)\n",
    "    population.append((data2.loc[data2[\"location\"] == i, \"population\"]).sum()/294)\n",
    "\n",
    "aggregated_data = pd.DataFrame(list(zip(code, country, hdi, tc, td, sti, population)), \n",
    "                               columns = [\"Country Code\", \"Country\", \"HDI\", \n",
    "                                          \"Total Cases\", \"Total Deaths\", \n",
    "                                          \"Stringency Index\", \"Population\"])\n",
    "print(aggregated_data.head())"
   ]
  },
  {
   "cell_type": "code",
   "execution_count": 9,
   "id": "060f6876",
   "metadata": {},
   "outputs": [
    {
     "name": "stdout",
     "output_type": "stream",
     "text": [
      "    Country Code        Country      HDI  Total Cases  Total Deaths  \\\n",
      "200          USA  United States  0.92400  746014098.0    26477574.0   \n",
      "27           BRA         Brazil  0.75900  425704517.0    14340567.0   \n",
      "90           IND          India  0.64000  407771615.0     7247327.0   \n",
      "157          RUS         Russia  0.81600  132888951.0     2131571.0   \n",
      "150          PER           Peru  0.59949   74882695.0     3020038.0   \n",
      "\n",
      "     Stringency Index  Population  \n",
      "200          3.350949   19.617637  \n",
      "27           3.136028   19.174732  \n",
      "90           3.610552   21.045353  \n",
      "157          3.380088   18.798668  \n",
      "150          3.430126   17.311165  \n"
     ]
    }
   ],
   "source": [
    "data = aggregated_data.sort_values(by=[\"Total Cases\"], ascending=False)\n",
    "print(data.head())"
   ]
  },
  {
   "cell_type": "markdown",
   "id": "8355a281",
   "metadata": {},
   "source": [
    "Top 10 countries have highest no o cases"
   ]
  },
  {
   "cell_type": "code",
   "execution_count": 10,
   "id": "5e5a5bb3",
   "metadata": {},
   "outputs": [
    {
     "data": {
      "text/html": [
       "<div>\n",
       "<style scoped>\n",
       "    .dataframe tbody tr th:only-of-type {\n",
       "        vertical-align: middle;\n",
       "    }\n",
       "\n",
       "    .dataframe tbody tr th {\n",
       "        vertical-align: top;\n",
       "    }\n",
       "\n",
       "    .dataframe thead th {\n",
       "        text-align: right;\n",
       "    }\n",
       "</style>\n",
       "<table border=\"1\" class=\"dataframe\">\n",
       "  <thead>\n",
       "    <tr style=\"text-align: right;\">\n",
       "      <th></th>\n",
       "      <th>Country Code</th>\n",
       "      <th>Country</th>\n",
       "      <th>HDI</th>\n",
       "      <th>Total Cases</th>\n",
       "      <th>Total Deaths</th>\n",
       "      <th>Stringency Index</th>\n",
       "      <th>Population</th>\n",
       "    </tr>\n",
       "  </thead>\n",
       "  <tbody>\n",
       "    <tr>\n",
       "      <th>200</th>\n",
       "      <td>USA</td>\n",
       "      <td>United States</td>\n",
       "      <td>0.92400</td>\n",
       "      <td>746014098.0</td>\n",
       "      <td>26477574.0</td>\n",
       "      <td>3.350949</td>\n",
       "      <td>19.617637</td>\n",
       "    </tr>\n",
       "    <tr>\n",
       "      <th>27</th>\n",
       "      <td>BRA</td>\n",
       "      <td>Brazil</td>\n",
       "      <td>0.75900</td>\n",
       "      <td>425704517.0</td>\n",
       "      <td>14340567.0</td>\n",
       "      <td>3.136028</td>\n",
       "      <td>19.174732</td>\n",
       "    </tr>\n",
       "    <tr>\n",
       "      <th>90</th>\n",
       "      <td>IND</td>\n",
       "      <td>India</td>\n",
       "      <td>0.64000</td>\n",
       "      <td>407771615.0</td>\n",
       "      <td>7247327.0</td>\n",
       "      <td>3.610552</td>\n",
       "      <td>21.045353</td>\n",
       "    </tr>\n",
       "    <tr>\n",
       "      <th>157</th>\n",
       "      <td>RUS</td>\n",
       "      <td>Russia</td>\n",
       "      <td>0.81600</td>\n",
       "      <td>132888951.0</td>\n",
       "      <td>2131571.0</td>\n",
       "      <td>3.380088</td>\n",
       "      <td>18.798668</td>\n",
       "    </tr>\n",
       "    <tr>\n",
       "      <th>150</th>\n",
       "      <td>PER</td>\n",
       "      <td>Peru</td>\n",
       "      <td>0.59949</td>\n",
       "      <td>74882695.0</td>\n",
       "      <td>3020038.0</td>\n",
       "      <td>3.430126</td>\n",
       "      <td>17.311165</td>\n",
       "    </tr>\n",
       "  </tbody>\n",
       "</table>\n",
       "</div>"
      ],
      "text/plain": [
       "    Country Code        Country      HDI  Total Cases  Total Deaths  \\\n",
       "200          USA  United States  0.92400  746014098.0    26477574.0   \n",
       "27           BRA         Brazil  0.75900  425704517.0    14340567.0   \n",
       "90           IND          India  0.64000  407771615.0     7247327.0   \n",
       "157          RUS         Russia  0.81600  132888951.0     2131571.0   \n",
       "150          PER           Peru  0.59949   74882695.0     3020038.0   \n",
       "\n",
       "     Stringency Index  Population  \n",
       "200          3.350949   19.617637  \n",
       "27           3.136028   19.174732  \n",
       "90           3.610552   21.045353  \n",
       "157          3.380088   18.798668  \n",
       "150          3.430126   17.311165  "
      ]
     },
     "execution_count": 10,
     "metadata": {},
     "output_type": "execute_result"
    }
   ],
   "source": [
    "data.head()"
   ]
  },
  {
   "cell_type": "markdown",
   "id": "8355edbc",
   "metadata": {},
   "source": [
    "# Analyzing the Spread of Covid-19\n"
   ]
  },
  {
   "cell_type": "code",
   "execution_count": 17,
   "id": "031122d6",
   "metadata": {},
   "outputs": [
    {
     "data": {
      "application/vnd.plotly.v1+json": {
       "config": {
        "plotlyServerURL": "https://plot.ly"
       },
       "data": [
        {
         "alignmentgroup": "True",
         "hovertemplate": "Country=%{x}<br>Total Cases=%{y}<extra></extra>",
         "legendgroup": "",
         "marker": {
          "color": "#636efa",
          "pattern": {
           "shape": ""
          }
         },
         "name": "",
         "offsetgroup": "",
         "orientation": "v",
         "showlegend": false,
         "textposition": "auto",
         "type": "bar",
         "x": [
          "United States",
          "Brazil",
          "India",
          "Russia",
          "Peru",
          "Mexico",
          "Spain",
          "South Africa",
          "Colombia",
          "United Kingdom",
          "Iran",
          "Chile",
          "Italy",
          "France",
          "Argentina",
          "Germany",
          "Turkey",
          "Saudi Arabia",
          "Pakistan",
          "Bangladesh",
          "Iraq",
          "Philippines",
          "China",
          "Indonesia",
          "Canada",
          "Qatar",
          "Israel",
          "Ukraine",
          "Belgium",
          "Ecuador",
          "Kazakhstan",
          "Netherlands",
          "Egypt",
          "Sweden",
          "Bolivia",
          "Romania",
          "Dominican Republic",
          "Kuwait",
          "Belarus",
          "Panama",
          "United Arab Emirates",
          "Oman",
          "Portugal",
          "Poland",
          "Singapore",
          "Morocco",
          "Japan",
          "Guatemala",
          "Switzerland",
          "Bahrain",
          "Honduras",
          "Nigeria",
          "Armenia",
          "Nepal",
          "Ireland",
          "Czech Republic",
          "Afghanistan",
          "Austria",
          "Ghana",
          "Algeria",
          "Ethiopia",
          "Venezuela",
          "Moldova",
          "Costa Rica",
          "Uzbekistan",
          "Kyrgyzstan",
          "Azerbaijan",
          "Serbia",
          "Puerto Rico",
          "South Korea",
          "Kenya",
          "Palestine",
          "Denmark",
          "Australia",
          "El Salvador",
          "Cameroon",
          "Paraguay",
          "Lebanon",
          "Bosnia and Herzegovina",
          "Cote d'Ivoire",
          "Norway",
          "Bulgaria",
          "Libya",
          "Malaysia",
          "Macedonia",
          "Hungary",
          "Sudan",
          "Senegal",
          "Finland",
          "Madagascar",
          "Greece",
          "Kosovo",
          "Croatia",
          "Democratic Republic of Congo",
          "Guinea",
          "Luxembourg",
          "Zambia",
          "Tajikistan",
          "Albania",
          "Gabon",
          "Haiti",
          "Tunisia",
          "Maldives",
          "Mauritania",
          "Slovakia",
          "Djibouti",
          "Jordan",
          "Namibia",
          "Montenegro",
          "Thailand",
          "Myanmar",
          "Zimbabwe",
          "Central African Republic",
          "Cuba",
          "Equatorial Guinea",
          "Slovenia",
          "Malawi",
          "Nicaragua",
          "Mozambique",
          "Somalia",
          "Lithuania",
          "Congo",
          "Cape Verde",
          "Uganda",
          "Sri Lanka",
          "Estonia",
          "Swaziland",
          "Georgia",
          "Iceland",
          "Mali",
          "Rwanda",
          "Jamaica",
          "Suriname",
          "South Sudan",
          "Guinea-Bissau",
          "Angola",
          "Sierra Leone",
          "Syria",
          "Latvia",
          "New Zealand",
          "Malta",
          "Benin",
          "Uruguay",
          "Bahamas",
          "Cyprus",
          "Burkina Faso",
          "Gambia",
          "Yemen",
          "Trinidad and Tobago",
          "Andorra",
          "Aruba",
          "Botswana",
          "Niger",
          "Togo",
          "Guyana",
          "Guam",
          "Liberia",
          "Chad",
          "San Marino",
          "Vietnam",
          "Sao Tome and Principe",
          "Lesotho",
          "Belize",
          "United States Virgin Islands",
          "Taiwan",
          "French Polynesia",
          "Tanzania",
          "Mauritius",
          "Jersey",
          "Isle of Man",
          "Faeroe Islands",
          "Comoros",
          "Guernsey",
          "Burundi",
          "Sint Maarten (Dutch part)",
          "Gibraltar",
          "Turks and Caicos Islands",
          "Mongolia",
          "Eritrea",
          "Cambodia",
          "Papua New Guinea",
          "Cayman Islands",
          "Brunei",
          "Bermuda",
          "Barbados",
          "Bhutan",
          "Monaco",
          "Liechtenstein",
          "Curacao",
          "Seychelles",
          "Antigua and Barbuda",
          "Saint Vincent and the Grenadines",
          "Northern Mariana Islands",
          "Bonaire Sint Eustatius and Saba",
          "Fiji",
          "Timor",
          "British Virgin Islands",
          "New Caledonia",
          "Grenada",
          "Saint Lucia",
          "Laos",
          "Dominica",
          "Saint Kitts and Nevis",
          "Greenland",
          "Falkland Islands",
          "Vatican",
          "Montserrat",
          "Anguilla",
          "Solomon Islands",
          "Hong Kong"
         ],
         "xaxis": "x",
         "y": [
          746014098,
          425704517,
          407771615,
          132888951,
          74882695,
          74347548,
          73717676,
          63027659,
          60543682,
          59475032,
          52421884,
          51268034,
          50752853,
          50084335,
          47155234,
          42447678,
          41431948,
          38585191,
          37738077,
          35266178,
          25280332,
          22409936,
          21632319,
          21570149,
          20902374,
          16351440,
          16202474,
          15805665,
          15192468,
          14408757,
          13194863,
          13026629,
          12422845,
          11910109,
          11858838,
          10672859,
          10649646,
          10622205,
          10595186,
          10371724,
          10247326,
          10060093,
          9266263,
          9239657,
          8191161,
          7839270,
          7659484,
          7644426,
          7552067,
          6549995,
          6545499,
          6107371,
          5474629,
          5243653,
          5239798,
          5213980,
          5126433,
          4909197,
          4900649,
          4893999,
          4876417,
          4839834,
          4632482,
          4631835,
          4421215,
          4287847,
          4236782,
          3984174,
          3586463,
          3333075,
          3277734,
          3249458,
          3030088,
          3012377,
          2573206,
          2476502,
          2265640,
          2220699,
          2200057,
          2132883,
          1985889,
          1890380,
          1817274,
          1774181,
          1724220,
          1708798,
          1663545,
          1586747,
          1458484,
          1443321,
          1421470,
          1345940,
          1314031,
          1271391,
          1195836,
          1146724,
          1129913,
          1117391,
          1071951,
          1031803,
          1023155,
          1000626,
          844040,
          799222,
          798665,
          781771,
          716514,
          681299,
          675912,
          655703,
          644209,
          593699,
          593048,
          581546,
          557355,
          547075,
          536447,
          524410,
          510578,
          491145,
          488057,
          473368,
          463888,
          448728,
          446643,
          445402,
          444238,
          431689,
          421210,
          390637,
          388775,
          370890,
          358632,
          333500,
          306564,
          304005,
          268396,
          267902,
          255964,
          253203,
          251261,
          245893,
          239884,
          237908,
          236673,
          231452,
          229521,
          228925,
          225550,
          223576,
          215110,
          205758,
          199978,
          169903,
          166917,
          160975,
          159880,
          154173,
          134994,
          122618,
          121909,
          107948,
          106383,
          98536,
          97074,
          95388,
          91526,
          69524,
          66777,
          64935,
          56893,
          52437,
          49814,
          49745,
          48026,
          45340,
          44432,
          42465,
          40026,
          39539,
          35966,
          33173,
          30140,
          28876,
          24998,
          22847,
          21511,
          19885,
          19777,
          14701,
          12619,
          7824,
          7784,
          5080,
          4742,
          4697,
          4605,
          4495,
          4470,
          4450,
          4039,
          3977,
          3246,
          2678,
          2467,
          2415,
          2383,
          614,
          11,
          0
         ],
         "yaxis": "y"
        }
       ],
       "layout": {
        "barmode": "relative",
        "legend": {
         "tracegroupgap": 0
        },
        "template": {
         "data": {
          "bar": [
           {
            "error_x": {
             "color": "#2a3f5f"
            },
            "error_y": {
             "color": "#2a3f5f"
            },
            "marker": {
             "line": {
              "color": "#E5ECF6",
              "width": 0.5
             },
             "pattern": {
              "fillmode": "overlay",
              "size": 10,
              "solidity": 0.2
             }
            },
            "type": "bar"
           }
          ],
          "barpolar": [
           {
            "marker": {
             "line": {
              "color": "#E5ECF6",
              "width": 0.5
             },
             "pattern": {
              "fillmode": "overlay",
              "size": 10,
              "solidity": 0.2
             }
            },
            "type": "barpolar"
           }
          ],
          "carpet": [
           {
            "aaxis": {
             "endlinecolor": "#2a3f5f",
             "gridcolor": "white",
             "linecolor": "white",
             "minorgridcolor": "white",
             "startlinecolor": "#2a3f5f"
            },
            "baxis": {
             "endlinecolor": "#2a3f5f",
             "gridcolor": "white",
             "linecolor": "white",
             "minorgridcolor": "white",
             "startlinecolor": "#2a3f5f"
            },
            "type": "carpet"
           }
          ],
          "choropleth": [
           {
            "colorbar": {
             "outlinewidth": 0,
             "ticks": ""
            },
            "type": "choropleth"
           }
          ],
          "contour": [
           {
            "colorbar": {
             "outlinewidth": 0,
             "ticks": ""
            },
            "colorscale": [
             [
              0,
              "#0d0887"
             ],
             [
              0.1111111111111111,
              "#46039f"
             ],
             [
              0.2222222222222222,
              "#7201a8"
             ],
             [
              0.3333333333333333,
              "#9c179e"
             ],
             [
              0.4444444444444444,
              "#bd3786"
             ],
             [
              0.5555555555555556,
              "#d8576b"
             ],
             [
              0.6666666666666666,
              "#ed7953"
             ],
             [
              0.7777777777777778,
              "#fb9f3a"
             ],
             [
              0.8888888888888888,
              "#fdca26"
             ],
             [
              1,
              "#f0f921"
             ]
            ],
            "type": "contour"
           }
          ],
          "contourcarpet": [
           {
            "colorbar": {
             "outlinewidth": 0,
             "ticks": ""
            },
            "type": "contourcarpet"
           }
          ],
          "heatmap": [
           {
            "colorbar": {
             "outlinewidth": 0,
             "ticks": ""
            },
            "colorscale": [
             [
              0,
              "#0d0887"
             ],
             [
              0.1111111111111111,
              "#46039f"
             ],
             [
              0.2222222222222222,
              "#7201a8"
             ],
             [
              0.3333333333333333,
              "#9c179e"
             ],
             [
              0.4444444444444444,
              "#bd3786"
             ],
             [
              0.5555555555555556,
              "#d8576b"
             ],
             [
              0.6666666666666666,
              "#ed7953"
             ],
             [
              0.7777777777777778,
              "#fb9f3a"
             ],
             [
              0.8888888888888888,
              "#fdca26"
             ],
             [
              1,
              "#f0f921"
             ]
            ],
            "type": "heatmap"
           }
          ],
          "heatmapgl": [
           {
            "colorbar": {
             "outlinewidth": 0,
             "ticks": ""
            },
            "colorscale": [
             [
              0,
              "#0d0887"
             ],
             [
              0.1111111111111111,
              "#46039f"
             ],
             [
              0.2222222222222222,
              "#7201a8"
             ],
             [
              0.3333333333333333,
              "#9c179e"
             ],
             [
              0.4444444444444444,
              "#bd3786"
             ],
             [
              0.5555555555555556,
              "#d8576b"
             ],
             [
              0.6666666666666666,
              "#ed7953"
             ],
             [
              0.7777777777777778,
              "#fb9f3a"
             ],
             [
              0.8888888888888888,
              "#fdca26"
             ],
             [
              1,
              "#f0f921"
             ]
            ],
            "type": "heatmapgl"
           }
          ],
          "histogram": [
           {
            "marker": {
             "pattern": {
              "fillmode": "overlay",
              "size": 10,
              "solidity": 0.2
             }
            },
            "type": "histogram"
           }
          ],
          "histogram2d": [
           {
            "colorbar": {
             "outlinewidth": 0,
             "ticks": ""
            },
            "colorscale": [
             [
              0,
              "#0d0887"
             ],
             [
              0.1111111111111111,
              "#46039f"
             ],
             [
              0.2222222222222222,
              "#7201a8"
             ],
             [
              0.3333333333333333,
              "#9c179e"
             ],
             [
              0.4444444444444444,
              "#bd3786"
             ],
             [
              0.5555555555555556,
              "#d8576b"
             ],
             [
              0.6666666666666666,
              "#ed7953"
             ],
             [
              0.7777777777777778,
              "#fb9f3a"
             ],
             [
              0.8888888888888888,
              "#fdca26"
             ],
             [
              1,
              "#f0f921"
             ]
            ],
            "type": "histogram2d"
           }
          ],
          "histogram2dcontour": [
           {
            "colorbar": {
             "outlinewidth": 0,
             "ticks": ""
            },
            "colorscale": [
             [
              0,
              "#0d0887"
             ],
             [
              0.1111111111111111,
              "#46039f"
             ],
             [
              0.2222222222222222,
              "#7201a8"
             ],
             [
              0.3333333333333333,
              "#9c179e"
             ],
             [
              0.4444444444444444,
              "#bd3786"
             ],
             [
              0.5555555555555556,
              "#d8576b"
             ],
             [
              0.6666666666666666,
              "#ed7953"
             ],
             [
              0.7777777777777778,
              "#fb9f3a"
             ],
             [
              0.8888888888888888,
              "#fdca26"
             ],
             [
              1,
              "#f0f921"
             ]
            ],
            "type": "histogram2dcontour"
           }
          ],
          "mesh3d": [
           {
            "colorbar": {
             "outlinewidth": 0,
             "ticks": ""
            },
            "type": "mesh3d"
           }
          ],
          "parcoords": [
           {
            "line": {
             "colorbar": {
              "outlinewidth": 0,
              "ticks": ""
             }
            },
            "type": "parcoords"
           }
          ],
          "pie": [
           {
            "automargin": true,
            "type": "pie"
           }
          ],
          "scatter": [
           {
            "fillpattern": {
             "fillmode": "overlay",
             "size": 10,
             "solidity": 0.2
            },
            "type": "scatter"
           }
          ],
          "scatter3d": [
           {
            "line": {
             "colorbar": {
              "outlinewidth": 0,
              "ticks": ""
             }
            },
            "marker": {
             "colorbar": {
              "outlinewidth": 0,
              "ticks": ""
             }
            },
            "type": "scatter3d"
           }
          ],
          "scattercarpet": [
           {
            "marker": {
             "colorbar": {
              "outlinewidth": 0,
              "ticks": ""
             }
            },
            "type": "scattercarpet"
           }
          ],
          "scattergeo": [
           {
            "marker": {
             "colorbar": {
              "outlinewidth": 0,
              "ticks": ""
             }
            },
            "type": "scattergeo"
           }
          ],
          "scattergl": [
           {
            "marker": {
             "colorbar": {
              "outlinewidth": 0,
              "ticks": ""
             }
            },
            "type": "scattergl"
           }
          ],
          "scattermapbox": [
           {
            "marker": {
             "colorbar": {
              "outlinewidth": 0,
              "ticks": ""
             }
            },
            "type": "scattermapbox"
           }
          ],
          "scatterpolar": [
           {
            "marker": {
             "colorbar": {
              "outlinewidth": 0,
              "ticks": ""
             }
            },
            "type": "scatterpolar"
           }
          ],
          "scatterpolargl": [
           {
            "marker": {
             "colorbar": {
              "outlinewidth": 0,
              "ticks": ""
             }
            },
            "type": "scatterpolargl"
           }
          ],
          "scatterternary": [
           {
            "marker": {
             "colorbar": {
              "outlinewidth": 0,
              "ticks": ""
             }
            },
            "type": "scatterternary"
           }
          ],
          "surface": [
           {
            "colorbar": {
             "outlinewidth": 0,
             "ticks": ""
            },
            "colorscale": [
             [
              0,
              "#0d0887"
             ],
             [
              0.1111111111111111,
              "#46039f"
             ],
             [
              0.2222222222222222,
              "#7201a8"
             ],
             [
              0.3333333333333333,
              "#9c179e"
             ],
             [
              0.4444444444444444,
              "#bd3786"
             ],
             [
              0.5555555555555556,
              "#d8576b"
             ],
             [
              0.6666666666666666,
              "#ed7953"
             ],
             [
              0.7777777777777778,
              "#fb9f3a"
             ],
             [
              0.8888888888888888,
              "#fdca26"
             ],
             [
              1,
              "#f0f921"
             ]
            ],
            "type": "surface"
           }
          ],
          "table": [
           {
            "cells": {
             "fill": {
              "color": "#EBF0F8"
             },
             "line": {
              "color": "white"
             }
            },
            "header": {
             "fill": {
              "color": "#C8D4E3"
             },
             "line": {
              "color": "white"
             }
            },
            "type": "table"
           }
          ]
         },
         "layout": {
          "annotationdefaults": {
           "arrowcolor": "#2a3f5f",
           "arrowhead": 0,
           "arrowwidth": 1
          },
          "autotypenumbers": "strict",
          "coloraxis": {
           "colorbar": {
            "outlinewidth": 0,
            "ticks": ""
           }
          },
          "colorscale": {
           "diverging": [
            [
             0,
             "#8e0152"
            ],
            [
             0.1,
             "#c51b7d"
            ],
            [
             0.2,
             "#de77ae"
            ],
            [
             0.3,
             "#f1b6da"
            ],
            [
             0.4,
             "#fde0ef"
            ],
            [
             0.5,
             "#f7f7f7"
            ],
            [
             0.6,
             "#e6f5d0"
            ],
            [
             0.7,
             "#b8e186"
            ],
            [
             0.8,
             "#7fbc41"
            ],
            [
             0.9,
             "#4d9221"
            ],
            [
             1,
             "#276419"
            ]
           ],
           "sequential": [
            [
             0,
             "#0d0887"
            ],
            [
             0.1111111111111111,
             "#46039f"
            ],
            [
             0.2222222222222222,
             "#7201a8"
            ],
            [
             0.3333333333333333,
             "#9c179e"
            ],
            [
             0.4444444444444444,
             "#bd3786"
            ],
            [
             0.5555555555555556,
             "#d8576b"
            ],
            [
             0.6666666666666666,
             "#ed7953"
            ],
            [
             0.7777777777777778,
             "#fb9f3a"
            ],
            [
             0.8888888888888888,
             "#fdca26"
            ],
            [
             1,
             "#f0f921"
            ]
           ],
           "sequentialminus": [
            [
             0,
             "#0d0887"
            ],
            [
             0.1111111111111111,
             "#46039f"
            ],
            [
             0.2222222222222222,
             "#7201a8"
            ],
            [
             0.3333333333333333,
             "#9c179e"
            ],
            [
             0.4444444444444444,
             "#bd3786"
            ],
            [
             0.5555555555555556,
             "#d8576b"
            ],
            [
             0.6666666666666666,
             "#ed7953"
            ],
            [
             0.7777777777777778,
             "#fb9f3a"
            ],
            [
             0.8888888888888888,
             "#fdca26"
            ],
            [
             1,
             "#f0f921"
            ]
           ]
          },
          "colorway": [
           "#636efa",
           "#EF553B",
           "#00cc96",
           "#ab63fa",
           "#FFA15A",
           "#19d3f3",
           "#FF6692",
           "#B6E880",
           "#FF97FF",
           "#FECB52"
          ],
          "font": {
           "color": "#2a3f5f"
          },
          "geo": {
           "bgcolor": "white",
           "lakecolor": "white",
           "landcolor": "#E5ECF6",
           "showlakes": true,
           "showland": true,
           "subunitcolor": "white"
          },
          "hoverlabel": {
           "align": "left"
          },
          "hovermode": "closest",
          "mapbox": {
           "style": "light"
          },
          "paper_bgcolor": "white",
          "plot_bgcolor": "#E5ECF6",
          "polar": {
           "angularaxis": {
            "gridcolor": "white",
            "linecolor": "white",
            "ticks": ""
           },
           "bgcolor": "#E5ECF6",
           "radialaxis": {
            "gridcolor": "white",
            "linecolor": "white",
            "ticks": ""
           }
          },
          "scene": {
           "xaxis": {
            "backgroundcolor": "#E5ECF6",
            "gridcolor": "white",
            "gridwidth": 2,
            "linecolor": "white",
            "showbackground": true,
            "ticks": "",
            "zerolinecolor": "white"
           },
           "yaxis": {
            "backgroundcolor": "#E5ECF6",
            "gridcolor": "white",
            "gridwidth": 2,
            "linecolor": "white",
            "showbackground": true,
            "ticks": "",
            "zerolinecolor": "white"
           },
           "zaxis": {
            "backgroundcolor": "#E5ECF6",
            "gridcolor": "white",
            "gridwidth": 2,
            "linecolor": "white",
            "showbackground": true,
            "ticks": "",
            "zerolinecolor": "white"
           }
          },
          "shapedefaults": {
           "line": {
            "color": "#2a3f5f"
           }
          },
          "ternary": {
           "aaxis": {
            "gridcolor": "white",
            "linecolor": "white",
            "ticks": ""
           },
           "baxis": {
            "gridcolor": "white",
            "linecolor": "white",
            "ticks": ""
           },
           "bgcolor": "#E5ECF6",
           "caxis": {
            "gridcolor": "white",
            "linecolor": "white",
            "ticks": ""
           }
          },
          "title": {
           "x": 0.05
          },
          "xaxis": {
           "automargin": true,
           "gridcolor": "white",
           "linecolor": "white",
           "ticks": "",
           "title": {
            "standoff": 15
           },
           "zerolinecolor": "white",
           "zerolinewidth": 2
          },
          "yaxis": {
           "automargin": true,
           "gridcolor": "white",
           "linecolor": "white",
           "ticks": "",
           "title": {
            "standoff": 15
           },
           "zerolinecolor": "white",
           "zerolinewidth": 2
          }
         }
        },
        "title": {
         "text": "Countries with Highest Covid Cases"
        },
        "xaxis": {
         "anchor": "y",
         "domain": [
          0,
          1
         ],
         "title": {
          "text": "Country"
         }
        },
        "yaxis": {
         "anchor": "x",
         "domain": [
          0,
          1
         ],
         "title": {
          "text": "Total Cases"
         }
        }
       }
      },
      "text/html": [
       "<div>                            <div id=\"3d1029d8-e013-4333-8722-98d52e2ac183\" class=\"plotly-graph-div\" style=\"height:525px; width:100%;\"></div>            <script type=\"text/javascript\">                require([\"plotly\"], function(Plotly) {                    window.PLOTLYENV=window.PLOTLYENV || {};                                    if (document.getElementById(\"3d1029d8-e013-4333-8722-98d52e2ac183\")) {                    Plotly.newPlot(                        \"3d1029d8-e013-4333-8722-98d52e2ac183\",                        [{\"alignmentgroup\":\"True\",\"hovertemplate\":\"Country=%{x}<br>Total Cases=%{y}<extra></extra>\",\"legendgroup\":\"\",\"marker\":{\"color\":\"#636efa\",\"pattern\":{\"shape\":\"\"}},\"name\":\"\",\"offsetgroup\":\"\",\"orientation\":\"v\",\"showlegend\":false,\"textposition\":\"auto\",\"x\":[\"United States\",\"Brazil\",\"India\",\"Russia\",\"Peru\",\"Mexico\",\"Spain\",\"South Africa\",\"Colombia\",\"United Kingdom\",\"Iran\",\"Chile\",\"Italy\",\"France\",\"Argentina\",\"Germany\",\"Turkey\",\"Saudi Arabia\",\"Pakistan\",\"Bangladesh\",\"Iraq\",\"Philippines\",\"China\",\"Indonesia\",\"Canada\",\"Qatar\",\"Israel\",\"Ukraine\",\"Belgium\",\"Ecuador\",\"Kazakhstan\",\"Netherlands\",\"Egypt\",\"Sweden\",\"Bolivia\",\"Romania\",\"Dominican Republic\",\"Kuwait\",\"Belarus\",\"Panama\",\"United Arab Emirates\",\"Oman\",\"Portugal\",\"Poland\",\"Singapore\",\"Morocco\",\"Japan\",\"Guatemala\",\"Switzerland\",\"Bahrain\",\"Honduras\",\"Nigeria\",\"Armenia\",\"Nepal\",\"Ireland\",\"Czech Republic\",\"Afghanistan\",\"Austria\",\"Ghana\",\"Algeria\",\"Ethiopia\",\"Venezuela\",\"Moldova\",\"Costa Rica\",\"Uzbekistan\",\"Kyrgyzstan\",\"Azerbaijan\",\"Serbia\",\"Puerto Rico\",\"South Korea\",\"Kenya\",\"Palestine\",\"Denmark\",\"Australia\",\"El Salvador\",\"Cameroon\",\"Paraguay\",\"Lebanon\",\"Bosnia and Herzegovina\",\"Cote d'Ivoire\",\"Norway\",\"Bulgaria\",\"Libya\",\"Malaysia\",\"Macedonia\",\"Hungary\",\"Sudan\",\"Senegal\",\"Finland\",\"Madagascar\",\"Greece\",\"Kosovo\",\"Croatia\",\"Democratic Republic of Congo\",\"Guinea\",\"Luxembourg\",\"Zambia\",\"Tajikistan\",\"Albania\",\"Gabon\",\"Haiti\",\"Tunisia\",\"Maldives\",\"Mauritania\",\"Slovakia\",\"Djibouti\",\"Jordan\",\"Namibia\",\"Montenegro\",\"Thailand\",\"Myanmar\",\"Zimbabwe\",\"Central African Republic\",\"Cuba\",\"Equatorial Guinea\",\"Slovenia\",\"Malawi\",\"Nicaragua\",\"Mozambique\",\"Somalia\",\"Lithuania\",\"Congo\",\"Cape Verde\",\"Uganda\",\"Sri Lanka\",\"Estonia\",\"Swaziland\",\"Georgia\",\"Iceland\",\"Mali\",\"Rwanda\",\"Jamaica\",\"Suriname\",\"South Sudan\",\"Guinea-Bissau\",\"Angola\",\"Sierra Leone\",\"Syria\",\"Latvia\",\"New Zealand\",\"Malta\",\"Benin\",\"Uruguay\",\"Bahamas\",\"Cyprus\",\"Burkina Faso\",\"Gambia\",\"Yemen\",\"Trinidad and Tobago\",\"Andorra\",\"Aruba\",\"Botswana\",\"Niger\",\"Togo\",\"Guyana\",\"Guam\",\"Liberia\",\"Chad\",\"San Marino\",\"Vietnam\",\"Sao Tome and Principe\",\"Lesotho\",\"Belize\",\"United States Virgin Islands\",\"Taiwan\",\"French Polynesia\",\"Tanzania\",\"Mauritius\",\"Jersey\",\"Isle of Man\",\"Faeroe Islands\",\"Comoros\",\"Guernsey\",\"Burundi\",\"Sint Maarten (Dutch part)\",\"Gibraltar\",\"Turks and Caicos Islands\",\"Mongolia\",\"Eritrea\",\"Cambodia\",\"Papua New Guinea\",\"Cayman Islands\",\"Brunei\",\"Bermuda\",\"Barbados\",\"Bhutan\",\"Monaco\",\"Liechtenstein\",\"Curacao\",\"Seychelles\",\"Antigua and Barbuda\",\"Saint Vincent and the Grenadines\",\"Northern Mariana Islands\",\"Bonaire Sint Eustatius and Saba\",\"Fiji\",\"Timor\",\"British Virgin Islands\",\"New Caledonia\",\"Grenada\",\"Saint Lucia\",\"Laos\",\"Dominica\",\"Saint Kitts and Nevis\",\"Greenland\",\"Falkland Islands\",\"Vatican\",\"Montserrat\",\"Anguilla\",\"Solomon Islands\",\"Hong Kong\"],\"xaxis\":\"x\",\"y\":[746014098.0,425704517.0,407771615.0,132888951.0,74882695.0,74347548.0,73717676.0,63027659.0,60543682.0,59475032.0,52421884.0,51268034.0,50752853.0,50084335.0,47155234.0,42447678.0,41431948.0,38585191.0,37738077.0,35266178.0,25280332.0,22409936.0,21632319.0,21570149.0,20902374.0,16351440.0,16202474.0,15805665.0,15192468.0,14408757.0,13194863.0,13026629.0,12422845.0,11910109.0,11858838.0,10672859.0,10649646.0,10622205.0,10595186.0,10371724.0,10247326.0,10060093.0,9266263.0,9239657.0,8191161.0,7839270.0,7659484.0,7644426.0,7552067.0,6549995.0,6545499.0,6107371.0,5474629.0,5243653.0,5239798.0,5213980.0,5126433.0,4909197.0,4900649.0,4893999.0,4876417.0,4839834.0,4632482.0,4631835.0,4421215.0,4287847.0,4236782.0,3984174.0,3586463.0,3333075.0,3277734.0,3249458.0,3030088.0,3012377.0,2573206.0,2476502.0,2265640.0,2220699.0,2200057.0,2132883.0,1985889.0,1890380.0,1817274.0,1774181.0,1724220.0,1708798.0,1663545.0,1586747.0,1458484.0,1443321.0,1421470.0,1345940.0,1314031.0,1271391.0,1195836.0,1146724.0,1129913.0,1117391.0,1071951.0,1031803.0,1023155.0,1000626.0,844040.0,799222.0,798665.0,781771.0,716514.0,681299.0,675912.0,655703.0,644209.0,593699.0,593048.0,581546.0,557355.0,547075.0,536447.0,524410.0,510578.0,491145.0,488057.0,473368.0,463888.0,448728.0,446643.0,445402.0,444238.0,431689.0,421210.0,390637.0,388775.0,370890.0,358632.0,333500.0,306564.0,304005.0,268396.0,267902.0,255964.0,253203.0,251261.0,245893.0,239884.0,237908.0,236673.0,231452.0,229521.0,228925.0,225550.0,223576.0,215110.0,205758.0,199978.0,169903.0,166917.0,160975.0,159880.0,154173.0,134994.0,122618.0,121909.0,107948.0,106383.0,98536.0,97074.0,95388.0,91526.0,69524.0,66777.0,64935.0,56893.0,52437.0,49814.0,49745.0,48026.0,45340.0,44432.0,42465.0,40026.0,39539.0,35966.0,33173.0,30140.0,28876.0,24998.0,22847.0,21511.0,19885.0,19777.0,14701.0,12619.0,7824.0,7784.0,5080.0,4742.0,4697.0,4605.0,4495.0,4470.0,4450.0,4039.0,3977.0,3246.0,2678.0,2467.0,2415.0,2383.0,614.0,11.0,0.0],\"yaxis\":\"y\",\"type\":\"bar\"}],                        {\"template\":{\"data\":{\"histogram2dcontour\":[{\"type\":\"histogram2dcontour\",\"colorbar\":{\"outlinewidth\":0,\"ticks\":\"\"},\"colorscale\":[[0.0,\"#0d0887\"],[0.1111111111111111,\"#46039f\"],[0.2222222222222222,\"#7201a8\"],[0.3333333333333333,\"#9c179e\"],[0.4444444444444444,\"#bd3786\"],[0.5555555555555556,\"#d8576b\"],[0.6666666666666666,\"#ed7953\"],[0.7777777777777778,\"#fb9f3a\"],[0.8888888888888888,\"#fdca26\"],[1.0,\"#f0f921\"]]}],\"choropleth\":[{\"type\":\"choropleth\",\"colorbar\":{\"outlinewidth\":0,\"ticks\":\"\"}}],\"histogram2d\":[{\"type\":\"histogram2d\",\"colorbar\":{\"outlinewidth\":0,\"ticks\":\"\"},\"colorscale\":[[0.0,\"#0d0887\"],[0.1111111111111111,\"#46039f\"],[0.2222222222222222,\"#7201a8\"],[0.3333333333333333,\"#9c179e\"],[0.4444444444444444,\"#bd3786\"],[0.5555555555555556,\"#d8576b\"],[0.6666666666666666,\"#ed7953\"],[0.7777777777777778,\"#fb9f3a\"],[0.8888888888888888,\"#fdca26\"],[1.0,\"#f0f921\"]]}],\"heatmap\":[{\"type\":\"heatmap\",\"colorbar\":{\"outlinewidth\":0,\"ticks\":\"\"},\"colorscale\":[[0.0,\"#0d0887\"],[0.1111111111111111,\"#46039f\"],[0.2222222222222222,\"#7201a8\"],[0.3333333333333333,\"#9c179e\"],[0.4444444444444444,\"#bd3786\"],[0.5555555555555556,\"#d8576b\"],[0.6666666666666666,\"#ed7953\"],[0.7777777777777778,\"#fb9f3a\"],[0.8888888888888888,\"#fdca26\"],[1.0,\"#f0f921\"]]}],\"heatmapgl\":[{\"type\":\"heatmapgl\",\"colorbar\":{\"outlinewidth\":0,\"ticks\":\"\"},\"colorscale\":[[0.0,\"#0d0887\"],[0.1111111111111111,\"#46039f\"],[0.2222222222222222,\"#7201a8\"],[0.3333333333333333,\"#9c179e\"],[0.4444444444444444,\"#bd3786\"],[0.5555555555555556,\"#d8576b\"],[0.6666666666666666,\"#ed7953\"],[0.7777777777777778,\"#fb9f3a\"],[0.8888888888888888,\"#fdca26\"],[1.0,\"#f0f921\"]]}],\"contourcarpet\":[{\"type\":\"contourcarpet\",\"colorbar\":{\"outlinewidth\":0,\"ticks\":\"\"}}],\"contour\":[{\"type\":\"contour\",\"colorbar\":{\"outlinewidth\":0,\"ticks\":\"\"},\"colorscale\":[[0.0,\"#0d0887\"],[0.1111111111111111,\"#46039f\"],[0.2222222222222222,\"#7201a8\"],[0.3333333333333333,\"#9c179e\"],[0.4444444444444444,\"#bd3786\"],[0.5555555555555556,\"#d8576b\"],[0.6666666666666666,\"#ed7953\"],[0.7777777777777778,\"#fb9f3a\"],[0.8888888888888888,\"#fdca26\"],[1.0,\"#f0f921\"]]}],\"surface\":[{\"type\":\"surface\",\"colorbar\":{\"outlinewidth\":0,\"ticks\":\"\"},\"colorscale\":[[0.0,\"#0d0887\"],[0.1111111111111111,\"#46039f\"],[0.2222222222222222,\"#7201a8\"],[0.3333333333333333,\"#9c179e\"],[0.4444444444444444,\"#bd3786\"],[0.5555555555555556,\"#d8576b\"],[0.6666666666666666,\"#ed7953\"],[0.7777777777777778,\"#fb9f3a\"],[0.8888888888888888,\"#fdca26\"],[1.0,\"#f0f921\"]]}],\"mesh3d\":[{\"type\":\"mesh3d\",\"colorbar\":{\"outlinewidth\":0,\"ticks\":\"\"}}],\"scatter\":[{\"fillpattern\":{\"fillmode\":\"overlay\",\"size\":10,\"solidity\":0.2},\"type\":\"scatter\"}],\"parcoords\":[{\"type\":\"parcoords\",\"line\":{\"colorbar\":{\"outlinewidth\":0,\"ticks\":\"\"}}}],\"scatterpolargl\":[{\"type\":\"scatterpolargl\",\"marker\":{\"colorbar\":{\"outlinewidth\":0,\"ticks\":\"\"}}}],\"bar\":[{\"error_x\":{\"color\":\"#2a3f5f\"},\"error_y\":{\"color\":\"#2a3f5f\"},\"marker\":{\"line\":{\"color\":\"#E5ECF6\",\"width\":0.5},\"pattern\":{\"fillmode\":\"overlay\",\"size\":10,\"solidity\":0.2}},\"type\":\"bar\"}],\"scattergeo\":[{\"type\":\"scattergeo\",\"marker\":{\"colorbar\":{\"outlinewidth\":0,\"ticks\":\"\"}}}],\"scatterpolar\":[{\"type\":\"scatterpolar\",\"marker\":{\"colorbar\":{\"outlinewidth\":0,\"ticks\":\"\"}}}],\"histogram\":[{\"marker\":{\"pattern\":{\"fillmode\":\"overlay\",\"size\":10,\"solidity\":0.2}},\"type\":\"histogram\"}],\"scattergl\":[{\"type\":\"scattergl\",\"marker\":{\"colorbar\":{\"outlinewidth\":0,\"ticks\":\"\"}}}],\"scatter3d\":[{\"type\":\"scatter3d\",\"line\":{\"colorbar\":{\"outlinewidth\":0,\"ticks\":\"\"}},\"marker\":{\"colorbar\":{\"outlinewidth\":0,\"ticks\":\"\"}}}],\"scattermapbox\":[{\"type\":\"scattermapbox\",\"marker\":{\"colorbar\":{\"outlinewidth\":0,\"ticks\":\"\"}}}],\"scatterternary\":[{\"type\":\"scatterternary\",\"marker\":{\"colorbar\":{\"outlinewidth\":0,\"ticks\":\"\"}}}],\"scattercarpet\":[{\"type\":\"scattercarpet\",\"marker\":{\"colorbar\":{\"outlinewidth\":0,\"ticks\":\"\"}}}],\"carpet\":[{\"aaxis\":{\"endlinecolor\":\"#2a3f5f\",\"gridcolor\":\"white\",\"linecolor\":\"white\",\"minorgridcolor\":\"white\",\"startlinecolor\":\"#2a3f5f\"},\"baxis\":{\"endlinecolor\":\"#2a3f5f\",\"gridcolor\":\"white\",\"linecolor\":\"white\",\"minorgridcolor\":\"white\",\"startlinecolor\":\"#2a3f5f\"},\"type\":\"carpet\"}],\"table\":[{\"cells\":{\"fill\":{\"color\":\"#EBF0F8\"},\"line\":{\"color\":\"white\"}},\"header\":{\"fill\":{\"color\":\"#C8D4E3\"},\"line\":{\"color\":\"white\"}},\"type\":\"table\"}],\"barpolar\":[{\"marker\":{\"line\":{\"color\":\"#E5ECF6\",\"width\":0.5},\"pattern\":{\"fillmode\":\"overlay\",\"size\":10,\"solidity\":0.2}},\"type\":\"barpolar\"}],\"pie\":[{\"automargin\":true,\"type\":\"pie\"}]},\"layout\":{\"autotypenumbers\":\"strict\",\"colorway\":[\"#636efa\",\"#EF553B\",\"#00cc96\",\"#ab63fa\",\"#FFA15A\",\"#19d3f3\",\"#FF6692\",\"#B6E880\",\"#FF97FF\",\"#FECB52\"],\"font\":{\"color\":\"#2a3f5f\"},\"hovermode\":\"closest\",\"hoverlabel\":{\"align\":\"left\"},\"paper_bgcolor\":\"white\",\"plot_bgcolor\":\"#E5ECF6\",\"polar\":{\"bgcolor\":\"#E5ECF6\",\"angularaxis\":{\"gridcolor\":\"white\",\"linecolor\":\"white\",\"ticks\":\"\"},\"radialaxis\":{\"gridcolor\":\"white\",\"linecolor\":\"white\",\"ticks\":\"\"}},\"ternary\":{\"bgcolor\":\"#E5ECF6\",\"aaxis\":{\"gridcolor\":\"white\",\"linecolor\":\"white\",\"ticks\":\"\"},\"baxis\":{\"gridcolor\":\"white\",\"linecolor\":\"white\",\"ticks\":\"\"},\"caxis\":{\"gridcolor\":\"white\",\"linecolor\":\"white\",\"ticks\":\"\"}},\"coloraxis\":{\"colorbar\":{\"outlinewidth\":0,\"ticks\":\"\"}},\"colorscale\":{\"sequential\":[[0.0,\"#0d0887\"],[0.1111111111111111,\"#46039f\"],[0.2222222222222222,\"#7201a8\"],[0.3333333333333333,\"#9c179e\"],[0.4444444444444444,\"#bd3786\"],[0.5555555555555556,\"#d8576b\"],[0.6666666666666666,\"#ed7953\"],[0.7777777777777778,\"#fb9f3a\"],[0.8888888888888888,\"#fdca26\"],[1.0,\"#f0f921\"]],\"sequentialminus\":[[0.0,\"#0d0887\"],[0.1111111111111111,\"#46039f\"],[0.2222222222222222,\"#7201a8\"],[0.3333333333333333,\"#9c179e\"],[0.4444444444444444,\"#bd3786\"],[0.5555555555555556,\"#d8576b\"],[0.6666666666666666,\"#ed7953\"],[0.7777777777777778,\"#fb9f3a\"],[0.8888888888888888,\"#fdca26\"],[1.0,\"#f0f921\"]],\"diverging\":[[0,\"#8e0152\"],[0.1,\"#c51b7d\"],[0.2,\"#de77ae\"],[0.3,\"#f1b6da\"],[0.4,\"#fde0ef\"],[0.5,\"#f7f7f7\"],[0.6,\"#e6f5d0\"],[0.7,\"#b8e186\"],[0.8,\"#7fbc41\"],[0.9,\"#4d9221\"],[1,\"#276419\"]]},\"xaxis\":{\"gridcolor\":\"white\",\"linecolor\":\"white\",\"ticks\":\"\",\"title\":{\"standoff\":15},\"zerolinecolor\":\"white\",\"automargin\":true,\"zerolinewidth\":2},\"yaxis\":{\"gridcolor\":\"white\",\"linecolor\":\"white\",\"ticks\":\"\",\"title\":{\"standoff\":15},\"zerolinecolor\":\"white\",\"automargin\":true,\"zerolinewidth\":2},\"scene\":{\"xaxis\":{\"backgroundcolor\":\"#E5ECF6\",\"gridcolor\":\"white\",\"linecolor\":\"white\",\"showbackground\":true,\"ticks\":\"\",\"zerolinecolor\":\"white\",\"gridwidth\":2},\"yaxis\":{\"backgroundcolor\":\"#E5ECF6\",\"gridcolor\":\"white\",\"linecolor\":\"white\",\"showbackground\":true,\"ticks\":\"\",\"zerolinecolor\":\"white\",\"gridwidth\":2},\"zaxis\":{\"backgroundcolor\":\"#E5ECF6\",\"gridcolor\":\"white\",\"linecolor\":\"white\",\"showbackground\":true,\"ticks\":\"\",\"zerolinecolor\":\"white\",\"gridwidth\":2}},\"shapedefaults\":{\"line\":{\"color\":\"#2a3f5f\"}},\"annotationdefaults\":{\"arrowcolor\":\"#2a3f5f\",\"arrowhead\":0,\"arrowwidth\":1},\"geo\":{\"bgcolor\":\"white\",\"landcolor\":\"#E5ECF6\",\"subunitcolor\":\"white\",\"showland\":true,\"showlakes\":true,\"lakecolor\":\"white\"},\"title\":{\"x\":0.05},\"mapbox\":{\"style\":\"light\"}}},\"xaxis\":{\"anchor\":\"y\",\"domain\":[0.0,1.0],\"title\":{\"text\":\"Country\"}},\"yaxis\":{\"anchor\":\"x\",\"domain\":[0.0,1.0],\"title\":{\"text\":\"Total Cases\"}},\"legend\":{\"tracegroupgap\":0},\"title\":{\"text\":\"Countries with Highest Covid Cases\"},\"barmode\":\"relative\"},                        {\"responsive\": true}                    ).then(function(){\n",
       "                            \n",
       "var gd = document.getElementById('3d1029d8-e013-4333-8722-98d52e2ac183');\n",
       "var x = new MutationObserver(function (mutations, observer) {{\n",
       "        var display = window.getComputedStyle(gd).display;\n",
       "        if (!display || display === 'none') {{\n",
       "            console.log([gd, 'removed!']);\n",
       "            Plotly.purge(gd);\n",
       "            observer.disconnect();\n",
       "        }}\n",
       "}});\n",
       "\n",
       "// Listen for the removal of the full notebook cells\n",
       "var notebookContainer = gd.closest('#notebook-container');\n",
       "if (notebookContainer) {{\n",
       "    x.observe(notebookContainer, {childList: true});\n",
       "}}\n",
       "\n",
       "// Listen for the clearing of the current output cell\n",
       "var outputEl = gd.closest('.output');\n",
       "if (outputEl) {{\n",
       "    x.observe(outputEl, {childList: true});\n",
       "}}\n",
       "\n",
       "                        })                };                });            </script>        </div>"
      ]
     },
     "metadata": {},
     "output_type": "display_data"
    }
   ],
   "source": [
    "figure = px.bar(data, y='Total Cases', x='Country',\n",
    "            title=\"Countries with Highest Covid Cases\")\n",
    "figure.show()"
   ]
  },
  {
   "cell_type": "markdown",
   "id": "761628f1",
   "metadata": {},
   "source": [
    "Here we can see US , Brazil and India have the highest no of covid cases"
   ]
  },
  {
   "cell_type": "code",
   "execution_count": 12,
   "id": "ae5d3c78",
   "metadata": {},
   "outputs": [
    {
     "data": {
      "application/vnd.plotly.v1+json": {
       "config": {
        "plotlyServerURL": "https://plot.ly"
       },
       "data": [
        {
         "alignmentgroup": "True",
         "hovertemplate": "Country=%{x}<br>Total Deaths=%{y}<extra></extra>",
         "legendgroup": "",
         "marker": {
          "color": "#636efa",
          "pattern": {
           "shape": ""
          }
         },
         "name": "",
         "offsetgroup": "",
         "orientation": "v",
         "showlegend": false,
         "textposition": "auto",
         "type": "bar",
         "x": [
          "United States",
          "Brazil",
          "India",
          "Russia",
          "Peru",
          "Mexico",
          "Spain",
          "South Africa",
          "Colombia",
          "United Kingdom",
          "Iran",
          "Chile",
          "Italy",
          "France",
          "Argentina",
          "Germany",
          "Turkey",
          "Saudi Arabia",
          "Pakistan",
          "Bangladesh",
          "Iraq",
          "Philippines",
          "China",
          "Indonesia",
          "Canada",
          "Qatar",
          "Israel",
          "Ukraine",
          "Belgium",
          "Ecuador",
          "Kazakhstan",
          "Netherlands",
          "Egypt",
          "Sweden",
          "Bolivia",
          "Romania",
          "Dominican Republic",
          "Kuwait",
          "Belarus",
          "Panama",
          "United Arab Emirates",
          "Oman",
          "Portugal",
          "Poland",
          "Singapore",
          "Morocco",
          "Japan",
          "Guatemala",
          "Switzerland",
          "Bahrain",
          "Honduras",
          "Nigeria",
          "Armenia",
          "Nepal",
          "Ireland",
          "Czech Republic",
          "Afghanistan",
          "Austria",
          "Ghana",
          "Algeria",
          "Ethiopia",
          "Venezuela",
          "Moldova",
          "Costa Rica",
          "Uzbekistan",
          "Kyrgyzstan",
          "Azerbaijan",
          "Serbia",
          "Puerto Rico",
          "South Korea",
          "Kenya",
          "Palestine",
          "Denmark",
          "Australia",
          "El Salvador",
          "Cameroon",
          "Paraguay",
          "Lebanon",
          "Bosnia and Herzegovina",
          "Cote d'Ivoire",
          "Norway",
          "Bulgaria",
          "Libya",
          "Malaysia",
          "Macedonia",
          "Hungary",
          "Sudan",
          "Senegal",
          "Finland",
          "Madagascar",
          "Greece",
          "Kosovo",
          "Croatia",
          "Democratic Republic of Congo",
          "Guinea",
          "Luxembourg",
          "Zambia",
          "Tajikistan",
          "Albania",
          "Gabon",
          "Haiti",
          "Tunisia",
          "Maldives",
          "Mauritania",
          "Slovakia",
          "Djibouti",
          "Jordan",
          "Namibia",
          "Montenegro",
          "Thailand",
          "Myanmar",
          "Zimbabwe",
          "Central African Republic",
          "Cuba",
          "Equatorial Guinea",
          "Slovenia",
          "Malawi",
          "Nicaragua",
          "Mozambique",
          "Somalia",
          "Lithuania",
          "Congo",
          "Cape Verde",
          "Uganda",
          "Sri Lanka",
          "Estonia",
          "Swaziland",
          "Georgia",
          "Iceland",
          "Mali",
          "Rwanda",
          "Jamaica",
          "Suriname",
          "South Sudan",
          "Guinea-Bissau",
          "Angola",
          "Sierra Leone",
          "Syria",
          "Latvia",
          "New Zealand",
          "Malta",
          "Benin",
          "Uruguay",
          "Bahamas",
          "Cyprus",
          "Burkina Faso",
          "Gambia",
          "Yemen",
          "Trinidad and Tobago",
          "Andorra",
          "Aruba",
          "Botswana",
          "Niger",
          "Togo",
          "Guyana",
          "Guam",
          "Liberia",
          "Chad",
          "San Marino",
          "Vietnam",
          "Sao Tome and Principe",
          "Lesotho",
          "Belize",
          "United States Virgin Islands",
          "Taiwan",
          "French Polynesia",
          "Tanzania",
          "Mauritius",
          "Jersey",
          "Isle of Man",
          "Faeroe Islands",
          "Comoros",
          "Guernsey",
          "Burundi",
          "Sint Maarten (Dutch part)",
          "Gibraltar",
          "Turks and Caicos Islands",
          "Mongolia",
          "Eritrea",
          "Cambodia",
          "Papua New Guinea",
          "Cayman Islands",
          "Brunei",
          "Bermuda",
          "Barbados",
          "Bhutan",
          "Monaco",
          "Liechtenstein",
          "Curacao",
          "Seychelles",
          "Antigua and Barbuda",
          "Saint Vincent and the Grenadines",
          "Northern Mariana Islands",
          "Bonaire Sint Eustatius and Saba",
          "Fiji",
          "Timor",
          "British Virgin Islands",
          "New Caledonia",
          "Grenada",
          "Saint Lucia",
          "Laos",
          "Dominica",
          "Saint Kitts and Nevis",
          "Greenland",
          "Falkland Islands",
          "Vatican",
          "Montserrat",
          "Anguilla",
          "Solomon Islands",
          "Hong Kong"
         ],
         "xaxis": "x",
         "y": [
          26477574,
          14340567,
          7247327,
          2131571,
          3020038,
          7295850,
          5510624,
          1357682,
          1936134,
          7249573,
          2914070,
          1283880,
          6664225,
          5633444,
          1077426,
          1640691,
          1049757,
          442507,
          789557,
          484534,
          744253,
          448665,
          1066939,
          916111,
          1455549,
          23820,
          126278,
          343334,
          1798461,
          1083749,
          161480,
          1142410,
          644416,
          941063,
          578559,
          464952,
          209024,
          69104,
          88409,
          222435,
          58035,
          73391,
          302612,
          304001,
          4691,
          142270,
          194918,
          281588,
          320693,
          22413,
          200844,
          125473,
          102039,
          27737,
          310201,
          79880,
          165875,
          134945,
          29143,
          206429,
          77686,
          40840,
          129946,
          50352,
          31903,
          114922,
          59495,
          87503,
          54940,
          63333,
          59485,
          21522,
          113280,
          65029,
          71957,
          56606,
          42850,
          22983,
          70578,
          14220,
          47158,
          72850,
          29730,
          24012,
          74066,
          110142,
          102825,
          30320,
          58377,
          17744,
          44805,
          47571,
          28757,
          32040,
          7283,
          21907,
          26475,
          9730,
          31056,
          6877,
          23891,
          19025,
          3054,
          19810,
          6055,
          8006,
          5653,
          6634,
          11356,
          11162,
          13973,
          15984,
          7108,
          16774,
          8947,
          22165,
          15480,
          16410,
          3396,
          15001,
          14345,
          9298,
          4749,
          3748,
          2108,
          11802,
          8179,
          4013,
          1968,
          18813,
          1744,
          5653,
          6961,
          6063,
          4199,
          11820,
          10036,
          12098,
          5376,
          4145,
          2409,
          4374,
          6083,
          5998,
          3735,
          10248,
          7201,
          64304,
          4519,
          9850,
          1624,
          895,
          11676,
          4197,
          5783,
          2715,
          10087,
          12212,
          8596,
          2318,
          2198,
          2680,
          1613,
          1833,
          1423,
          260,
          3733,
          1988,
          5527,
          4310,
          0,
          920,
          2450,
          188,
          3146,
          0,
          476,
          0,
          0,
          0,
          417,
          213,
          475,
          1631,
          1321,
          0,
          192,
          198,
          207,
          0,
          568,
          0,
          396,
          48,
          132,
          0,
          183,
          0,
          0,
          0,
          0,
          0,
          0,
          0,
          0,
          0,
          177,
          0,
          0,
          0
         ],
         "yaxis": "y"
        }
       ],
       "layout": {
        "barmode": "relative",
        "legend": {
         "tracegroupgap": 0
        },
        "template": {
         "data": {
          "bar": [
           {
            "error_x": {
             "color": "#2a3f5f"
            },
            "error_y": {
             "color": "#2a3f5f"
            },
            "marker": {
             "line": {
              "color": "#E5ECF6",
              "width": 0.5
             },
             "pattern": {
              "fillmode": "overlay",
              "size": 10,
              "solidity": 0.2
             }
            },
            "type": "bar"
           }
          ],
          "barpolar": [
           {
            "marker": {
             "line": {
              "color": "#E5ECF6",
              "width": 0.5
             },
             "pattern": {
              "fillmode": "overlay",
              "size": 10,
              "solidity": 0.2
             }
            },
            "type": "barpolar"
           }
          ],
          "carpet": [
           {
            "aaxis": {
             "endlinecolor": "#2a3f5f",
             "gridcolor": "white",
             "linecolor": "white",
             "minorgridcolor": "white",
             "startlinecolor": "#2a3f5f"
            },
            "baxis": {
             "endlinecolor": "#2a3f5f",
             "gridcolor": "white",
             "linecolor": "white",
             "minorgridcolor": "white",
             "startlinecolor": "#2a3f5f"
            },
            "type": "carpet"
           }
          ],
          "choropleth": [
           {
            "colorbar": {
             "outlinewidth": 0,
             "ticks": ""
            },
            "type": "choropleth"
           }
          ],
          "contour": [
           {
            "colorbar": {
             "outlinewidth": 0,
             "ticks": ""
            },
            "colorscale": [
             [
              0,
              "#0d0887"
             ],
             [
              0.1111111111111111,
              "#46039f"
             ],
             [
              0.2222222222222222,
              "#7201a8"
             ],
             [
              0.3333333333333333,
              "#9c179e"
             ],
             [
              0.4444444444444444,
              "#bd3786"
             ],
             [
              0.5555555555555556,
              "#d8576b"
             ],
             [
              0.6666666666666666,
              "#ed7953"
             ],
             [
              0.7777777777777778,
              "#fb9f3a"
             ],
             [
              0.8888888888888888,
              "#fdca26"
             ],
             [
              1,
              "#f0f921"
             ]
            ],
            "type": "contour"
           }
          ],
          "contourcarpet": [
           {
            "colorbar": {
             "outlinewidth": 0,
             "ticks": ""
            },
            "type": "contourcarpet"
           }
          ],
          "heatmap": [
           {
            "colorbar": {
             "outlinewidth": 0,
             "ticks": ""
            },
            "colorscale": [
             [
              0,
              "#0d0887"
             ],
             [
              0.1111111111111111,
              "#46039f"
             ],
             [
              0.2222222222222222,
              "#7201a8"
             ],
             [
              0.3333333333333333,
              "#9c179e"
             ],
             [
              0.4444444444444444,
              "#bd3786"
             ],
             [
              0.5555555555555556,
              "#d8576b"
             ],
             [
              0.6666666666666666,
              "#ed7953"
             ],
             [
              0.7777777777777778,
              "#fb9f3a"
             ],
             [
              0.8888888888888888,
              "#fdca26"
             ],
             [
              1,
              "#f0f921"
             ]
            ],
            "type": "heatmap"
           }
          ],
          "heatmapgl": [
           {
            "colorbar": {
             "outlinewidth": 0,
             "ticks": ""
            },
            "colorscale": [
             [
              0,
              "#0d0887"
             ],
             [
              0.1111111111111111,
              "#46039f"
             ],
             [
              0.2222222222222222,
              "#7201a8"
             ],
             [
              0.3333333333333333,
              "#9c179e"
             ],
             [
              0.4444444444444444,
              "#bd3786"
             ],
             [
              0.5555555555555556,
              "#d8576b"
             ],
             [
              0.6666666666666666,
              "#ed7953"
             ],
             [
              0.7777777777777778,
              "#fb9f3a"
             ],
             [
              0.8888888888888888,
              "#fdca26"
             ],
             [
              1,
              "#f0f921"
             ]
            ],
            "type": "heatmapgl"
           }
          ],
          "histogram": [
           {
            "marker": {
             "pattern": {
              "fillmode": "overlay",
              "size": 10,
              "solidity": 0.2
             }
            },
            "type": "histogram"
           }
          ],
          "histogram2d": [
           {
            "colorbar": {
             "outlinewidth": 0,
             "ticks": ""
            },
            "colorscale": [
             [
              0,
              "#0d0887"
             ],
             [
              0.1111111111111111,
              "#46039f"
             ],
             [
              0.2222222222222222,
              "#7201a8"
             ],
             [
              0.3333333333333333,
              "#9c179e"
             ],
             [
              0.4444444444444444,
              "#bd3786"
             ],
             [
              0.5555555555555556,
              "#d8576b"
             ],
             [
              0.6666666666666666,
              "#ed7953"
             ],
             [
              0.7777777777777778,
              "#fb9f3a"
             ],
             [
              0.8888888888888888,
              "#fdca26"
             ],
             [
              1,
              "#f0f921"
             ]
            ],
            "type": "histogram2d"
           }
          ],
          "histogram2dcontour": [
           {
            "colorbar": {
             "outlinewidth": 0,
             "ticks": ""
            },
            "colorscale": [
             [
              0,
              "#0d0887"
             ],
             [
              0.1111111111111111,
              "#46039f"
             ],
             [
              0.2222222222222222,
              "#7201a8"
             ],
             [
              0.3333333333333333,
              "#9c179e"
             ],
             [
              0.4444444444444444,
              "#bd3786"
             ],
             [
              0.5555555555555556,
              "#d8576b"
             ],
             [
              0.6666666666666666,
              "#ed7953"
             ],
             [
              0.7777777777777778,
              "#fb9f3a"
             ],
             [
              0.8888888888888888,
              "#fdca26"
             ],
             [
              1,
              "#f0f921"
             ]
            ],
            "type": "histogram2dcontour"
           }
          ],
          "mesh3d": [
           {
            "colorbar": {
             "outlinewidth": 0,
             "ticks": ""
            },
            "type": "mesh3d"
           }
          ],
          "parcoords": [
           {
            "line": {
             "colorbar": {
              "outlinewidth": 0,
              "ticks": ""
             }
            },
            "type": "parcoords"
           }
          ],
          "pie": [
           {
            "automargin": true,
            "type": "pie"
           }
          ],
          "scatter": [
           {
            "fillpattern": {
             "fillmode": "overlay",
             "size": 10,
             "solidity": 0.2
            },
            "type": "scatter"
           }
          ],
          "scatter3d": [
           {
            "line": {
             "colorbar": {
              "outlinewidth": 0,
              "ticks": ""
             }
            },
            "marker": {
             "colorbar": {
              "outlinewidth": 0,
              "ticks": ""
             }
            },
            "type": "scatter3d"
           }
          ],
          "scattercarpet": [
           {
            "marker": {
             "colorbar": {
              "outlinewidth": 0,
              "ticks": ""
             }
            },
            "type": "scattercarpet"
           }
          ],
          "scattergeo": [
           {
            "marker": {
             "colorbar": {
              "outlinewidth": 0,
              "ticks": ""
             }
            },
            "type": "scattergeo"
           }
          ],
          "scattergl": [
           {
            "marker": {
             "colorbar": {
              "outlinewidth": 0,
              "ticks": ""
             }
            },
            "type": "scattergl"
           }
          ],
          "scattermapbox": [
           {
            "marker": {
             "colorbar": {
              "outlinewidth": 0,
              "ticks": ""
             }
            },
            "type": "scattermapbox"
           }
          ],
          "scatterpolar": [
           {
            "marker": {
             "colorbar": {
              "outlinewidth": 0,
              "ticks": ""
             }
            },
            "type": "scatterpolar"
           }
          ],
          "scatterpolargl": [
           {
            "marker": {
             "colorbar": {
              "outlinewidth": 0,
              "ticks": ""
             }
            },
            "type": "scatterpolargl"
           }
          ],
          "scatterternary": [
           {
            "marker": {
             "colorbar": {
              "outlinewidth": 0,
              "ticks": ""
             }
            },
            "type": "scatterternary"
           }
          ],
          "surface": [
           {
            "colorbar": {
             "outlinewidth": 0,
             "ticks": ""
            },
            "colorscale": [
             [
              0,
              "#0d0887"
             ],
             [
              0.1111111111111111,
              "#46039f"
             ],
             [
              0.2222222222222222,
              "#7201a8"
             ],
             [
              0.3333333333333333,
              "#9c179e"
             ],
             [
              0.4444444444444444,
              "#bd3786"
             ],
             [
              0.5555555555555556,
              "#d8576b"
             ],
             [
              0.6666666666666666,
              "#ed7953"
             ],
             [
              0.7777777777777778,
              "#fb9f3a"
             ],
             [
              0.8888888888888888,
              "#fdca26"
             ],
             [
              1,
              "#f0f921"
             ]
            ],
            "type": "surface"
           }
          ],
          "table": [
           {
            "cells": {
             "fill": {
              "color": "#EBF0F8"
             },
             "line": {
              "color": "white"
             }
            },
            "header": {
             "fill": {
              "color": "#C8D4E3"
             },
             "line": {
              "color": "white"
             }
            },
            "type": "table"
           }
          ]
         },
         "layout": {
          "annotationdefaults": {
           "arrowcolor": "#2a3f5f",
           "arrowhead": 0,
           "arrowwidth": 1
          },
          "autotypenumbers": "strict",
          "coloraxis": {
           "colorbar": {
            "outlinewidth": 0,
            "ticks": ""
           }
          },
          "colorscale": {
           "diverging": [
            [
             0,
             "#8e0152"
            ],
            [
             0.1,
             "#c51b7d"
            ],
            [
             0.2,
             "#de77ae"
            ],
            [
             0.3,
             "#f1b6da"
            ],
            [
             0.4,
             "#fde0ef"
            ],
            [
             0.5,
             "#f7f7f7"
            ],
            [
             0.6,
             "#e6f5d0"
            ],
            [
             0.7,
             "#b8e186"
            ],
            [
             0.8,
             "#7fbc41"
            ],
            [
             0.9,
             "#4d9221"
            ],
            [
             1,
             "#276419"
            ]
           ],
           "sequential": [
            [
             0,
             "#0d0887"
            ],
            [
             0.1111111111111111,
             "#46039f"
            ],
            [
             0.2222222222222222,
             "#7201a8"
            ],
            [
             0.3333333333333333,
             "#9c179e"
            ],
            [
             0.4444444444444444,
             "#bd3786"
            ],
            [
             0.5555555555555556,
             "#d8576b"
            ],
            [
             0.6666666666666666,
             "#ed7953"
            ],
            [
             0.7777777777777778,
             "#fb9f3a"
            ],
            [
             0.8888888888888888,
             "#fdca26"
            ],
            [
             1,
             "#f0f921"
            ]
           ],
           "sequentialminus": [
            [
             0,
             "#0d0887"
            ],
            [
             0.1111111111111111,
             "#46039f"
            ],
            [
             0.2222222222222222,
             "#7201a8"
            ],
            [
             0.3333333333333333,
             "#9c179e"
            ],
            [
             0.4444444444444444,
             "#bd3786"
            ],
            [
             0.5555555555555556,
             "#d8576b"
            ],
            [
             0.6666666666666666,
             "#ed7953"
            ],
            [
             0.7777777777777778,
             "#fb9f3a"
            ],
            [
             0.8888888888888888,
             "#fdca26"
            ],
            [
             1,
             "#f0f921"
            ]
           ]
          },
          "colorway": [
           "#636efa",
           "#EF553B",
           "#00cc96",
           "#ab63fa",
           "#FFA15A",
           "#19d3f3",
           "#FF6692",
           "#B6E880",
           "#FF97FF",
           "#FECB52"
          ],
          "font": {
           "color": "#2a3f5f"
          },
          "geo": {
           "bgcolor": "white",
           "lakecolor": "white",
           "landcolor": "#E5ECF6",
           "showlakes": true,
           "showland": true,
           "subunitcolor": "white"
          },
          "hoverlabel": {
           "align": "left"
          },
          "hovermode": "closest",
          "mapbox": {
           "style": "light"
          },
          "paper_bgcolor": "white",
          "plot_bgcolor": "#E5ECF6",
          "polar": {
           "angularaxis": {
            "gridcolor": "white",
            "linecolor": "white",
            "ticks": ""
           },
           "bgcolor": "#E5ECF6",
           "radialaxis": {
            "gridcolor": "white",
            "linecolor": "white",
            "ticks": ""
           }
          },
          "scene": {
           "xaxis": {
            "backgroundcolor": "#E5ECF6",
            "gridcolor": "white",
            "gridwidth": 2,
            "linecolor": "white",
            "showbackground": true,
            "ticks": "",
            "zerolinecolor": "white"
           },
           "yaxis": {
            "backgroundcolor": "#E5ECF6",
            "gridcolor": "white",
            "gridwidth": 2,
            "linecolor": "white",
            "showbackground": true,
            "ticks": "",
            "zerolinecolor": "white"
           },
           "zaxis": {
            "backgroundcolor": "#E5ECF6",
            "gridcolor": "white",
            "gridwidth": 2,
            "linecolor": "white",
            "showbackground": true,
            "ticks": "",
            "zerolinecolor": "white"
           }
          },
          "shapedefaults": {
           "line": {
            "color": "#2a3f5f"
           }
          },
          "ternary": {
           "aaxis": {
            "gridcolor": "white",
            "linecolor": "white",
            "ticks": ""
           },
           "baxis": {
            "gridcolor": "white",
            "linecolor": "white",
            "ticks": ""
           },
           "bgcolor": "#E5ECF6",
           "caxis": {
            "gridcolor": "white",
            "linecolor": "white",
            "ticks": ""
           }
          },
          "title": {
           "x": 0.05
          },
          "xaxis": {
           "automargin": true,
           "gridcolor": "white",
           "linecolor": "white",
           "ticks": "",
           "title": {
            "standoff": 15
           },
           "zerolinecolor": "white",
           "zerolinewidth": 2
          },
          "yaxis": {
           "automargin": true,
           "gridcolor": "white",
           "linecolor": "white",
           "ticks": "",
           "title": {
            "standoff": 15
           },
           "zerolinecolor": "white",
           "zerolinewidth": 2
          }
         }
        },
        "title": {
         "text": "Countries with Highest Covid Cases"
        },
        "xaxis": {
         "anchor": "y",
         "domain": [
          0,
          1
         ],
         "title": {
          "text": "Country"
         }
        },
        "yaxis": {
         "anchor": "x",
         "domain": [
          0,
          1
         ],
         "title": {
          "text": "Total Deaths"
         }
        }
       }
      },
      "text/html": [
       "<div>                            <div id=\"4bd8da44-c797-47e9-9a40-ffacbfcf7b39\" class=\"plotly-graph-div\" style=\"height:525px; width:100%;\"></div>            <script type=\"text/javascript\">                require([\"plotly\"], function(Plotly) {                    window.PLOTLYENV=window.PLOTLYENV || {};                                    if (document.getElementById(\"4bd8da44-c797-47e9-9a40-ffacbfcf7b39\")) {                    Plotly.newPlot(                        \"4bd8da44-c797-47e9-9a40-ffacbfcf7b39\",                        [{\"alignmentgroup\":\"True\",\"hovertemplate\":\"Country=%{x}<br>Total Deaths=%{y}<extra></extra>\",\"legendgroup\":\"\",\"marker\":{\"color\":\"#636efa\",\"pattern\":{\"shape\":\"\"}},\"name\":\"\",\"offsetgroup\":\"\",\"orientation\":\"v\",\"showlegend\":false,\"textposition\":\"auto\",\"x\":[\"United States\",\"Brazil\",\"India\",\"Russia\",\"Peru\",\"Mexico\",\"Spain\",\"South Africa\",\"Colombia\",\"United Kingdom\",\"Iran\",\"Chile\",\"Italy\",\"France\",\"Argentina\",\"Germany\",\"Turkey\",\"Saudi Arabia\",\"Pakistan\",\"Bangladesh\",\"Iraq\",\"Philippines\",\"China\",\"Indonesia\",\"Canada\",\"Qatar\",\"Israel\",\"Ukraine\",\"Belgium\",\"Ecuador\",\"Kazakhstan\",\"Netherlands\",\"Egypt\",\"Sweden\",\"Bolivia\",\"Romania\",\"Dominican Republic\",\"Kuwait\",\"Belarus\",\"Panama\",\"United Arab Emirates\",\"Oman\",\"Portugal\",\"Poland\",\"Singapore\",\"Morocco\",\"Japan\",\"Guatemala\",\"Switzerland\",\"Bahrain\",\"Honduras\",\"Nigeria\",\"Armenia\",\"Nepal\",\"Ireland\",\"Czech Republic\",\"Afghanistan\",\"Austria\",\"Ghana\",\"Algeria\",\"Ethiopia\",\"Venezuela\",\"Moldova\",\"Costa Rica\",\"Uzbekistan\",\"Kyrgyzstan\",\"Azerbaijan\",\"Serbia\",\"Puerto Rico\",\"South Korea\",\"Kenya\",\"Palestine\",\"Denmark\",\"Australia\",\"El Salvador\",\"Cameroon\",\"Paraguay\",\"Lebanon\",\"Bosnia and Herzegovina\",\"Cote d'Ivoire\",\"Norway\",\"Bulgaria\",\"Libya\",\"Malaysia\",\"Macedonia\",\"Hungary\",\"Sudan\",\"Senegal\",\"Finland\",\"Madagascar\",\"Greece\",\"Kosovo\",\"Croatia\",\"Democratic Republic of Congo\",\"Guinea\",\"Luxembourg\",\"Zambia\",\"Tajikistan\",\"Albania\",\"Gabon\",\"Haiti\",\"Tunisia\",\"Maldives\",\"Mauritania\",\"Slovakia\",\"Djibouti\",\"Jordan\",\"Namibia\",\"Montenegro\",\"Thailand\",\"Myanmar\",\"Zimbabwe\",\"Central African Republic\",\"Cuba\",\"Equatorial Guinea\",\"Slovenia\",\"Malawi\",\"Nicaragua\",\"Mozambique\",\"Somalia\",\"Lithuania\",\"Congo\",\"Cape Verde\",\"Uganda\",\"Sri Lanka\",\"Estonia\",\"Swaziland\",\"Georgia\",\"Iceland\",\"Mali\",\"Rwanda\",\"Jamaica\",\"Suriname\",\"South Sudan\",\"Guinea-Bissau\",\"Angola\",\"Sierra Leone\",\"Syria\",\"Latvia\",\"New Zealand\",\"Malta\",\"Benin\",\"Uruguay\",\"Bahamas\",\"Cyprus\",\"Burkina Faso\",\"Gambia\",\"Yemen\",\"Trinidad and Tobago\",\"Andorra\",\"Aruba\",\"Botswana\",\"Niger\",\"Togo\",\"Guyana\",\"Guam\",\"Liberia\",\"Chad\",\"San Marino\",\"Vietnam\",\"Sao Tome and Principe\",\"Lesotho\",\"Belize\",\"United States Virgin Islands\",\"Taiwan\",\"French Polynesia\",\"Tanzania\",\"Mauritius\",\"Jersey\",\"Isle of Man\",\"Faeroe Islands\",\"Comoros\",\"Guernsey\",\"Burundi\",\"Sint Maarten (Dutch part)\",\"Gibraltar\",\"Turks and Caicos Islands\",\"Mongolia\",\"Eritrea\",\"Cambodia\",\"Papua New Guinea\",\"Cayman Islands\",\"Brunei\",\"Bermuda\",\"Barbados\",\"Bhutan\",\"Monaco\",\"Liechtenstein\",\"Curacao\",\"Seychelles\",\"Antigua and Barbuda\",\"Saint Vincent and the Grenadines\",\"Northern Mariana Islands\",\"Bonaire Sint Eustatius and Saba\",\"Fiji\",\"Timor\",\"British Virgin Islands\",\"New Caledonia\",\"Grenada\",\"Saint Lucia\",\"Laos\",\"Dominica\",\"Saint Kitts and Nevis\",\"Greenland\",\"Falkland Islands\",\"Vatican\",\"Montserrat\",\"Anguilla\",\"Solomon Islands\",\"Hong Kong\"],\"xaxis\":\"x\",\"y\":[26477574.0,14340567.0,7247327.0,2131571.0,3020038.0,7295850.0,5510624.0,1357682.0,1936134.0,7249573.0,2914070.0,1283880.0,6664225.0,5633444.0,1077426.0,1640691.0,1049757.0,442507.0,789557.0,484534.0,744253.0,448665.0,1066939.0,916111.0,1455549.0,23820.0,126278.0,343334.0,1798461.0,1083749.0,161480.0,1142410.0,644416.0,941063.0,578559.0,464952.0,209024.0,69104.0,88409.0,222435.0,58035.0,73391.0,302612.0,304001.0,4691.0,142270.0,194918.0,281588.0,320693.0,22413.0,200844.0,125473.0,102039.0,27737.0,310201.0,79880.0,165875.0,134945.0,29143.0,206429.0,77686.0,40840.0,129946.0,50352.0,31903.0,114922.0,59495.0,87503.0,54940.0,63333.0,59485.0,21522.0,113280.0,65029.0,71957.0,56606.0,42850.0,22983.0,70578.0,14220.0,47158.0,72850.0,29730.0,24012.0,74066.0,110142.0,102825.0,30320.0,58377.0,17744.0,44805.0,47571.0,28757.0,32040.0,7283.0,21907.0,26475.0,9730.0,31056.0,6877.0,23891.0,19025.0,3054.0,19810.0,6055.0,8006.0,5653.0,6634.0,11356.0,11162.0,13973.0,15984.0,7108.0,16774.0,8947.0,22165.0,15480.0,16410.0,3396.0,15001.0,14345.0,9298.0,4749.0,3748.0,2108.0,11802.0,8179.0,4013.0,1968.0,18813.0,1744.0,5653.0,6961.0,6063.0,4199.0,11820.0,10036.0,12098.0,5376.0,4145.0,2409.0,4374.0,6083.0,5998.0,3735.0,10248.0,7201.0,64304.0,4519.0,9850.0,1624.0,895.0,11676.0,4197.0,5783.0,2715.0,10087.0,12212.0,8596.0,2318.0,2198.0,2680.0,1613.0,1833.0,1423.0,260.0,3733.0,1988.0,5527.0,4310.0,0.0,920.0,2450.0,188.0,3146.0,0.0,476.0,0.0,0.0,0.0,417.0,213.0,475.0,1631.0,1321.0,0.0,192.0,198.0,207.0,0.0,568.0,0.0,396.0,48.0,132.0,0.0,183.0,0.0,0.0,0.0,0.0,0.0,0.0,0.0,0.0,0.0,177.0,0.0,0.0,0.0],\"yaxis\":\"y\",\"type\":\"bar\"}],                        {\"template\":{\"data\":{\"histogram2dcontour\":[{\"type\":\"histogram2dcontour\",\"colorbar\":{\"outlinewidth\":0,\"ticks\":\"\"},\"colorscale\":[[0.0,\"#0d0887\"],[0.1111111111111111,\"#46039f\"],[0.2222222222222222,\"#7201a8\"],[0.3333333333333333,\"#9c179e\"],[0.4444444444444444,\"#bd3786\"],[0.5555555555555556,\"#d8576b\"],[0.6666666666666666,\"#ed7953\"],[0.7777777777777778,\"#fb9f3a\"],[0.8888888888888888,\"#fdca26\"],[1.0,\"#f0f921\"]]}],\"choropleth\":[{\"type\":\"choropleth\",\"colorbar\":{\"outlinewidth\":0,\"ticks\":\"\"}}],\"histogram2d\":[{\"type\":\"histogram2d\",\"colorbar\":{\"outlinewidth\":0,\"ticks\":\"\"},\"colorscale\":[[0.0,\"#0d0887\"],[0.1111111111111111,\"#46039f\"],[0.2222222222222222,\"#7201a8\"],[0.3333333333333333,\"#9c179e\"],[0.4444444444444444,\"#bd3786\"],[0.5555555555555556,\"#d8576b\"],[0.6666666666666666,\"#ed7953\"],[0.7777777777777778,\"#fb9f3a\"],[0.8888888888888888,\"#fdca26\"],[1.0,\"#f0f921\"]]}],\"heatmap\":[{\"type\":\"heatmap\",\"colorbar\":{\"outlinewidth\":0,\"ticks\":\"\"},\"colorscale\":[[0.0,\"#0d0887\"],[0.1111111111111111,\"#46039f\"],[0.2222222222222222,\"#7201a8\"],[0.3333333333333333,\"#9c179e\"],[0.4444444444444444,\"#bd3786\"],[0.5555555555555556,\"#d8576b\"],[0.6666666666666666,\"#ed7953\"],[0.7777777777777778,\"#fb9f3a\"],[0.8888888888888888,\"#fdca26\"],[1.0,\"#f0f921\"]]}],\"heatmapgl\":[{\"type\":\"heatmapgl\",\"colorbar\":{\"outlinewidth\":0,\"ticks\":\"\"},\"colorscale\":[[0.0,\"#0d0887\"],[0.1111111111111111,\"#46039f\"],[0.2222222222222222,\"#7201a8\"],[0.3333333333333333,\"#9c179e\"],[0.4444444444444444,\"#bd3786\"],[0.5555555555555556,\"#d8576b\"],[0.6666666666666666,\"#ed7953\"],[0.7777777777777778,\"#fb9f3a\"],[0.8888888888888888,\"#fdca26\"],[1.0,\"#f0f921\"]]}],\"contourcarpet\":[{\"type\":\"contourcarpet\",\"colorbar\":{\"outlinewidth\":0,\"ticks\":\"\"}}],\"contour\":[{\"type\":\"contour\",\"colorbar\":{\"outlinewidth\":0,\"ticks\":\"\"},\"colorscale\":[[0.0,\"#0d0887\"],[0.1111111111111111,\"#46039f\"],[0.2222222222222222,\"#7201a8\"],[0.3333333333333333,\"#9c179e\"],[0.4444444444444444,\"#bd3786\"],[0.5555555555555556,\"#d8576b\"],[0.6666666666666666,\"#ed7953\"],[0.7777777777777778,\"#fb9f3a\"],[0.8888888888888888,\"#fdca26\"],[1.0,\"#f0f921\"]]}],\"surface\":[{\"type\":\"surface\",\"colorbar\":{\"outlinewidth\":0,\"ticks\":\"\"},\"colorscale\":[[0.0,\"#0d0887\"],[0.1111111111111111,\"#46039f\"],[0.2222222222222222,\"#7201a8\"],[0.3333333333333333,\"#9c179e\"],[0.4444444444444444,\"#bd3786\"],[0.5555555555555556,\"#d8576b\"],[0.6666666666666666,\"#ed7953\"],[0.7777777777777778,\"#fb9f3a\"],[0.8888888888888888,\"#fdca26\"],[1.0,\"#f0f921\"]]}],\"mesh3d\":[{\"type\":\"mesh3d\",\"colorbar\":{\"outlinewidth\":0,\"ticks\":\"\"}}],\"scatter\":[{\"fillpattern\":{\"fillmode\":\"overlay\",\"size\":10,\"solidity\":0.2},\"type\":\"scatter\"}],\"parcoords\":[{\"type\":\"parcoords\",\"line\":{\"colorbar\":{\"outlinewidth\":0,\"ticks\":\"\"}}}],\"scatterpolargl\":[{\"type\":\"scatterpolargl\",\"marker\":{\"colorbar\":{\"outlinewidth\":0,\"ticks\":\"\"}}}],\"bar\":[{\"error_x\":{\"color\":\"#2a3f5f\"},\"error_y\":{\"color\":\"#2a3f5f\"},\"marker\":{\"line\":{\"color\":\"#E5ECF6\",\"width\":0.5},\"pattern\":{\"fillmode\":\"overlay\",\"size\":10,\"solidity\":0.2}},\"type\":\"bar\"}],\"scattergeo\":[{\"type\":\"scattergeo\",\"marker\":{\"colorbar\":{\"outlinewidth\":0,\"ticks\":\"\"}}}],\"scatterpolar\":[{\"type\":\"scatterpolar\",\"marker\":{\"colorbar\":{\"outlinewidth\":0,\"ticks\":\"\"}}}],\"histogram\":[{\"marker\":{\"pattern\":{\"fillmode\":\"overlay\",\"size\":10,\"solidity\":0.2}},\"type\":\"histogram\"}],\"scattergl\":[{\"type\":\"scattergl\",\"marker\":{\"colorbar\":{\"outlinewidth\":0,\"ticks\":\"\"}}}],\"scatter3d\":[{\"type\":\"scatter3d\",\"line\":{\"colorbar\":{\"outlinewidth\":0,\"ticks\":\"\"}},\"marker\":{\"colorbar\":{\"outlinewidth\":0,\"ticks\":\"\"}}}],\"scattermapbox\":[{\"type\":\"scattermapbox\",\"marker\":{\"colorbar\":{\"outlinewidth\":0,\"ticks\":\"\"}}}],\"scatterternary\":[{\"type\":\"scatterternary\",\"marker\":{\"colorbar\":{\"outlinewidth\":0,\"ticks\":\"\"}}}],\"scattercarpet\":[{\"type\":\"scattercarpet\",\"marker\":{\"colorbar\":{\"outlinewidth\":0,\"ticks\":\"\"}}}],\"carpet\":[{\"aaxis\":{\"endlinecolor\":\"#2a3f5f\",\"gridcolor\":\"white\",\"linecolor\":\"white\",\"minorgridcolor\":\"white\",\"startlinecolor\":\"#2a3f5f\"},\"baxis\":{\"endlinecolor\":\"#2a3f5f\",\"gridcolor\":\"white\",\"linecolor\":\"white\",\"minorgridcolor\":\"white\",\"startlinecolor\":\"#2a3f5f\"},\"type\":\"carpet\"}],\"table\":[{\"cells\":{\"fill\":{\"color\":\"#EBF0F8\"},\"line\":{\"color\":\"white\"}},\"header\":{\"fill\":{\"color\":\"#C8D4E3\"},\"line\":{\"color\":\"white\"}},\"type\":\"table\"}],\"barpolar\":[{\"marker\":{\"line\":{\"color\":\"#E5ECF6\",\"width\":0.5},\"pattern\":{\"fillmode\":\"overlay\",\"size\":10,\"solidity\":0.2}},\"type\":\"barpolar\"}],\"pie\":[{\"automargin\":true,\"type\":\"pie\"}]},\"layout\":{\"autotypenumbers\":\"strict\",\"colorway\":[\"#636efa\",\"#EF553B\",\"#00cc96\",\"#ab63fa\",\"#FFA15A\",\"#19d3f3\",\"#FF6692\",\"#B6E880\",\"#FF97FF\",\"#FECB52\"],\"font\":{\"color\":\"#2a3f5f\"},\"hovermode\":\"closest\",\"hoverlabel\":{\"align\":\"left\"},\"paper_bgcolor\":\"white\",\"plot_bgcolor\":\"#E5ECF6\",\"polar\":{\"bgcolor\":\"#E5ECF6\",\"angularaxis\":{\"gridcolor\":\"white\",\"linecolor\":\"white\",\"ticks\":\"\"},\"radialaxis\":{\"gridcolor\":\"white\",\"linecolor\":\"white\",\"ticks\":\"\"}},\"ternary\":{\"bgcolor\":\"#E5ECF6\",\"aaxis\":{\"gridcolor\":\"white\",\"linecolor\":\"white\",\"ticks\":\"\"},\"baxis\":{\"gridcolor\":\"white\",\"linecolor\":\"white\",\"ticks\":\"\"},\"caxis\":{\"gridcolor\":\"white\",\"linecolor\":\"white\",\"ticks\":\"\"}},\"coloraxis\":{\"colorbar\":{\"outlinewidth\":0,\"ticks\":\"\"}},\"colorscale\":{\"sequential\":[[0.0,\"#0d0887\"],[0.1111111111111111,\"#46039f\"],[0.2222222222222222,\"#7201a8\"],[0.3333333333333333,\"#9c179e\"],[0.4444444444444444,\"#bd3786\"],[0.5555555555555556,\"#d8576b\"],[0.6666666666666666,\"#ed7953\"],[0.7777777777777778,\"#fb9f3a\"],[0.8888888888888888,\"#fdca26\"],[1.0,\"#f0f921\"]],\"sequentialminus\":[[0.0,\"#0d0887\"],[0.1111111111111111,\"#46039f\"],[0.2222222222222222,\"#7201a8\"],[0.3333333333333333,\"#9c179e\"],[0.4444444444444444,\"#bd3786\"],[0.5555555555555556,\"#d8576b\"],[0.6666666666666666,\"#ed7953\"],[0.7777777777777778,\"#fb9f3a\"],[0.8888888888888888,\"#fdca26\"],[1.0,\"#f0f921\"]],\"diverging\":[[0,\"#8e0152\"],[0.1,\"#c51b7d\"],[0.2,\"#de77ae\"],[0.3,\"#f1b6da\"],[0.4,\"#fde0ef\"],[0.5,\"#f7f7f7\"],[0.6,\"#e6f5d0\"],[0.7,\"#b8e186\"],[0.8,\"#7fbc41\"],[0.9,\"#4d9221\"],[1,\"#276419\"]]},\"xaxis\":{\"gridcolor\":\"white\",\"linecolor\":\"white\",\"ticks\":\"\",\"title\":{\"standoff\":15},\"zerolinecolor\":\"white\",\"automargin\":true,\"zerolinewidth\":2},\"yaxis\":{\"gridcolor\":\"white\",\"linecolor\":\"white\",\"ticks\":\"\",\"title\":{\"standoff\":15},\"zerolinecolor\":\"white\",\"automargin\":true,\"zerolinewidth\":2},\"scene\":{\"xaxis\":{\"backgroundcolor\":\"#E5ECF6\",\"gridcolor\":\"white\",\"linecolor\":\"white\",\"showbackground\":true,\"ticks\":\"\",\"zerolinecolor\":\"white\",\"gridwidth\":2},\"yaxis\":{\"backgroundcolor\":\"#E5ECF6\",\"gridcolor\":\"white\",\"linecolor\":\"white\",\"showbackground\":true,\"ticks\":\"\",\"zerolinecolor\":\"white\",\"gridwidth\":2},\"zaxis\":{\"backgroundcolor\":\"#E5ECF6\",\"gridcolor\":\"white\",\"linecolor\":\"white\",\"showbackground\":true,\"ticks\":\"\",\"zerolinecolor\":\"white\",\"gridwidth\":2}},\"shapedefaults\":{\"line\":{\"color\":\"#2a3f5f\"}},\"annotationdefaults\":{\"arrowcolor\":\"#2a3f5f\",\"arrowhead\":0,\"arrowwidth\":1},\"geo\":{\"bgcolor\":\"white\",\"landcolor\":\"#E5ECF6\",\"subunitcolor\":\"white\",\"showland\":true,\"showlakes\":true,\"lakecolor\":\"white\"},\"title\":{\"x\":0.05},\"mapbox\":{\"style\":\"light\"}}},\"xaxis\":{\"anchor\":\"y\",\"domain\":[0.0,1.0],\"title\":{\"text\":\"Country\"}},\"yaxis\":{\"anchor\":\"x\",\"domain\":[0.0,1.0],\"title\":{\"text\":\"Total Deaths\"}},\"legend\":{\"tracegroupgap\":0},\"title\":{\"text\":\"Countries with Highest Covid Cases\"},\"barmode\":\"relative\"},                        {\"responsive\": true}                    ).then(function(){\n",
       "                            \n",
       "var gd = document.getElementById('4bd8da44-c797-47e9-9a40-ffacbfcf7b39');\n",
       "var x = new MutationObserver(function (mutations, observer) {{\n",
       "        var display = window.getComputedStyle(gd).display;\n",
       "        if (!display || display === 'none') {{\n",
       "            console.log([gd, 'removed!']);\n",
       "            Plotly.purge(gd);\n",
       "            observer.disconnect();\n",
       "        }}\n",
       "}});\n",
       "\n",
       "// Listen for the removal of the full notebook cells\n",
       "var notebookContainer = gd.closest('#notebook-container');\n",
       "if (notebookContainer) {{\n",
       "    x.observe(notebookContainer, {childList: true});\n",
       "}}\n",
       "\n",
       "// Listen for the clearing of the current output cell\n",
       "var outputEl = gd.closest('.output');\n",
       "if (outputEl) {{\n",
       "    x.observe(outputEl, {childList: true});\n",
       "}}\n",
       "\n",
       "                        })                };                });            </script>        </div>"
      ]
     },
     "metadata": {},
     "output_type": "display_data"
    }
   ],
   "source": [
    "figure = px.bar(data, y='Total Deaths', x='Country',\n",
    "            title=\"Countries with Highest Covid Cases\")\n",
    "figure.show()"
   ]
  },
  {
   "cell_type": "markdown",
   "id": "3e3d5476",
   "metadata": {},
   "source": [
    "we can see US and Brazil has the highest no of covid cases and deaths also then india , mexlco,UK has the near by same values of death while mexlco,UK has the less no of cases as compare to India"
   ]
  },
  {
   "cell_type": "code",
   "execution_count": 13,
   "id": "6eeb6b8b",
   "metadata": {},
   "outputs": [
    {
     "data": {
      "application/vnd.plotly.v1+json": {
       "config": {
        "plotlyServerURL": "https://plot.ly"
       },
       "data": [
        {
         "marker": {
          "color": "indianred"
         },
         "name": "Total Cases",
         "type": "bar",
         "x": [
          "United States",
          "Brazil",
          "India",
          "Russia",
          "Peru",
          "Mexico",
          "Spain",
          "South Africa",
          "Colombia",
          "United Kingdom",
          "Iran",
          "Chile",
          "Italy",
          "France",
          "Argentina",
          "Germany",
          "Turkey",
          "Saudi Arabia",
          "Pakistan",
          "Bangladesh",
          "Iraq",
          "Philippines",
          "China",
          "Indonesia",
          "Canada",
          "Qatar",
          "Israel",
          "Ukraine",
          "Belgium",
          "Ecuador",
          "Kazakhstan",
          "Netherlands",
          "Egypt",
          "Sweden",
          "Bolivia",
          "Romania",
          "Dominican Republic",
          "Kuwait",
          "Belarus",
          "Panama",
          "United Arab Emirates",
          "Oman",
          "Portugal",
          "Poland",
          "Singapore",
          "Morocco",
          "Japan",
          "Guatemala",
          "Switzerland",
          "Bahrain",
          "Honduras",
          "Nigeria",
          "Armenia",
          "Nepal",
          "Ireland",
          "Czech Republic",
          "Afghanistan",
          "Austria",
          "Ghana",
          "Algeria",
          "Ethiopia",
          "Venezuela",
          "Moldova",
          "Costa Rica",
          "Uzbekistan",
          "Kyrgyzstan",
          "Azerbaijan",
          "Serbia",
          "Puerto Rico",
          "South Korea",
          "Kenya",
          "Palestine",
          "Denmark",
          "Australia",
          "El Salvador",
          "Cameroon",
          "Paraguay",
          "Lebanon",
          "Bosnia and Herzegovina",
          "Cote d'Ivoire",
          "Norway",
          "Bulgaria",
          "Libya",
          "Malaysia",
          "Macedonia",
          "Hungary",
          "Sudan",
          "Senegal",
          "Finland",
          "Madagascar",
          "Greece",
          "Kosovo",
          "Croatia",
          "Democratic Republic of Congo",
          "Guinea",
          "Luxembourg",
          "Zambia",
          "Tajikistan",
          "Albania",
          "Gabon",
          "Haiti",
          "Tunisia",
          "Maldives",
          "Mauritania",
          "Slovakia",
          "Djibouti",
          "Jordan",
          "Namibia",
          "Montenegro",
          "Thailand",
          "Myanmar",
          "Zimbabwe",
          "Central African Republic",
          "Cuba",
          "Equatorial Guinea",
          "Slovenia",
          "Malawi",
          "Nicaragua",
          "Mozambique",
          "Somalia",
          "Lithuania",
          "Congo",
          "Cape Verde",
          "Uganda",
          "Sri Lanka",
          "Estonia",
          "Swaziland",
          "Georgia",
          "Iceland",
          "Mali",
          "Rwanda",
          "Jamaica",
          "Suriname",
          "South Sudan",
          "Guinea-Bissau",
          "Angola",
          "Sierra Leone",
          "Syria",
          "Latvia",
          "New Zealand",
          "Malta",
          "Benin",
          "Uruguay",
          "Bahamas",
          "Cyprus",
          "Burkina Faso",
          "Gambia",
          "Yemen",
          "Trinidad and Tobago",
          "Andorra",
          "Aruba",
          "Botswana",
          "Niger",
          "Togo",
          "Guyana",
          "Guam",
          "Liberia",
          "Chad",
          "San Marino",
          "Vietnam",
          "Sao Tome and Principe",
          "Lesotho",
          "Belize",
          "United States Virgin Islands",
          "Taiwan",
          "French Polynesia",
          "Tanzania",
          "Mauritius",
          "Jersey",
          "Isle of Man",
          "Faeroe Islands",
          "Comoros",
          "Guernsey",
          "Burundi",
          "Sint Maarten (Dutch part)",
          "Gibraltar",
          "Turks and Caicos Islands",
          "Mongolia",
          "Eritrea",
          "Cambodia",
          "Papua New Guinea",
          "Cayman Islands",
          "Brunei",
          "Bermuda",
          "Barbados",
          "Bhutan",
          "Monaco",
          "Liechtenstein",
          "Curacao",
          "Seychelles",
          "Antigua and Barbuda",
          "Saint Vincent and the Grenadines",
          "Northern Mariana Islands",
          "Bonaire Sint Eustatius and Saba",
          "Fiji",
          "Timor",
          "British Virgin Islands",
          "New Caledonia",
          "Grenada",
          "Saint Lucia",
          "Laos",
          "Dominica",
          "Saint Kitts and Nevis",
          "Greenland",
          "Falkland Islands",
          "Vatican",
          "Montserrat",
          "Anguilla",
          "Solomon Islands",
          "Hong Kong"
         ],
         "y": [
          746014098,
          425704517,
          407771615,
          132888951,
          74882695,
          74347548,
          73717676,
          63027659,
          60543682,
          59475032,
          52421884,
          51268034,
          50752853,
          50084335,
          47155234,
          42447678,
          41431948,
          38585191,
          37738077,
          35266178,
          25280332,
          22409936,
          21632319,
          21570149,
          20902374,
          16351440,
          16202474,
          15805665,
          15192468,
          14408757,
          13194863,
          13026629,
          12422845,
          11910109,
          11858838,
          10672859,
          10649646,
          10622205,
          10595186,
          10371724,
          10247326,
          10060093,
          9266263,
          9239657,
          8191161,
          7839270,
          7659484,
          7644426,
          7552067,
          6549995,
          6545499,
          6107371,
          5474629,
          5243653,
          5239798,
          5213980,
          5126433,
          4909197,
          4900649,
          4893999,
          4876417,
          4839834,
          4632482,
          4631835,
          4421215,
          4287847,
          4236782,
          3984174,
          3586463,
          3333075,
          3277734,
          3249458,
          3030088,
          3012377,
          2573206,
          2476502,
          2265640,
          2220699,
          2200057,
          2132883,
          1985889,
          1890380,
          1817274,
          1774181,
          1724220,
          1708798,
          1663545,
          1586747,
          1458484,
          1443321,
          1421470,
          1345940,
          1314031,
          1271391,
          1195836,
          1146724,
          1129913,
          1117391,
          1071951,
          1031803,
          1023155,
          1000626,
          844040,
          799222,
          798665,
          781771,
          716514,
          681299,
          675912,
          655703,
          644209,
          593699,
          593048,
          581546,
          557355,
          547075,
          536447,
          524410,
          510578,
          491145,
          488057,
          473368,
          463888,
          448728,
          446643,
          445402,
          444238,
          431689,
          421210,
          390637,
          388775,
          370890,
          358632,
          333500,
          306564,
          304005,
          268396,
          267902,
          255964,
          253203,
          251261,
          245893,
          239884,
          237908,
          236673,
          231452,
          229521,
          228925,
          225550,
          223576,
          215110,
          205758,
          199978,
          169903,
          166917,
          160975,
          159880,
          154173,
          134994,
          122618,
          121909,
          107948,
          106383,
          98536,
          97074,
          95388,
          91526,
          69524,
          66777,
          64935,
          56893,
          52437,
          49814,
          49745,
          48026,
          45340,
          44432,
          42465,
          40026,
          39539,
          35966,
          33173,
          30140,
          28876,
          24998,
          22847,
          21511,
          19885,
          19777,
          14701,
          12619,
          7824,
          7784,
          5080,
          4742,
          4697,
          4605,
          4495,
          4470,
          4450,
          4039,
          3977,
          3246,
          2678,
          2467,
          2415,
          2383,
          614,
          11,
          0
         ]
        },
        {
         "marker": {
          "color": "lightsalmon"
         },
         "name": "Total Deaths",
         "type": "bar",
         "x": [
          "United States",
          "Brazil",
          "India",
          "Russia",
          "Peru",
          "Mexico",
          "Spain",
          "South Africa",
          "Colombia",
          "United Kingdom",
          "Iran",
          "Chile",
          "Italy",
          "France",
          "Argentina",
          "Germany",
          "Turkey",
          "Saudi Arabia",
          "Pakistan",
          "Bangladesh",
          "Iraq",
          "Philippines",
          "China",
          "Indonesia",
          "Canada",
          "Qatar",
          "Israel",
          "Ukraine",
          "Belgium",
          "Ecuador",
          "Kazakhstan",
          "Netherlands",
          "Egypt",
          "Sweden",
          "Bolivia",
          "Romania",
          "Dominican Republic",
          "Kuwait",
          "Belarus",
          "Panama",
          "United Arab Emirates",
          "Oman",
          "Portugal",
          "Poland",
          "Singapore",
          "Morocco",
          "Japan",
          "Guatemala",
          "Switzerland",
          "Bahrain",
          "Honduras",
          "Nigeria",
          "Armenia",
          "Nepal",
          "Ireland",
          "Czech Republic",
          "Afghanistan",
          "Austria",
          "Ghana",
          "Algeria",
          "Ethiopia",
          "Venezuela",
          "Moldova",
          "Costa Rica",
          "Uzbekistan",
          "Kyrgyzstan",
          "Azerbaijan",
          "Serbia",
          "Puerto Rico",
          "South Korea",
          "Kenya",
          "Palestine",
          "Denmark",
          "Australia",
          "El Salvador",
          "Cameroon",
          "Paraguay",
          "Lebanon",
          "Bosnia and Herzegovina",
          "Cote d'Ivoire",
          "Norway",
          "Bulgaria",
          "Libya",
          "Malaysia",
          "Macedonia",
          "Hungary",
          "Sudan",
          "Senegal",
          "Finland",
          "Madagascar",
          "Greece",
          "Kosovo",
          "Croatia",
          "Democratic Republic of Congo",
          "Guinea",
          "Luxembourg",
          "Zambia",
          "Tajikistan",
          "Albania",
          "Gabon",
          "Haiti",
          "Tunisia",
          "Maldives",
          "Mauritania",
          "Slovakia",
          "Djibouti",
          "Jordan",
          "Namibia",
          "Montenegro",
          "Thailand",
          "Myanmar",
          "Zimbabwe",
          "Central African Republic",
          "Cuba",
          "Equatorial Guinea",
          "Slovenia",
          "Malawi",
          "Nicaragua",
          "Mozambique",
          "Somalia",
          "Lithuania",
          "Congo",
          "Cape Verde",
          "Uganda",
          "Sri Lanka",
          "Estonia",
          "Swaziland",
          "Georgia",
          "Iceland",
          "Mali",
          "Rwanda",
          "Jamaica",
          "Suriname",
          "South Sudan",
          "Guinea-Bissau",
          "Angola",
          "Sierra Leone",
          "Syria",
          "Latvia",
          "New Zealand",
          "Malta",
          "Benin",
          "Uruguay",
          "Bahamas",
          "Cyprus",
          "Burkina Faso",
          "Gambia",
          "Yemen",
          "Trinidad and Tobago",
          "Andorra",
          "Aruba",
          "Botswana",
          "Niger",
          "Togo",
          "Guyana",
          "Guam",
          "Liberia",
          "Chad",
          "San Marino",
          "Vietnam",
          "Sao Tome and Principe",
          "Lesotho",
          "Belize",
          "United States Virgin Islands",
          "Taiwan",
          "French Polynesia",
          "Tanzania",
          "Mauritius",
          "Jersey",
          "Isle of Man",
          "Faeroe Islands",
          "Comoros",
          "Guernsey",
          "Burundi",
          "Sint Maarten (Dutch part)",
          "Gibraltar",
          "Turks and Caicos Islands",
          "Mongolia",
          "Eritrea",
          "Cambodia",
          "Papua New Guinea",
          "Cayman Islands",
          "Brunei",
          "Bermuda",
          "Barbados",
          "Bhutan",
          "Monaco",
          "Liechtenstein",
          "Curacao",
          "Seychelles",
          "Antigua and Barbuda",
          "Saint Vincent and the Grenadines",
          "Northern Mariana Islands",
          "Bonaire Sint Eustatius and Saba",
          "Fiji",
          "Timor",
          "British Virgin Islands",
          "New Caledonia",
          "Grenada",
          "Saint Lucia",
          "Laos",
          "Dominica",
          "Saint Kitts and Nevis",
          "Greenland",
          "Falkland Islands",
          "Vatican",
          "Montserrat",
          "Anguilla",
          "Solomon Islands",
          "Hong Kong"
         ],
         "y": [
          26477574,
          14340567,
          7247327,
          2131571,
          3020038,
          7295850,
          5510624,
          1357682,
          1936134,
          7249573,
          2914070,
          1283880,
          6664225,
          5633444,
          1077426,
          1640691,
          1049757,
          442507,
          789557,
          484534,
          744253,
          448665,
          1066939,
          916111,
          1455549,
          23820,
          126278,
          343334,
          1798461,
          1083749,
          161480,
          1142410,
          644416,
          941063,
          578559,
          464952,
          209024,
          69104,
          88409,
          222435,
          58035,
          73391,
          302612,
          304001,
          4691,
          142270,
          194918,
          281588,
          320693,
          22413,
          200844,
          125473,
          102039,
          27737,
          310201,
          79880,
          165875,
          134945,
          29143,
          206429,
          77686,
          40840,
          129946,
          50352,
          31903,
          114922,
          59495,
          87503,
          54940,
          63333,
          59485,
          21522,
          113280,
          65029,
          71957,
          56606,
          42850,
          22983,
          70578,
          14220,
          47158,
          72850,
          29730,
          24012,
          74066,
          110142,
          102825,
          30320,
          58377,
          17744,
          44805,
          47571,
          28757,
          32040,
          7283,
          21907,
          26475,
          9730,
          31056,
          6877,
          23891,
          19025,
          3054,
          19810,
          6055,
          8006,
          5653,
          6634,
          11356,
          11162,
          13973,
          15984,
          7108,
          16774,
          8947,
          22165,
          15480,
          16410,
          3396,
          15001,
          14345,
          9298,
          4749,
          3748,
          2108,
          11802,
          8179,
          4013,
          1968,
          18813,
          1744,
          5653,
          6961,
          6063,
          4199,
          11820,
          10036,
          12098,
          5376,
          4145,
          2409,
          4374,
          6083,
          5998,
          3735,
          10248,
          7201,
          64304,
          4519,
          9850,
          1624,
          895,
          11676,
          4197,
          5783,
          2715,
          10087,
          12212,
          8596,
          2318,
          2198,
          2680,
          1613,
          1833,
          1423,
          260,
          3733,
          1988,
          5527,
          4310,
          0,
          920,
          2450,
          188,
          3146,
          0,
          476,
          0,
          0,
          0,
          417,
          213,
          475,
          1631,
          1321,
          0,
          192,
          198,
          207,
          0,
          568,
          0,
          396,
          48,
          132,
          0,
          183,
          0,
          0,
          0,
          0,
          0,
          0,
          0,
          0,
          0,
          177,
          0,
          0,
          0
         ]
        }
       ],
       "layout": {
        "barmode": "group",
        "template": {
         "data": {
          "bar": [
           {
            "error_x": {
             "color": "#2a3f5f"
            },
            "error_y": {
             "color": "#2a3f5f"
            },
            "marker": {
             "line": {
              "color": "#E5ECF6",
              "width": 0.5
             },
             "pattern": {
              "fillmode": "overlay",
              "size": 10,
              "solidity": 0.2
             }
            },
            "type": "bar"
           }
          ],
          "barpolar": [
           {
            "marker": {
             "line": {
              "color": "#E5ECF6",
              "width": 0.5
             },
             "pattern": {
              "fillmode": "overlay",
              "size": 10,
              "solidity": 0.2
             }
            },
            "type": "barpolar"
           }
          ],
          "carpet": [
           {
            "aaxis": {
             "endlinecolor": "#2a3f5f",
             "gridcolor": "white",
             "linecolor": "white",
             "minorgridcolor": "white",
             "startlinecolor": "#2a3f5f"
            },
            "baxis": {
             "endlinecolor": "#2a3f5f",
             "gridcolor": "white",
             "linecolor": "white",
             "minorgridcolor": "white",
             "startlinecolor": "#2a3f5f"
            },
            "type": "carpet"
           }
          ],
          "choropleth": [
           {
            "colorbar": {
             "outlinewidth": 0,
             "ticks": ""
            },
            "type": "choropleth"
           }
          ],
          "contour": [
           {
            "colorbar": {
             "outlinewidth": 0,
             "ticks": ""
            },
            "colorscale": [
             [
              0,
              "#0d0887"
             ],
             [
              0.1111111111111111,
              "#46039f"
             ],
             [
              0.2222222222222222,
              "#7201a8"
             ],
             [
              0.3333333333333333,
              "#9c179e"
             ],
             [
              0.4444444444444444,
              "#bd3786"
             ],
             [
              0.5555555555555556,
              "#d8576b"
             ],
             [
              0.6666666666666666,
              "#ed7953"
             ],
             [
              0.7777777777777778,
              "#fb9f3a"
             ],
             [
              0.8888888888888888,
              "#fdca26"
             ],
             [
              1,
              "#f0f921"
             ]
            ],
            "type": "contour"
           }
          ],
          "contourcarpet": [
           {
            "colorbar": {
             "outlinewidth": 0,
             "ticks": ""
            },
            "type": "contourcarpet"
           }
          ],
          "heatmap": [
           {
            "colorbar": {
             "outlinewidth": 0,
             "ticks": ""
            },
            "colorscale": [
             [
              0,
              "#0d0887"
             ],
             [
              0.1111111111111111,
              "#46039f"
             ],
             [
              0.2222222222222222,
              "#7201a8"
             ],
             [
              0.3333333333333333,
              "#9c179e"
             ],
             [
              0.4444444444444444,
              "#bd3786"
             ],
             [
              0.5555555555555556,
              "#d8576b"
             ],
             [
              0.6666666666666666,
              "#ed7953"
             ],
             [
              0.7777777777777778,
              "#fb9f3a"
             ],
             [
              0.8888888888888888,
              "#fdca26"
             ],
             [
              1,
              "#f0f921"
             ]
            ],
            "type": "heatmap"
           }
          ],
          "heatmapgl": [
           {
            "colorbar": {
             "outlinewidth": 0,
             "ticks": ""
            },
            "colorscale": [
             [
              0,
              "#0d0887"
             ],
             [
              0.1111111111111111,
              "#46039f"
             ],
             [
              0.2222222222222222,
              "#7201a8"
             ],
             [
              0.3333333333333333,
              "#9c179e"
             ],
             [
              0.4444444444444444,
              "#bd3786"
             ],
             [
              0.5555555555555556,
              "#d8576b"
             ],
             [
              0.6666666666666666,
              "#ed7953"
             ],
             [
              0.7777777777777778,
              "#fb9f3a"
             ],
             [
              0.8888888888888888,
              "#fdca26"
             ],
             [
              1,
              "#f0f921"
             ]
            ],
            "type": "heatmapgl"
           }
          ],
          "histogram": [
           {
            "marker": {
             "pattern": {
              "fillmode": "overlay",
              "size": 10,
              "solidity": 0.2
             }
            },
            "type": "histogram"
           }
          ],
          "histogram2d": [
           {
            "colorbar": {
             "outlinewidth": 0,
             "ticks": ""
            },
            "colorscale": [
             [
              0,
              "#0d0887"
             ],
             [
              0.1111111111111111,
              "#46039f"
             ],
             [
              0.2222222222222222,
              "#7201a8"
             ],
             [
              0.3333333333333333,
              "#9c179e"
             ],
             [
              0.4444444444444444,
              "#bd3786"
             ],
             [
              0.5555555555555556,
              "#d8576b"
             ],
             [
              0.6666666666666666,
              "#ed7953"
             ],
             [
              0.7777777777777778,
              "#fb9f3a"
             ],
             [
              0.8888888888888888,
              "#fdca26"
             ],
             [
              1,
              "#f0f921"
             ]
            ],
            "type": "histogram2d"
           }
          ],
          "histogram2dcontour": [
           {
            "colorbar": {
             "outlinewidth": 0,
             "ticks": ""
            },
            "colorscale": [
             [
              0,
              "#0d0887"
             ],
             [
              0.1111111111111111,
              "#46039f"
             ],
             [
              0.2222222222222222,
              "#7201a8"
             ],
             [
              0.3333333333333333,
              "#9c179e"
             ],
             [
              0.4444444444444444,
              "#bd3786"
             ],
             [
              0.5555555555555556,
              "#d8576b"
             ],
             [
              0.6666666666666666,
              "#ed7953"
             ],
             [
              0.7777777777777778,
              "#fb9f3a"
             ],
             [
              0.8888888888888888,
              "#fdca26"
             ],
             [
              1,
              "#f0f921"
             ]
            ],
            "type": "histogram2dcontour"
           }
          ],
          "mesh3d": [
           {
            "colorbar": {
             "outlinewidth": 0,
             "ticks": ""
            },
            "type": "mesh3d"
           }
          ],
          "parcoords": [
           {
            "line": {
             "colorbar": {
              "outlinewidth": 0,
              "ticks": ""
             }
            },
            "type": "parcoords"
           }
          ],
          "pie": [
           {
            "automargin": true,
            "type": "pie"
           }
          ],
          "scatter": [
           {
            "fillpattern": {
             "fillmode": "overlay",
             "size": 10,
             "solidity": 0.2
            },
            "type": "scatter"
           }
          ],
          "scatter3d": [
           {
            "line": {
             "colorbar": {
              "outlinewidth": 0,
              "ticks": ""
             }
            },
            "marker": {
             "colorbar": {
              "outlinewidth": 0,
              "ticks": ""
             }
            },
            "type": "scatter3d"
           }
          ],
          "scattercarpet": [
           {
            "marker": {
             "colorbar": {
              "outlinewidth": 0,
              "ticks": ""
             }
            },
            "type": "scattercarpet"
           }
          ],
          "scattergeo": [
           {
            "marker": {
             "colorbar": {
              "outlinewidth": 0,
              "ticks": ""
             }
            },
            "type": "scattergeo"
           }
          ],
          "scattergl": [
           {
            "marker": {
             "colorbar": {
              "outlinewidth": 0,
              "ticks": ""
             }
            },
            "type": "scattergl"
           }
          ],
          "scattermapbox": [
           {
            "marker": {
             "colorbar": {
              "outlinewidth": 0,
              "ticks": ""
             }
            },
            "type": "scattermapbox"
           }
          ],
          "scatterpolar": [
           {
            "marker": {
             "colorbar": {
              "outlinewidth": 0,
              "ticks": ""
             }
            },
            "type": "scatterpolar"
           }
          ],
          "scatterpolargl": [
           {
            "marker": {
             "colorbar": {
              "outlinewidth": 0,
              "ticks": ""
             }
            },
            "type": "scatterpolargl"
           }
          ],
          "scatterternary": [
           {
            "marker": {
             "colorbar": {
              "outlinewidth": 0,
              "ticks": ""
             }
            },
            "type": "scatterternary"
           }
          ],
          "surface": [
           {
            "colorbar": {
             "outlinewidth": 0,
             "ticks": ""
            },
            "colorscale": [
             [
              0,
              "#0d0887"
             ],
             [
              0.1111111111111111,
              "#46039f"
             ],
             [
              0.2222222222222222,
              "#7201a8"
             ],
             [
              0.3333333333333333,
              "#9c179e"
             ],
             [
              0.4444444444444444,
              "#bd3786"
             ],
             [
              0.5555555555555556,
              "#d8576b"
             ],
             [
              0.6666666666666666,
              "#ed7953"
             ],
             [
              0.7777777777777778,
              "#fb9f3a"
             ],
             [
              0.8888888888888888,
              "#fdca26"
             ],
             [
              1,
              "#f0f921"
             ]
            ],
            "type": "surface"
           }
          ],
          "table": [
           {
            "cells": {
             "fill": {
              "color": "#EBF0F8"
             },
             "line": {
              "color": "white"
             }
            },
            "header": {
             "fill": {
              "color": "#C8D4E3"
             },
             "line": {
              "color": "white"
             }
            },
            "type": "table"
           }
          ]
         },
         "layout": {
          "annotationdefaults": {
           "arrowcolor": "#2a3f5f",
           "arrowhead": 0,
           "arrowwidth": 1
          },
          "autotypenumbers": "strict",
          "coloraxis": {
           "colorbar": {
            "outlinewidth": 0,
            "ticks": ""
           }
          },
          "colorscale": {
           "diverging": [
            [
             0,
             "#8e0152"
            ],
            [
             0.1,
             "#c51b7d"
            ],
            [
             0.2,
             "#de77ae"
            ],
            [
             0.3,
             "#f1b6da"
            ],
            [
             0.4,
             "#fde0ef"
            ],
            [
             0.5,
             "#f7f7f7"
            ],
            [
             0.6,
             "#e6f5d0"
            ],
            [
             0.7,
             "#b8e186"
            ],
            [
             0.8,
             "#7fbc41"
            ],
            [
             0.9,
             "#4d9221"
            ],
            [
             1,
             "#276419"
            ]
           ],
           "sequential": [
            [
             0,
             "#0d0887"
            ],
            [
             0.1111111111111111,
             "#46039f"
            ],
            [
             0.2222222222222222,
             "#7201a8"
            ],
            [
             0.3333333333333333,
             "#9c179e"
            ],
            [
             0.4444444444444444,
             "#bd3786"
            ],
            [
             0.5555555555555556,
             "#d8576b"
            ],
            [
             0.6666666666666666,
             "#ed7953"
            ],
            [
             0.7777777777777778,
             "#fb9f3a"
            ],
            [
             0.8888888888888888,
             "#fdca26"
            ],
            [
             1,
             "#f0f921"
            ]
           ],
           "sequentialminus": [
            [
             0,
             "#0d0887"
            ],
            [
             0.1111111111111111,
             "#46039f"
            ],
            [
             0.2222222222222222,
             "#7201a8"
            ],
            [
             0.3333333333333333,
             "#9c179e"
            ],
            [
             0.4444444444444444,
             "#bd3786"
            ],
            [
             0.5555555555555556,
             "#d8576b"
            ],
            [
             0.6666666666666666,
             "#ed7953"
            ],
            [
             0.7777777777777778,
             "#fb9f3a"
            ],
            [
             0.8888888888888888,
             "#fdca26"
            ],
            [
             1,
             "#f0f921"
            ]
           ]
          },
          "colorway": [
           "#636efa",
           "#EF553B",
           "#00cc96",
           "#ab63fa",
           "#FFA15A",
           "#19d3f3",
           "#FF6692",
           "#B6E880",
           "#FF97FF",
           "#FECB52"
          ],
          "font": {
           "color": "#2a3f5f"
          },
          "geo": {
           "bgcolor": "white",
           "lakecolor": "white",
           "landcolor": "#E5ECF6",
           "showlakes": true,
           "showland": true,
           "subunitcolor": "white"
          },
          "hoverlabel": {
           "align": "left"
          },
          "hovermode": "closest",
          "mapbox": {
           "style": "light"
          },
          "paper_bgcolor": "white",
          "plot_bgcolor": "#E5ECF6",
          "polar": {
           "angularaxis": {
            "gridcolor": "white",
            "linecolor": "white",
            "ticks": ""
           },
           "bgcolor": "#E5ECF6",
           "radialaxis": {
            "gridcolor": "white",
            "linecolor": "white",
            "ticks": ""
           }
          },
          "scene": {
           "xaxis": {
            "backgroundcolor": "#E5ECF6",
            "gridcolor": "white",
            "gridwidth": 2,
            "linecolor": "white",
            "showbackground": true,
            "ticks": "",
            "zerolinecolor": "white"
           },
           "yaxis": {
            "backgroundcolor": "#E5ECF6",
            "gridcolor": "white",
            "gridwidth": 2,
            "linecolor": "white",
            "showbackground": true,
            "ticks": "",
            "zerolinecolor": "white"
           },
           "zaxis": {
            "backgroundcolor": "#E5ECF6",
            "gridcolor": "white",
            "gridwidth": 2,
            "linecolor": "white",
            "showbackground": true,
            "ticks": "",
            "zerolinecolor": "white"
           }
          },
          "shapedefaults": {
           "line": {
            "color": "#2a3f5f"
           }
          },
          "ternary": {
           "aaxis": {
            "gridcolor": "white",
            "linecolor": "white",
            "ticks": ""
           },
           "baxis": {
            "gridcolor": "white",
            "linecolor": "white",
            "ticks": ""
           },
           "bgcolor": "#E5ECF6",
           "caxis": {
            "gridcolor": "white",
            "linecolor": "white",
            "ticks": ""
           }
          },
          "title": {
           "x": 0.05
          },
          "xaxis": {
           "automargin": true,
           "gridcolor": "white",
           "linecolor": "white",
           "ticks": "",
           "title": {
            "standoff": 15
           },
           "zerolinecolor": "white",
           "zerolinewidth": 2
          },
          "yaxis": {
           "automargin": true,
           "gridcolor": "white",
           "linecolor": "white",
           "ticks": "",
           "title": {
            "standoff": 15
           },
           "zerolinecolor": "white",
           "zerolinewidth": 2
          }
         }
        },
        "xaxis": {
         "tickangle": -45
        }
       }
      },
      "text/html": [
       "<div>                            <div id=\"1dd54393-5c22-4e54-807a-7a3c85e8ffba\" class=\"plotly-graph-div\" style=\"height:525px; width:100%;\"></div>            <script type=\"text/javascript\">                require([\"plotly\"], function(Plotly) {                    window.PLOTLYENV=window.PLOTLYENV || {};                                    if (document.getElementById(\"1dd54393-5c22-4e54-807a-7a3c85e8ffba\")) {                    Plotly.newPlot(                        \"1dd54393-5c22-4e54-807a-7a3c85e8ffba\",                        [{\"marker\":{\"color\":\"indianred\"},\"name\":\"Total Cases\",\"x\":[\"United States\",\"Brazil\",\"India\",\"Russia\",\"Peru\",\"Mexico\",\"Spain\",\"South Africa\",\"Colombia\",\"United Kingdom\",\"Iran\",\"Chile\",\"Italy\",\"France\",\"Argentina\",\"Germany\",\"Turkey\",\"Saudi Arabia\",\"Pakistan\",\"Bangladesh\",\"Iraq\",\"Philippines\",\"China\",\"Indonesia\",\"Canada\",\"Qatar\",\"Israel\",\"Ukraine\",\"Belgium\",\"Ecuador\",\"Kazakhstan\",\"Netherlands\",\"Egypt\",\"Sweden\",\"Bolivia\",\"Romania\",\"Dominican Republic\",\"Kuwait\",\"Belarus\",\"Panama\",\"United Arab Emirates\",\"Oman\",\"Portugal\",\"Poland\",\"Singapore\",\"Morocco\",\"Japan\",\"Guatemala\",\"Switzerland\",\"Bahrain\",\"Honduras\",\"Nigeria\",\"Armenia\",\"Nepal\",\"Ireland\",\"Czech Republic\",\"Afghanistan\",\"Austria\",\"Ghana\",\"Algeria\",\"Ethiopia\",\"Venezuela\",\"Moldova\",\"Costa Rica\",\"Uzbekistan\",\"Kyrgyzstan\",\"Azerbaijan\",\"Serbia\",\"Puerto Rico\",\"South Korea\",\"Kenya\",\"Palestine\",\"Denmark\",\"Australia\",\"El Salvador\",\"Cameroon\",\"Paraguay\",\"Lebanon\",\"Bosnia and Herzegovina\",\"Cote d'Ivoire\",\"Norway\",\"Bulgaria\",\"Libya\",\"Malaysia\",\"Macedonia\",\"Hungary\",\"Sudan\",\"Senegal\",\"Finland\",\"Madagascar\",\"Greece\",\"Kosovo\",\"Croatia\",\"Democratic Republic of Congo\",\"Guinea\",\"Luxembourg\",\"Zambia\",\"Tajikistan\",\"Albania\",\"Gabon\",\"Haiti\",\"Tunisia\",\"Maldives\",\"Mauritania\",\"Slovakia\",\"Djibouti\",\"Jordan\",\"Namibia\",\"Montenegro\",\"Thailand\",\"Myanmar\",\"Zimbabwe\",\"Central African Republic\",\"Cuba\",\"Equatorial Guinea\",\"Slovenia\",\"Malawi\",\"Nicaragua\",\"Mozambique\",\"Somalia\",\"Lithuania\",\"Congo\",\"Cape Verde\",\"Uganda\",\"Sri Lanka\",\"Estonia\",\"Swaziland\",\"Georgia\",\"Iceland\",\"Mali\",\"Rwanda\",\"Jamaica\",\"Suriname\",\"South Sudan\",\"Guinea-Bissau\",\"Angola\",\"Sierra Leone\",\"Syria\",\"Latvia\",\"New Zealand\",\"Malta\",\"Benin\",\"Uruguay\",\"Bahamas\",\"Cyprus\",\"Burkina Faso\",\"Gambia\",\"Yemen\",\"Trinidad and Tobago\",\"Andorra\",\"Aruba\",\"Botswana\",\"Niger\",\"Togo\",\"Guyana\",\"Guam\",\"Liberia\",\"Chad\",\"San Marino\",\"Vietnam\",\"Sao Tome and Principe\",\"Lesotho\",\"Belize\",\"United States Virgin Islands\",\"Taiwan\",\"French Polynesia\",\"Tanzania\",\"Mauritius\",\"Jersey\",\"Isle of Man\",\"Faeroe Islands\",\"Comoros\",\"Guernsey\",\"Burundi\",\"Sint Maarten (Dutch part)\",\"Gibraltar\",\"Turks and Caicos Islands\",\"Mongolia\",\"Eritrea\",\"Cambodia\",\"Papua New Guinea\",\"Cayman Islands\",\"Brunei\",\"Bermuda\",\"Barbados\",\"Bhutan\",\"Monaco\",\"Liechtenstein\",\"Curacao\",\"Seychelles\",\"Antigua and Barbuda\",\"Saint Vincent and the Grenadines\",\"Northern Mariana Islands\",\"Bonaire Sint Eustatius and Saba\",\"Fiji\",\"Timor\",\"British Virgin Islands\",\"New Caledonia\",\"Grenada\",\"Saint Lucia\",\"Laos\",\"Dominica\",\"Saint Kitts and Nevis\",\"Greenland\",\"Falkland Islands\",\"Vatican\",\"Montserrat\",\"Anguilla\",\"Solomon Islands\",\"Hong Kong\"],\"y\":[746014098.0,425704517.0,407771615.0,132888951.0,74882695.0,74347548.0,73717676.0,63027659.0,60543682.0,59475032.0,52421884.0,51268034.0,50752853.0,50084335.0,47155234.0,42447678.0,41431948.0,38585191.0,37738077.0,35266178.0,25280332.0,22409936.0,21632319.0,21570149.0,20902374.0,16351440.0,16202474.0,15805665.0,15192468.0,14408757.0,13194863.0,13026629.0,12422845.0,11910109.0,11858838.0,10672859.0,10649646.0,10622205.0,10595186.0,10371724.0,10247326.0,10060093.0,9266263.0,9239657.0,8191161.0,7839270.0,7659484.0,7644426.0,7552067.0,6549995.0,6545499.0,6107371.0,5474629.0,5243653.0,5239798.0,5213980.0,5126433.0,4909197.0,4900649.0,4893999.0,4876417.0,4839834.0,4632482.0,4631835.0,4421215.0,4287847.0,4236782.0,3984174.0,3586463.0,3333075.0,3277734.0,3249458.0,3030088.0,3012377.0,2573206.0,2476502.0,2265640.0,2220699.0,2200057.0,2132883.0,1985889.0,1890380.0,1817274.0,1774181.0,1724220.0,1708798.0,1663545.0,1586747.0,1458484.0,1443321.0,1421470.0,1345940.0,1314031.0,1271391.0,1195836.0,1146724.0,1129913.0,1117391.0,1071951.0,1031803.0,1023155.0,1000626.0,844040.0,799222.0,798665.0,781771.0,716514.0,681299.0,675912.0,655703.0,644209.0,593699.0,593048.0,581546.0,557355.0,547075.0,536447.0,524410.0,510578.0,491145.0,488057.0,473368.0,463888.0,448728.0,446643.0,445402.0,444238.0,431689.0,421210.0,390637.0,388775.0,370890.0,358632.0,333500.0,306564.0,304005.0,268396.0,267902.0,255964.0,253203.0,251261.0,245893.0,239884.0,237908.0,236673.0,231452.0,229521.0,228925.0,225550.0,223576.0,215110.0,205758.0,199978.0,169903.0,166917.0,160975.0,159880.0,154173.0,134994.0,122618.0,121909.0,107948.0,106383.0,98536.0,97074.0,95388.0,91526.0,69524.0,66777.0,64935.0,56893.0,52437.0,49814.0,49745.0,48026.0,45340.0,44432.0,42465.0,40026.0,39539.0,35966.0,33173.0,30140.0,28876.0,24998.0,22847.0,21511.0,19885.0,19777.0,14701.0,12619.0,7824.0,7784.0,5080.0,4742.0,4697.0,4605.0,4495.0,4470.0,4450.0,4039.0,3977.0,3246.0,2678.0,2467.0,2415.0,2383.0,614.0,11.0,0.0],\"type\":\"bar\"},{\"marker\":{\"color\":\"lightsalmon\"},\"name\":\"Total Deaths\",\"x\":[\"United States\",\"Brazil\",\"India\",\"Russia\",\"Peru\",\"Mexico\",\"Spain\",\"South Africa\",\"Colombia\",\"United Kingdom\",\"Iran\",\"Chile\",\"Italy\",\"France\",\"Argentina\",\"Germany\",\"Turkey\",\"Saudi Arabia\",\"Pakistan\",\"Bangladesh\",\"Iraq\",\"Philippines\",\"China\",\"Indonesia\",\"Canada\",\"Qatar\",\"Israel\",\"Ukraine\",\"Belgium\",\"Ecuador\",\"Kazakhstan\",\"Netherlands\",\"Egypt\",\"Sweden\",\"Bolivia\",\"Romania\",\"Dominican Republic\",\"Kuwait\",\"Belarus\",\"Panama\",\"United Arab Emirates\",\"Oman\",\"Portugal\",\"Poland\",\"Singapore\",\"Morocco\",\"Japan\",\"Guatemala\",\"Switzerland\",\"Bahrain\",\"Honduras\",\"Nigeria\",\"Armenia\",\"Nepal\",\"Ireland\",\"Czech Republic\",\"Afghanistan\",\"Austria\",\"Ghana\",\"Algeria\",\"Ethiopia\",\"Venezuela\",\"Moldova\",\"Costa Rica\",\"Uzbekistan\",\"Kyrgyzstan\",\"Azerbaijan\",\"Serbia\",\"Puerto Rico\",\"South Korea\",\"Kenya\",\"Palestine\",\"Denmark\",\"Australia\",\"El Salvador\",\"Cameroon\",\"Paraguay\",\"Lebanon\",\"Bosnia and Herzegovina\",\"Cote d'Ivoire\",\"Norway\",\"Bulgaria\",\"Libya\",\"Malaysia\",\"Macedonia\",\"Hungary\",\"Sudan\",\"Senegal\",\"Finland\",\"Madagascar\",\"Greece\",\"Kosovo\",\"Croatia\",\"Democratic Republic of Congo\",\"Guinea\",\"Luxembourg\",\"Zambia\",\"Tajikistan\",\"Albania\",\"Gabon\",\"Haiti\",\"Tunisia\",\"Maldives\",\"Mauritania\",\"Slovakia\",\"Djibouti\",\"Jordan\",\"Namibia\",\"Montenegro\",\"Thailand\",\"Myanmar\",\"Zimbabwe\",\"Central African Republic\",\"Cuba\",\"Equatorial Guinea\",\"Slovenia\",\"Malawi\",\"Nicaragua\",\"Mozambique\",\"Somalia\",\"Lithuania\",\"Congo\",\"Cape Verde\",\"Uganda\",\"Sri Lanka\",\"Estonia\",\"Swaziland\",\"Georgia\",\"Iceland\",\"Mali\",\"Rwanda\",\"Jamaica\",\"Suriname\",\"South Sudan\",\"Guinea-Bissau\",\"Angola\",\"Sierra Leone\",\"Syria\",\"Latvia\",\"New Zealand\",\"Malta\",\"Benin\",\"Uruguay\",\"Bahamas\",\"Cyprus\",\"Burkina Faso\",\"Gambia\",\"Yemen\",\"Trinidad and Tobago\",\"Andorra\",\"Aruba\",\"Botswana\",\"Niger\",\"Togo\",\"Guyana\",\"Guam\",\"Liberia\",\"Chad\",\"San Marino\",\"Vietnam\",\"Sao Tome and Principe\",\"Lesotho\",\"Belize\",\"United States Virgin Islands\",\"Taiwan\",\"French Polynesia\",\"Tanzania\",\"Mauritius\",\"Jersey\",\"Isle of Man\",\"Faeroe Islands\",\"Comoros\",\"Guernsey\",\"Burundi\",\"Sint Maarten (Dutch part)\",\"Gibraltar\",\"Turks and Caicos Islands\",\"Mongolia\",\"Eritrea\",\"Cambodia\",\"Papua New Guinea\",\"Cayman Islands\",\"Brunei\",\"Bermuda\",\"Barbados\",\"Bhutan\",\"Monaco\",\"Liechtenstein\",\"Curacao\",\"Seychelles\",\"Antigua and Barbuda\",\"Saint Vincent and the Grenadines\",\"Northern Mariana Islands\",\"Bonaire Sint Eustatius and Saba\",\"Fiji\",\"Timor\",\"British Virgin Islands\",\"New Caledonia\",\"Grenada\",\"Saint Lucia\",\"Laos\",\"Dominica\",\"Saint Kitts and Nevis\",\"Greenland\",\"Falkland Islands\",\"Vatican\",\"Montserrat\",\"Anguilla\",\"Solomon Islands\",\"Hong Kong\"],\"y\":[26477574.0,14340567.0,7247327.0,2131571.0,3020038.0,7295850.0,5510624.0,1357682.0,1936134.0,7249573.0,2914070.0,1283880.0,6664225.0,5633444.0,1077426.0,1640691.0,1049757.0,442507.0,789557.0,484534.0,744253.0,448665.0,1066939.0,916111.0,1455549.0,23820.0,126278.0,343334.0,1798461.0,1083749.0,161480.0,1142410.0,644416.0,941063.0,578559.0,464952.0,209024.0,69104.0,88409.0,222435.0,58035.0,73391.0,302612.0,304001.0,4691.0,142270.0,194918.0,281588.0,320693.0,22413.0,200844.0,125473.0,102039.0,27737.0,310201.0,79880.0,165875.0,134945.0,29143.0,206429.0,77686.0,40840.0,129946.0,50352.0,31903.0,114922.0,59495.0,87503.0,54940.0,63333.0,59485.0,21522.0,113280.0,65029.0,71957.0,56606.0,42850.0,22983.0,70578.0,14220.0,47158.0,72850.0,29730.0,24012.0,74066.0,110142.0,102825.0,30320.0,58377.0,17744.0,44805.0,47571.0,28757.0,32040.0,7283.0,21907.0,26475.0,9730.0,31056.0,6877.0,23891.0,19025.0,3054.0,19810.0,6055.0,8006.0,5653.0,6634.0,11356.0,11162.0,13973.0,15984.0,7108.0,16774.0,8947.0,22165.0,15480.0,16410.0,3396.0,15001.0,14345.0,9298.0,4749.0,3748.0,2108.0,11802.0,8179.0,4013.0,1968.0,18813.0,1744.0,5653.0,6961.0,6063.0,4199.0,11820.0,10036.0,12098.0,5376.0,4145.0,2409.0,4374.0,6083.0,5998.0,3735.0,10248.0,7201.0,64304.0,4519.0,9850.0,1624.0,895.0,11676.0,4197.0,5783.0,2715.0,10087.0,12212.0,8596.0,2318.0,2198.0,2680.0,1613.0,1833.0,1423.0,260.0,3733.0,1988.0,5527.0,4310.0,0.0,920.0,2450.0,188.0,3146.0,0.0,476.0,0.0,0.0,0.0,417.0,213.0,475.0,1631.0,1321.0,0.0,192.0,198.0,207.0,0.0,568.0,0.0,396.0,48.0,132.0,0.0,183.0,0.0,0.0,0.0,0.0,0.0,0.0,0.0,0.0,0.0,177.0,0.0,0.0,0.0],\"type\":\"bar\"}],                        {\"template\":{\"data\":{\"histogram2dcontour\":[{\"type\":\"histogram2dcontour\",\"colorbar\":{\"outlinewidth\":0,\"ticks\":\"\"},\"colorscale\":[[0.0,\"#0d0887\"],[0.1111111111111111,\"#46039f\"],[0.2222222222222222,\"#7201a8\"],[0.3333333333333333,\"#9c179e\"],[0.4444444444444444,\"#bd3786\"],[0.5555555555555556,\"#d8576b\"],[0.6666666666666666,\"#ed7953\"],[0.7777777777777778,\"#fb9f3a\"],[0.8888888888888888,\"#fdca26\"],[1.0,\"#f0f921\"]]}],\"choropleth\":[{\"type\":\"choropleth\",\"colorbar\":{\"outlinewidth\":0,\"ticks\":\"\"}}],\"histogram2d\":[{\"type\":\"histogram2d\",\"colorbar\":{\"outlinewidth\":0,\"ticks\":\"\"},\"colorscale\":[[0.0,\"#0d0887\"],[0.1111111111111111,\"#46039f\"],[0.2222222222222222,\"#7201a8\"],[0.3333333333333333,\"#9c179e\"],[0.4444444444444444,\"#bd3786\"],[0.5555555555555556,\"#d8576b\"],[0.6666666666666666,\"#ed7953\"],[0.7777777777777778,\"#fb9f3a\"],[0.8888888888888888,\"#fdca26\"],[1.0,\"#f0f921\"]]}],\"heatmap\":[{\"type\":\"heatmap\",\"colorbar\":{\"outlinewidth\":0,\"ticks\":\"\"},\"colorscale\":[[0.0,\"#0d0887\"],[0.1111111111111111,\"#46039f\"],[0.2222222222222222,\"#7201a8\"],[0.3333333333333333,\"#9c179e\"],[0.4444444444444444,\"#bd3786\"],[0.5555555555555556,\"#d8576b\"],[0.6666666666666666,\"#ed7953\"],[0.7777777777777778,\"#fb9f3a\"],[0.8888888888888888,\"#fdca26\"],[1.0,\"#f0f921\"]]}],\"heatmapgl\":[{\"type\":\"heatmapgl\",\"colorbar\":{\"outlinewidth\":0,\"ticks\":\"\"},\"colorscale\":[[0.0,\"#0d0887\"],[0.1111111111111111,\"#46039f\"],[0.2222222222222222,\"#7201a8\"],[0.3333333333333333,\"#9c179e\"],[0.4444444444444444,\"#bd3786\"],[0.5555555555555556,\"#d8576b\"],[0.6666666666666666,\"#ed7953\"],[0.7777777777777778,\"#fb9f3a\"],[0.8888888888888888,\"#fdca26\"],[1.0,\"#f0f921\"]]}],\"contourcarpet\":[{\"type\":\"contourcarpet\",\"colorbar\":{\"outlinewidth\":0,\"ticks\":\"\"}}],\"contour\":[{\"type\":\"contour\",\"colorbar\":{\"outlinewidth\":0,\"ticks\":\"\"},\"colorscale\":[[0.0,\"#0d0887\"],[0.1111111111111111,\"#46039f\"],[0.2222222222222222,\"#7201a8\"],[0.3333333333333333,\"#9c179e\"],[0.4444444444444444,\"#bd3786\"],[0.5555555555555556,\"#d8576b\"],[0.6666666666666666,\"#ed7953\"],[0.7777777777777778,\"#fb9f3a\"],[0.8888888888888888,\"#fdca26\"],[1.0,\"#f0f921\"]]}],\"surface\":[{\"type\":\"surface\",\"colorbar\":{\"outlinewidth\":0,\"ticks\":\"\"},\"colorscale\":[[0.0,\"#0d0887\"],[0.1111111111111111,\"#46039f\"],[0.2222222222222222,\"#7201a8\"],[0.3333333333333333,\"#9c179e\"],[0.4444444444444444,\"#bd3786\"],[0.5555555555555556,\"#d8576b\"],[0.6666666666666666,\"#ed7953\"],[0.7777777777777778,\"#fb9f3a\"],[0.8888888888888888,\"#fdca26\"],[1.0,\"#f0f921\"]]}],\"mesh3d\":[{\"type\":\"mesh3d\",\"colorbar\":{\"outlinewidth\":0,\"ticks\":\"\"}}],\"scatter\":[{\"fillpattern\":{\"fillmode\":\"overlay\",\"size\":10,\"solidity\":0.2},\"type\":\"scatter\"}],\"parcoords\":[{\"type\":\"parcoords\",\"line\":{\"colorbar\":{\"outlinewidth\":0,\"ticks\":\"\"}}}],\"scatterpolargl\":[{\"type\":\"scatterpolargl\",\"marker\":{\"colorbar\":{\"outlinewidth\":0,\"ticks\":\"\"}}}],\"bar\":[{\"error_x\":{\"color\":\"#2a3f5f\"},\"error_y\":{\"color\":\"#2a3f5f\"},\"marker\":{\"line\":{\"color\":\"#E5ECF6\",\"width\":0.5},\"pattern\":{\"fillmode\":\"overlay\",\"size\":10,\"solidity\":0.2}},\"type\":\"bar\"}],\"scattergeo\":[{\"type\":\"scattergeo\",\"marker\":{\"colorbar\":{\"outlinewidth\":0,\"ticks\":\"\"}}}],\"scatterpolar\":[{\"type\":\"scatterpolar\",\"marker\":{\"colorbar\":{\"outlinewidth\":0,\"ticks\":\"\"}}}],\"histogram\":[{\"marker\":{\"pattern\":{\"fillmode\":\"overlay\",\"size\":10,\"solidity\":0.2}},\"type\":\"histogram\"}],\"scattergl\":[{\"type\":\"scattergl\",\"marker\":{\"colorbar\":{\"outlinewidth\":0,\"ticks\":\"\"}}}],\"scatter3d\":[{\"type\":\"scatter3d\",\"line\":{\"colorbar\":{\"outlinewidth\":0,\"ticks\":\"\"}},\"marker\":{\"colorbar\":{\"outlinewidth\":0,\"ticks\":\"\"}}}],\"scattermapbox\":[{\"type\":\"scattermapbox\",\"marker\":{\"colorbar\":{\"outlinewidth\":0,\"ticks\":\"\"}}}],\"scatterternary\":[{\"type\":\"scatterternary\",\"marker\":{\"colorbar\":{\"outlinewidth\":0,\"ticks\":\"\"}}}],\"scattercarpet\":[{\"type\":\"scattercarpet\",\"marker\":{\"colorbar\":{\"outlinewidth\":0,\"ticks\":\"\"}}}],\"carpet\":[{\"aaxis\":{\"endlinecolor\":\"#2a3f5f\",\"gridcolor\":\"white\",\"linecolor\":\"white\",\"minorgridcolor\":\"white\",\"startlinecolor\":\"#2a3f5f\"},\"baxis\":{\"endlinecolor\":\"#2a3f5f\",\"gridcolor\":\"white\",\"linecolor\":\"white\",\"minorgridcolor\":\"white\",\"startlinecolor\":\"#2a3f5f\"},\"type\":\"carpet\"}],\"table\":[{\"cells\":{\"fill\":{\"color\":\"#EBF0F8\"},\"line\":{\"color\":\"white\"}},\"header\":{\"fill\":{\"color\":\"#C8D4E3\"},\"line\":{\"color\":\"white\"}},\"type\":\"table\"}],\"barpolar\":[{\"marker\":{\"line\":{\"color\":\"#E5ECF6\",\"width\":0.5},\"pattern\":{\"fillmode\":\"overlay\",\"size\":10,\"solidity\":0.2}},\"type\":\"barpolar\"}],\"pie\":[{\"automargin\":true,\"type\":\"pie\"}]},\"layout\":{\"autotypenumbers\":\"strict\",\"colorway\":[\"#636efa\",\"#EF553B\",\"#00cc96\",\"#ab63fa\",\"#FFA15A\",\"#19d3f3\",\"#FF6692\",\"#B6E880\",\"#FF97FF\",\"#FECB52\"],\"font\":{\"color\":\"#2a3f5f\"},\"hovermode\":\"closest\",\"hoverlabel\":{\"align\":\"left\"},\"paper_bgcolor\":\"white\",\"plot_bgcolor\":\"#E5ECF6\",\"polar\":{\"bgcolor\":\"#E5ECF6\",\"angularaxis\":{\"gridcolor\":\"white\",\"linecolor\":\"white\",\"ticks\":\"\"},\"radialaxis\":{\"gridcolor\":\"white\",\"linecolor\":\"white\",\"ticks\":\"\"}},\"ternary\":{\"bgcolor\":\"#E5ECF6\",\"aaxis\":{\"gridcolor\":\"white\",\"linecolor\":\"white\",\"ticks\":\"\"},\"baxis\":{\"gridcolor\":\"white\",\"linecolor\":\"white\",\"ticks\":\"\"},\"caxis\":{\"gridcolor\":\"white\",\"linecolor\":\"white\",\"ticks\":\"\"}},\"coloraxis\":{\"colorbar\":{\"outlinewidth\":0,\"ticks\":\"\"}},\"colorscale\":{\"sequential\":[[0.0,\"#0d0887\"],[0.1111111111111111,\"#46039f\"],[0.2222222222222222,\"#7201a8\"],[0.3333333333333333,\"#9c179e\"],[0.4444444444444444,\"#bd3786\"],[0.5555555555555556,\"#d8576b\"],[0.6666666666666666,\"#ed7953\"],[0.7777777777777778,\"#fb9f3a\"],[0.8888888888888888,\"#fdca26\"],[1.0,\"#f0f921\"]],\"sequentialminus\":[[0.0,\"#0d0887\"],[0.1111111111111111,\"#46039f\"],[0.2222222222222222,\"#7201a8\"],[0.3333333333333333,\"#9c179e\"],[0.4444444444444444,\"#bd3786\"],[0.5555555555555556,\"#d8576b\"],[0.6666666666666666,\"#ed7953\"],[0.7777777777777778,\"#fb9f3a\"],[0.8888888888888888,\"#fdca26\"],[1.0,\"#f0f921\"]],\"diverging\":[[0,\"#8e0152\"],[0.1,\"#c51b7d\"],[0.2,\"#de77ae\"],[0.3,\"#f1b6da\"],[0.4,\"#fde0ef\"],[0.5,\"#f7f7f7\"],[0.6,\"#e6f5d0\"],[0.7,\"#b8e186\"],[0.8,\"#7fbc41\"],[0.9,\"#4d9221\"],[1,\"#276419\"]]},\"xaxis\":{\"gridcolor\":\"white\",\"linecolor\":\"white\",\"ticks\":\"\",\"title\":{\"standoff\":15},\"zerolinecolor\":\"white\",\"automargin\":true,\"zerolinewidth\":2},\"yaxis\":{\"gridcolor\":\"white\",\"linecolor\":\"white\",\"ticks\":\"\",\"title\":{\"standoff\":15},\"zerolinecolor\":\"white\",\"automargin\":true,\"zerolinewidth\":2},\"scene\":{\"xaxis\":{\"backgroundcolor\":\"#E5ECF6\",\"gridcolor\":\"white\",\"linecolor\":\"white\",\"showbackground\":true,\"ticks\":\"\",\"zerolinecolor\":\"white\",\"gridwidth\":2},\"yaxis\":{\"backgroundcolor\":\"#E5ECF6\",\"gridcolor\":\"white\",\"linecolor\":\"white\",\"showbackground\":true,\"ticks\":\"\",\"zerolinecolor\":\"white\",\"gridwidth\":2},\"zaxis\":{\"backgroundcolor\":\"#E5ECF6\",\"gridcolor\":\"white\",\"linecolor\":\"white\",\"showbackground\":true,\"ticks\":\"\",\"zerolinecolor\":\"white\",\"gridwidth\":2}},\"shapedefaults\":{\"line\":{\"color\":\"#2a3f5f\"}},\"annotationdefaults\":{\"arrowcolor\":\"#2a3f5f\",\"arrowhead\":0,\"arrowwidth\":1},\"geo\":{\"bgcolor\":\"white\",\"landcolor\":\"#E5ECF6\",\"subunitcolor\":\"white\",\"showland\":true,\"showlakes\":true,\"lakecolor\":\"white\"},\"title\":{\"x\":0.05},\"mapbox\":{\"style\":\"light\"}}},\"xaxis\":{\"tickangle\":-45},\"barmode\":\"group\"},                        {\"responsive\": true}                    ).then(function(){\n",
       "                            \n",
       "var gd = document.getElementById('1dd54393-5c22-4e54-807a-7a3c85e8ffba');\n",
       "var x = new MutationObserver(function (mutations, observer) {{\n",
       "        var display = window.getComputedStyle(gd).display;\n",
       "        if (!display || display === 'none') {{\n",
       "            console.log([gd, 'removed!']);\n",
       "            Plotly.purge(gd);\n",
       "            observer.disconnect();\n",
       "        }}\n",
       "}});\n",
       "\n",
       "// Listen for the removal of the full notebook cells\n",
       "var notebookContainer = gd.closest('#notebook-container');\n",
       "if (notebookContainer) {{\n",
       "    x.observe(notebookContainer, {childList: true});\n",
       "}}\n",
       "\n",
       "// Listen for the clearing of the current output cell\n",
       "var outputEl = gd.closest('.output');\n",
       "if (outputEl) {{\n",
       "    x.observe(outputEl, {childList: true});\n",
       "}}\n",
       "\n",
       "                        })                };                });            </script>        </div>"
      ]
     },
     "metadata": {},
     "output_type": "display_data"
    }
   ],
   "source": [
    "fig = go.Figure()\n",
    "fig.add_trace(go.Bar(\n",
    "    x=data[\"Country\"],\n",
    "    y=data[\"Total Cases\"],\n",
    "    name='Total Cases',\n",
    "    marker_color='indianred'\n",
    "))\n",
    "fig.add_trace(go.Bar(\n",
    "    x=data[\"Country\"],\n",
    "    y=data[\"Total Deaths\"],\n",
    "    name='Total Deaths',\n",
    "    marker_color='lightsalmon'\n",
    "))\n",
    "fig.update_layout(barmode='group', xaxis_tickangle=-45)\n",
    "fig.show()"
   ]
  },
  {
   "cell_type": "code",
   "execution_count": 14,
   "id": "1ddc880d",
   "metadata": {},
   "outputs": [
    {
     "data": {
      "application/vnd.plotly.v1+json": {
       "config": {
        "plotlyServerURL": "https://plot.ly"
       },
       "data": [
        {
         "domain": {
          "x": [
           0,
           1
          ],
          "y": [
           0,
           1
          ]
         },
         "hole": 0.5,
         "hovertemplate": "label=%{label}<br>value=%{value}<extra></extra>",
         "labels": [
          "Total Cases",
          "Total Deaths"
         ],
         "legendgroup": "",
         "name": "",
         "showlegend": true,
         "type": "pie",
         "values": [
          3133760956,
          116851104
         ]
        }
       ],
       "layout": {
        "legend": {
         "tracegroupgap": 0
        },
        "template": {
         "data": {
          "bar": [
           {
            "error_x": {
             "color": "#2a3f5f"
            },
            "error_y": {
             "color": "#2a3f5f"
            },
            "marker": {
             "line": {
              "color": "#E5ECF6",
              "width": 0.5
             },
             "pattern": {
              "fillmode": "overlay",
              "size": 10,
              "solidity": 0.2
             }
            },
            "type": "bar"
           }
          ],
          "barpolar": [
           {
            "marker": {
             "line": {
              "color": "#E5ECF6",
              "width": 0.5
             },
             "pattern": {
              "fillmode": "overlay",
              "size": 10,
              "solidity": 0.2
             }
            },
            "type": "barpolar"
           }
          ],
          "carpet": [
           {
            "aaxis": {
             "endlinecolor": "#2a3f5f",
             "gridcolor": "white",
             "linecolor": "white",
             "minorgridcolor": "white",
             "startlinecolor": "#2a3f5f"
            },
            "baxis": {
             "endlinecolor": "#2a3f5f",
             "gridcolor": "white",
             "linecolor": "white",
             "minorgridcolor": "white",
             "startlinecolor": "#2a3f5f"
            },
            "type": "carpet"
           }
          ],
          "choropleth": [
           {
            "colorbar": {
             "outlinewidth": 0,
             "ticks": ""
            },
            "type": "choropleth"
           }
          ],
          "contour": [
           {
            "colorbar": {
             "outlinewidth": 0,
             "ticks": ""
            },
            "colorscale": [
             [
              0,
              "#0d0887"
             ],
             [
              0.1111111111111111,
              "#46039f"
             ],
             [
              0.2222222222222222,
              "#7201a8"
             ],
             [
              0.3333333333333333,
              "#9c179e"
             ],
             [
              0.4444444444444444,
              "#bd3786"
             ],
             [
              0.5555555555555556,
              "#d8576b"
             ],
             [
              0.6666666666666666,
              "#ed7953"
             ],
             [
              0.7777777777777778,
              "#fb9f3a"
             ],
             [
              0.8888888888888888,
              "#fdca26"
             ],
             [
              1,
              "#f0f921"
             ]
            ],
            "type": "contour"
           }
          ],
          "contourcarpet": [
           {
            "colorbar": {
             "outlinewidth": 0,
             "ticks": ""
            },
            "type": "contourcarpet"
           }
          ],
          "heatmap": [
           {
            "colorbar": {
             "outlinewidth": 0,
             "ticks": ""
            },
            "colorscale": [
             [
              0,
              "#0d0887"
             ],
             [
              0.1111111111111111,
              "#46039f"
             ],
             [
              0.2222222222222222,
              "#7201a8"
             ],
             [
              0.3333333333333333,
              "#9c179e"
             ],
             [
              0.4444444444444444,
              "#bd3786"
             ],
             [
              0.5555555555555556,
              "#d8576b"
             ],
             [
              0.6666666666666666,
              "#ed7953"
             ],
             [
              0.7777777777777778,
              "#fb9f3a"
             ],
             [
              0.8888888888888888,
              "#fdca26"
             ],
             [
              1,
              "#f0f921"
             ]
            ],
            "type": "heatmap"
           }
          ],
          "heatmapgl": [
           {
            "colorbar": {
             "outlinewidth": 0,
             "ticks": ""
            },
            "colorscale": [
             [
              0,
              "#0d0887"
             ],
             [
              0.1111111111111111,
              "#46039f"
             ],
             [
              0.2222222222222222,
              "#7201a8"
             ],
             [
              0.3333333333333333,
              "#9c179e"
             ],
             [
              0.4444444444444444,
              "#bd3786"
             ],
             [
              0.5555555555555556,
              "#d8576b"
             ],
             [
              0.6666666666666666,
              "#ed7953"
             ],
             [
              0.7777777777777778,
              "#fb9f3a"
             ],
             [
              0.8888888888888888,
              "#fdca26"
             ],
             [
              1,
              "#f0f921"
             ]
            ],
            "type": "heatmapgl"
           }
          ],
          "histogram": [
           {
            "marker": {
             "pattern": {
              "fillmode": "overlay",
              "size": 10,
              "solidity": 0.2
             }
            },
            "type": "histogram"
           }
          ],
          "histogram2d": [
           {
            "colorbar": {
             "outlinewidth": 0,
             "ticks": ""
            },
            "colorscale": [
             [
              0,
              "#0d0887"
             ],
             [
              0.1111111111111111,
              "#46039f"
             ],
             [
              0.2222222222222222,
              "#7201a8"
             ],
             [
              0.3333333333333333,
              "#9c179e"
             ],
             [
              0.4444444444444444,
              "#bd3786"
             ],
             [
              0.5555555555555556,
              "#d8576b"
             ],
             [
              0.6666666666666666,
              "#ed7953"
             ],
             [
              0.7777777777777778,
              "#fb9f3a"
             ],
             [
              0.8888888888888888,
              "#fdca26"
             ],
             [
              1,
              "#f0f921"
             ]
            ],
            "type": "histogram2d"
           }
          ],
          "histogram2dcontour": [
           {
            "colorbar": {
             "outlinewidth": 0,
             "ticks": ""
            },
            "colorscale": [
             [
              0,
              "#0d0887"
             ],
             [
              0.1111111111111111,
              "#46039f"
             ],
             [
              0.2222222222222222,
              "#7201a8"
             ],
             [
              0.3333333333333333,
              "#9c179e"
             ],
             [
              0.4444444444444444,
              "#bd3786"
             ],
             [
              0.5555555555555556,
              "#d8576b"
             ],
             [
              0.6666666666666666,
              "#ed7953"
             ],
             [
              0.7777777777777778,
              "#fb9f3a"
             ],
             [
              0.8888888888888888,
              "#fdca26"
             ],
             [
              1,
              "#f0f921"
             ]
            ],
            "type": "histogram2dcontour"
           }
          ],
          "mesh3d": [
           {
            "colorbar": {
             "outlinewidth": 0,
             "ticks": ""
            },
            "type": "mesh3d"
           }
          ],
          "parcoords": [
           {
            "line": {
             "colorbar": {
              "outlinewidth": 0,
              "ticks": ""
             }
            },
            "type": "parcoords"
           }
          ],
          "pie": [
           {
            "automargin": true,
            "type": "pie"
           }
          ],
          "scatter": [
           {
            "fillpattern": {
             "fillmode": "overlay",
             "size": 10,
             "solidity": 0.2
            },
            "type": "scatter"
           }
          ],
          "scatter3d": [
           {
            "line": {
             "colorbar": {
              "outlinewidth": 0,
              "ticks": ""
             }
            },
            "marker": {
             "colorbar": {
              "outlinewidth": 0,
              "ticks": ""
             }
            },
            "type": "scatter3d"
           }
          ],
          "scattercarpet": [
           {
            "marker": {
             "colorbar": {
              "outlinewidth": 0,
              "ticks": ""
             }
            },
            "type": "scattercarpet"
           }
          ],
          "scattergeo": [
           {
            "marker": {
             "colorbar": {
              "outlinewidth": 0,
              "ticks": ""
             }
            },
            "type": "scattergeo"
           }
          ],
          "scattergl": [
           {
            "marker": {
             "colorbar": {
              "outlinewidth": 0,
              "ticks": ""
             }
            },
            "type": "scattergl"
           }
          ],
          "scattermapbox": [
           {
            "marker": {
             "colorbar": {
              "outlinewidth": 0,
              "ticks": ""
             }
            },
            "type": "scattermapbox"
           }
          ],
          "scatterpolar": [
           {
            "marker": {
             "colorbar": {
              "outlinewidth": 0,
              "ticks": ""
             }
            },
            "type": "scatterpolar"
           }
          ],
          "scatterpolargl": [
           {
            "marker": {
             "colorbar": {
              "outlinewidth": 0,
              "ticks": ""
             }
            },
            "type": "scatterpolargl"
           }
          ],
          "scatterternary": [
           {
            "marker": {
             "colorbar": {
              "outlinewidth": 0,
              "ticks": ""
             }
            },
            "type": "scatterternary"
           }
          ],
          "surface": [
           {
            "colorbar": {
             "outlinewidth": 0,
             "ticks": ""
            },
            "colorscale": [
             [
              0,
              "#0d0887"
             ],
             [
              0.1111111111111111,
              "#46039f"
             ],
             [
              0.2222222222222222,
              "#7201a8"
             ],
             [
              0.3333333333333333,
              "#9c179e"
             ],
             [
              0.4444444444444444,
              "#bd3786"
             ],
             [
              0.5555555555555556,
              "#d8576b"
             ],
             [
              0.6666666666666666,
              "#ed7953"
             ],
             [
              0.7777777777777778,
              "#fb9f3a"
             ],
             [
              0.8888888888888888,
              "#fdca26"
             ],
             [
              1,
              "#f0f921"
             ]
            ],
            "type": "surface"
           }
          ],
          "table": [
           {
            "cells": {
             "fill": {
              "color": "#EBF0F8"
             },
             "line": {
              "color": "white"
             }
            },
            "header": {
             "fill": {
              "color": "#C8D4E3"
             },
             "line": {
              "color": "white"
             }
            },
            "type": "table"
           }
          ]
         },
         "layout": {
          "annotationdefaults": {
           "arrowcolor": "#2a3f5f",
           "arrowhead": 0,
           "arrowwidth": 1
          },
          "autotypenumbers": "strict",
          "coloraxis": {
           "colorbar": {
            "outlinewidth": 0,
            "ticks": ""
           }
          },
          "colorscale": {
           "diverging": [
            [
             0,
             "#8e0152"
            ],
            [
             0.1,
             "#c51b7d"
            ],
            [
             0.2,
             "#de77ae"
            ],
            [
             0.3,
             "#f1b6da"
            ],
            [
             0.4,
             "#fde0ef"
            ],
            [
             0.5,
             "#f7f7f7"
            ],
            [
             0.6,
             "#e6f5d0"
            ],
            [
             0.7,
             "#b8e186"
            ],
            [
             0.8,
             "#7fbc41"
            ],
            [
             0.9,
             "#4d9221"
            ],
            [
             1,
             "#276419"
            ]
           ],
           "sequential": [
            [
             0,
             "#0d0887"
            ],
            [
             0.1111111111111111,
             "#46039f"
            ],
            [
             0.2222222222222222,
             "#7201a8"
            ],
            [
             0.3333333333333333,
             "#9c179e"
            ],
            [
             0.4444444444444444,
             "#bd3786"
            ],
            [
             0.5555555555555556,
             "#d8576b"
            ],
            [
             0.6666666666666666,
             "#ed7953"
            ],
            [
             0.7777777777777778,
             "#fb9f3a"
            ],
            [
             0.8888888888888888,
             "#fdca26"
            ],
            [
             1,
             "#f0f921"
            ]
           ],
           "sequentialminus": [
            [
             0,
             "#0d0887"
            ],
            [
             0.1111111111111111,
             "#46039f"
            ],
            [
             0.2222222222222222,
             "#7201a8"
            ],
            [
             0.3333333333333333,
             "#9c179e"
            ],
            [
             0.4444444444444444,
             "#bd3786"
            ],
            [
             0.5555555555555556,
             "#d8576b"
            ],
            [
             0.6666666666666666,
             "#ed7953"
            ],
            [
             0.7777777777777778,
             "#fb9f3a"
            ],
            [
             0.8888888888888888,
             "#fdca26"
            ],
            [
             1,
             "#f0f921"
            ]
           ]
          },
          "colorway": [
           "#636efa",
           "#EF553B",
           "#00cc96",
           "#ab63fa",
           "#FFA15A",
           "#19d3f3",
           "#FF6692",
           "#B6E880",
           "#FF97FF",
           "#FECB52"
          ],
          "font": {
           "color": "#2a3f5f"
          },
          "geo": {
           "bgcolor": "white",
           "lakecolor": "white",
           "landcolor": "#E5ECF6",
           "showlakes": true,
           "showland": true,
           "subunitcolor": "white"
          },
          "hoverlabel": {
           "align": "left"
          },
          "hovermode": "closest",
          "mapbox": {
           "style": "light"
          },
          "paper_bgcolor": "white",
          "plot_bgcolor": "#E5ECF6",
          "polar": {
           "angularaxis": {
            "gridcolor": "white",
            "linecolor": "white",
            "ticks": ""
           },
           "bgcolor": "#E5ECF6",
           "radialaxis": {
            "gridcolor": "white",
            "linecolor": "white",
            "ticks": ""
           }
          },
          "scene": {
           "xaxis": {
            "backgroundcolor": "#E5ECF6",
            "gridcolor": "white",
            "gridwidth": 2,
            "linecolor": "white",
            "showbackground": true,
            "ticks": "",
            "zerolinecolor": "white"
           },
           "yaxis": {
            "backgroundcolor": "#E5ECF6",
            "gridcolor": "white",
            "gridwidth": 2,
            "linecolor": "white",
            "showbackground": true,
            "ticks": "",
            "zerolinecolor": "white"
           },
           "zaxis": {
            "backgroundcolor": "#E5ECF6",
            "gridcolor": "white",
            "gridwidth": 2,
            "linecolor": "white",
            "showbackground": true,
            "ticks": "",
            "zerolinecolor": "white"
           }
          },
          "shapedefaults": {
           "line": {
            "color": "#2a3f5f"
           }
          },
          "ternary": {
           "aaxis": {
            "gridcolor": "white",
            "linecolor": "white",
            "ticks": ""
           },
           "baxis": {
            "gridcolor": "white",
            "linecolor": "white",
            "ticks": ""
           },
           "bgcolor": "#E5ECF6",
           "caxis": {
            "gridcolor": "white",
            "linecolor": "white",
            "ticks": ""
           }
          },
          "title": {
           "x": 0.05
          },
          "xaxis": {
           "automargin": true,
           "gridcolor": "white",
           "linecolor": "white",
           "ticks": "",
           "title": {
            "standoff": 15
           },
           "zerolinecolor": "white",
           "zerolinewidth": 2
          },
          "yaxis": {
           "automargin": true,
           "gridcolor": "white",
           "linecolor": "white",
           "ticks": "",
           "title": {
            "standoff": 15
           },
           "zerolinecolor": "white",
           "zerolinewidth": 2
          }
         }
        },
        "title": {
         "text": "Percentage of Total Cases and Deaths"
        }
       }
      },
      "text/html": [
       "<div>                            <div id=\"88a91458-eeea-4c23-aa1e-8e95be5d5246\" class=\"plotly-graph-div\" style=\"height:525px; width:100%;\"></div>            <script type=\"text/javascript\">                require([\"plotly\"], function(Plotly) {                    window.PLOTLYENV=window.PLOTLYENV || {};                                    if (document.getElementById(\"88a91458-eeea-4c23-aa1e-8e95be5d5246\")) {                    Plotly.newPlot(                        \"88a91458-eeea-4c23-aa1e-8e95be5d5246\",                        [{\"domain\":{\"x\":[0.0,1.0],\"y\":[0.0,1.0]},\"hole\":0.5,\"hovertemplate\":\"label=%{label}<br>value=%{value}<extra></extra>\",\"labels\":[\"Total Cases\",\"Total Deaths\"],\"legendgroup\":\"\",\"name\":\"\",\"showlegend\":true,\"values\":[3133760956.0,116851104.0],\"type\":\"pie\"}],                        {\"template\":{\"data\":{\"histogram2dcontour\":[{\"type\":\"histogram2dcontour\",\"colorbar\":{\"outlinewidth\":0,\"ticks\":\"\"},\"colorscale\":[[0.0,\"#0d0887\"],[0.1111111111111111,\"#46039f\"],[0.2222222222222222,\"#7201a8\"],[0.3333333333333333,\"#9c179e\"],[0.4444444444444444,\"#bd3786\"],[0.5555555555555556,\"#d8576b\"],[0.6666666666666666,\"#ed7953\"],[0.7777777777777778,\"#fb9f3a\"],[0.8888888888888888,\"#fdca26\"],[1.0,\"#f0f921\"]]}],\"choropleth\":[{\"type\":\"choropleth\",\"colorbar\":{\"outlinewidth\":0,\"ticks\":\"\"}}],\"histogram2d\":[{\"type\":\"histogram2d\",\"colorbar\":{\"outlinewidth\":0,\"ticks\":\"\"},\"colorscale\":[[0.0,\"#0d0887\"],[0.1111111111111111,\"#46039f\"],[0.2222222222222222,\"#7201a8\"],[0.3333333333333333,\"#9c179e\"],[0.4444444444444444,\"#bd3786\"],[0.5555555555555556,\"#d8576b\"],[0.6666666666666666,\"#ed7953\"],[0.7777777777777778,\"#fb9f3a\"],[0.8888888888888888,\"#fdca26\"],[1.0,\"#f0f921\"]]}],\"heatmap\":[{\"type\":\"heatmap\",\"colorbar\":{\"outlinewidth\":0,\"ticks\":\"\"},\"colorscale\":[[0.0,\"#0d0887\"],[0.1111111111111111,\"#46039f\"],[0.2222222222222222,\"#7201a8\"],[0.3333333333333333,\"#9c179e\"],[0.4444444444444444,\"#bd3786\"],[0.5555555555555556,\"#d8576b\"],[0.6666666666666666,\"#ed7953\"],[0.7777777777777778,\"#fb9f3a\"],[0.8888888888888888,\"#fdca26\"],[1.0,\"#f0f921\"]]}],\"heatmapgl\":[{\"type\":\"heatmapgl\",\"colorbar\":{\"outlinewidth\":0,\"ticks\":\"\"},\"colorscale\":[[0.0,\"#0d0887\"],[0.1111111111111111,\"#46039f\"],[0.2222222222222222,\"#7201a8\"],[0.3333333333333333,\"#9c179e\"],[0.4444444444444444,\"#bd3786\"],[0.5555555555555556,\"#d8576b\"],[0.6666666666666666,\"#ed7953\"],[0.7777777777777778,\"#fb9f3a\"],[0.8888888888888888,\"#fdca26\"],[1.0,\"#f0f921\"]]}],\"contourcarpet\":[{\"type\":\"contourcarpet\",\"colorbar\":{\"outlinewidth\":0,\"ticks\":\"\"}}],\"contour\":[{\"type\":\"contour\",\"colorbar\":{\"outlinewidth\":0,\"ticks\":\"\"},\"colorscale\":[[0.0,\"#0d0887\"],[0.1111111111111111,\"#46039f\"],[0.2222222222222222,\"#7201a8\"],[0.3333333333333333,\"#9c179e\"],[0.4444444444444444,\"#bd3786\"],[0.5555555555555556,\"#d8576b\"],[0.6666666666666666,\"#ed7953\"],[0.7777777777777778,\"#fb9f3a\"],[0.8888888888888888,\"#fdca26\"],[1.0,\"#f0f921\"]]}],\"surface\":[{\"type\":\"surface\",\"colorbar\":{\"outlinewidth\":0,\"ticks\":\"\"},\"colorscale\":[[0.0,\"#0d0887\"],[0.1111111111111111,\"#46039f\"],[0.2222222222222222,\"#7201a8\"],[0.3333333333333333,\"#9c179e\"],[0.4444444444444444,\"#bd3786\"],[0.5555555555555556,\"#d8576b\"],[0.6666666666666666,\"#ed7953\"],[0.7777777777777778,\"#fb9f3a\"],[0.8888888888888888,\"#fdca26\"],[1.0,\"#f0f921\"]]}],\"mesh3d\":[{\"type\":\"mesh3d\",\"colorbar\":{\"outlinewidth\":0,\"ticks\":\"\"}}],\"scatter\":[{\"fillpattern\":{\"fillmode\":\"overlay\",\"size\":10,\"solidity\":0.2},\"type\":\"scatter\"}],\"parcoords\":[{\"type\":\"parcoords\",\"line\":{\"colorbar\":{\"outlinewidth\":0,\"ticks\":\"\"}}}],\"scatterpolargl\":[{\"type\":\"scatterpolargl\",\"marker\":{\"colorbar\":{\"outlinewidth\":0,\"ticks\":\"\"}}}],\"bar\":[{\"error_x\":{\"color\":\"#2a3f5f\"},\"error_y\":{\"color\":\"#2a3f5f\"},\"marker\":{\"line\":{\"color\":\"#E5ECF6\",\"width\":0.5},\"pattern\":{\"fillmode\":\"overlay\",\"size\":10,\"solidity\":0.2}},\"type\":\"bar\"}],\"scattergeo\":[{\"type\":\"scattergeo\",\"marker\":{\"colorbar\":{\"outlinewidth\":0,\"ticks\":\"\"}}}],\"scatterpolar\":[{\"type\":\"scatterpolar\",\"marker\":{\"colorbar\":{\"outlinewidth\":0,\"ticks\":\"\"}}}],\"histogram\":[{\"marker\":{\"pattern\":{\"fillmode\":\"overlay\",\"size\":10,\"solidity\":0.2}},\"type\":\"histogram\"}],\"scattergl\":[{\"type\":\"scattergl\",\"marker\":{\"colorbar\":{\"outlinewidth\":0,\"ticks\":\"\"}}}],\"scatter3d\":[{\"type\":\"scatter3d\",\"line\":{\"colorbar\":{\"outlinewidth\":0,\"ticks\":\"\"}},\"marker\":{\"colorbar\":{\"outlinewidth\":0,\"ticks\":\"\"}}}],\"scattermapbox\":[{\"type\":\"scattermapbox\",\"marker\":{\"colorbar\":{\"outlinewidth\":0,\"ticks\":\"\"}}}],\"scatterternary\":[{\"type\":\"scatterternary\",\"marker\":{\"colorbar\":{\"outlinewidth\":0,\"ticks\":\"\"}}}],\"scattercarpet\":[{\"type\":\"scattercarpet\",\"marker\":{\"colorbar\":{\"outlinewidth\":0,\"ticks\":\"\"}}}],\"carpet\":[{\"aaxis\":{\"endlinecolor\":\"#2a3f5f\",\"gridcolor\":\"white\",\"linecolor\":\"white\",\"minorgridcolor\":\"white\",\"startlinecolor\":\"#2a3f5f\"},\"baxis\":{\"endlinecolor\":\"#2a3f5f\",\"gridcolor\":\"white\",\"linecolor\":\"white\",\"minorgridcolor\":\"white\",\"startlinecolor\":\"#2a3f5f\"},\"type\":\"carpet\"}],\"table\":[{\"cells\":{\"fill\":{\"color\":\"#EBF0F8\"},\"line\":{\"color\":\"white\"}},\"header\":{\"fill\":{\"color\":\"#C8D4E3\"},\"line\":{\"color\":\"white\"}},\"type\":\"table\"}],\"barpolar\":[{\"marker\":{\"line\":{\"color\":\"#E5ECF6\",\"width\":0.5},\"pattern\":{\"fillmode\":\"overlay\",\"size\":10,\"solidity\":0.2}},\"type\":\"barpolar\"}],\"pie\":[{\"automargin\":true,\"type\":\"pie\"}]},\"layout\":{\"autotypenumbers\":\"strict\",\"colorway\":[\"#636efa\",\"#EF553B\",\"#00cc96\",\"#ab63fa\",\"#FFA15A\",\"#19d3f3\",\"#FF6692\",\"#B6E880\",\"#FF97FF\",\"#FECB52\"],\"font\":{\"color\":\"#2a3f5f\"},\"hovermode\":\"closest\",\"hoverlabel\":{\"align\":\"left\"},\"paper_bgcolor\":\"white\",\"plot_bgcolor\":\"#E5ECF6\",\"polar\":{\"bgcolor\":\"#E5ECF6\",\"angularaxis\":{\"gridcolor\":\"white\",\"linecolor\":\"white\",\"ticks\":\"\"},\"radialaxis\":{\"gridcolor\":\"white\",\"linecolor\":\"white\",\"ticks\":\"\"}},\"ternary\":{\"bgcolor\":\"#E5ECF6\",\"aaxis\":{\"gridcolor\":\"white\",\"linecolor\":\"white\",\"ticks\":\"\"},\"baxis\":{\"gridcolor\":\"white\",\"linecolor\":\"white\",\"ticks\":\"\"},\"caxis\":{\"gridcolor\":\"white\",\"linecolor\":\"white\",\"ticks\":\"\"}},\"coloraxis\":{\"colorbar\":{\"outlinewidth\":0,\"ticks\":\"\"}},\"colorscale\":{\"sequential\":[[0.0,\"#0d0887\"],[0.1111111111111111,\"#46039f\"],[0.2222222222222222,\"#7201a8\"],[0.3333333333333333,\"#9c179e\"],[0.4444444444444444,\"#bd3786\"],[0.5555555555555556,\"#d8576b\"],[0.6666666666666666,\"#ed7953\"],[0.7777777777777778,\"#fb9f3a\"],[0.8888888888888888,\"#fdca26\"],[1.0,\"#f0f921\"]],\"sequentialminus\":[[0.0,\"#0d0887\"],[0.1111111111111111,\"#46039f\"],[0.2222222222222222,\"#7201a8\"],[0.3333333333333333,\"#9c179e\"],[0.4444444444444444,\"#bd3786\"],[0.5555555555555556,\"#d8576b\"],[0.6666666666666666,\"#ed7953\"],[0.7777777777777778,\"#fb9f3a\"],[0.8888888888888888,\"#fdca26\"],[1.0,\"#f0f921\"]],\"diverging\":[[0,\"#8e0152\"],[0.1,\"#c51b7d\"],[0.2,\"#de77ae\"],[0.3,\"#f1b6da\"],[0.4,\"#fde0ef\"],[0.5,\"#f7f7f7\"],[0.6,\"#e6f5d0\"],[0.7,\"#b8e186\"],[0.8,\"#7fbc41\"],[0.9,\"#4d9221\"],[1,\"#276419\"]]},\"xaxis\":{\"gridcolor\":\"white\",\"linecolor\":\"white\",\"ticks\":\"\",\"title\":{\"standoff\":15},\"zerolinecolor\":\"white\",\"automargin\":true,\"zerolinewidth\":2},\"yaxis\":{\"gridcolor\":\"white\",\"linecolor\":\"white\",\"ticks\":\"\",\"title\":{\"standoff\":15},\"zerolinecolor\":\"white\",\"automargin\":true,\"zerolinewidth\":2},\"scene\":{\"xaxis\":{\"backgroundcolor\":\"#E5ECF6\",\"gridcolor\":\"white\",\"linecolor\":\"white\",\"showbackground\":true,\"ticks\":\"\",\"zerolinecolor\":\"white\",\"gridwidth\":2},\"yaxis\":{\"backgroundcolor\":\"#E5ECF6\",\"gridcolor\":\"white\",\"linecolor\":\"white\",\"showbackground\":true,\"ticks\":\"\",\"zerolinecolor\":\"white\",\"gridwidth\":2},\"zaxis\":{\"backgroundcolor\":\"#E5ECF6\",\"gridcolor\":\"white\",\"linecolor\":\"white\",\"showbackground\":true,\"ticks\":\"\",\"zerolinecolor\":\"white\",\"gridwidth\":2}},\"shapedefaults\":{\"line\":{\"color\":\"#2a3f5f\"}},\"annotationdefaults\":{\"arrowcolor\":\"#2a3f5f\",\"arrowhead\":0,\"arrowwidth\":1},\"geo\":{\"bgcolor\":\"white\",\"landcolor\":\"#E5ECF6\",\"subunitcolor\":\"white\",\"showland\":true,\"showlakes\":true,\"lakecolor\":\"white\"},\"title\":{\"x\":0.05},\"mapbox\":{\"style\":\"light\"}}},\"legend\":{\"tracegroupgap\":0},\"title\":{\"text\":\"Percentage of Total Cases and Deaths\"}},                        {\"responsive\": true}                    ).then(function(){\n",
       "                            \n",
       "var gd = document.getElementById('88a91458-eeea-4c23-aa1e-8e95be5d5246');\n",
       "var x = new MutationObserver(function (mutations, observer) {{\n",
       "        var display = window.getComputedStyle(gd).display;\n",
       "        if (!display || display === 'none') {{\n",
       "            console.log([gd, 'removed!']);\n",
       "            Plotly.purge(gd);\n",
       "            observer.disconnect();\n",
       "        }}\n",
       "}});\n",
       "\n",
       "// Listen for the removal of the full notebook cells\n",
       "var notebookContainer = gd.closest('#notebook-container');\n",
       "if (notebookContainer) {{\n",
       "    x.observe(notebookContainer, {childList: true});\n",
       "}}\n",
       "\n",
       "// Listen for the clearing of the current output cell\n",
       "var outputEl = gd.closest('.output');\n",
       "if (outputEl) {{\n",
       "    x.observe(outputEl, {childList: true});\n",
       "}}\n",
       "\n",
       "                        })                };                });            </script>        </div>"
      ]
     },
     "metadata": {},
     "output_type": "display_data"
    }
   ],
   "source": [
    "# Percentage of Total Cases and Deaths\n",
    "cases = data[\"Total Cases\"].sum()\n",
    "deceased = data[\"Total Deaths\"].sum()\n",
    "\n",
    "labels = [\"Total Cases\", \"Total Deaths\"]\n",
    "values = [cases, deceased]\n",
    "\n",
    "fig = px.pie(data, values=values, names=labels, \n",
    "             title='Percentage of Total Cases and Deaths', hole=0.5)\n",
    "fig.show()"
   ]
  },
  {
   "cell_type": "code",
   "execution_count": 16,
   "id": "0e8d47c4",
   "metadata": {},
   "outputs": [
    {
     "data": {
      "application/vnd.plotly.v1+json": {
       "config": {
        "plotlyServerURL": "https://plot.ly"
       },
       "data": [
        {
         "alignmentgroup": "True",
         "customdata": [
          [
           19.61763693,
           26477574
          ],
          [
           19.17473208,
           14340567
          ],
          [
           21.04535251,
           7247327
          ],
          [
           18.79866817,
           2131571
          ],
          [
           17.3111646,
           3020038
          ],
          [
           18.67480153,
           7295850
          ],
          [
           17.66042712,
           5510624
          ],
          [
           17.8982664,
           1357682
          ],
          [
           17.74503716,
           1936134
          ],
          [
           18.03334044,
           7249573
          ],
          [
           18.24624346,
           2914070
          ],
          [
           16.76604717,
           1283880
          ],
          [
           17.91752278,
           6664225
          ],
          [
           17.99409688,
           5633444
          ],
          [
           17.62651421,
           1077426
          ],
          [
           18.24375196,
           1640691
          ],
          [
           18.25035574,
           1049757
          ],
          [
           17.36552634,
           442507
          ],
          [
           19.21318595,
           789557
          ],
          [
           18.91957173,
           484534
          ],
          [
           17.50993717,
           744253
          ],
          [
           18.51217534,
           448665
          ],
          [
           21.08743924,
           1066939
          ],
          [
           19.42689854,
           916111
          ],
          [
           17.44628825,
           1455549
          ],
          [
           14.87366884,
           23820
          ],
          [
           15.97371025,
           126278
          ],
          [
           17.59363088,
           343334
          ],
          [
           16.26562008,
           1798461
          ],
          [
           16.68585306,
           1083749
          ],
          [
           16.74812767,
           161480
          ],
          [
           16.6566263,
           1142410
          ],
          [
           18.44375647,
           644416
          ],
          [
           16.1279737,
           941063
          ],
          [
           16.27279152,
           578559
          ],
          [
           16.77238152,
           464952
          ],
          [
           16.19948244,
           209024
          ],
          [
           15.26725623,
           69104
          ],
          [
           16.06145345,
           88409
          ],
          [
           15.27755412,
           222435
          ],
          [
           16.10707515,
           58035
          ],
          [
           15.44604869,
           73391
          ],
          [
           16.13757538,
           302612
          ],
          [
           17.44905184,
           304001
          ],
          [
           15.58201085,
           4691
          ],
          [
           17.42400819,
           142270
          ],
          [
           18.65556675,
           194918
          ],
          [
           16.70118056,
           281588
          ],
          [
           15.97360361,
           320693
          ],
          [
           14.34706955,
           22413
          ],
          [
           16.10851066,
           200844
          ],
          [
           19.1440641,
           125473
          ],
          [
           14.9017918,
           102039
          ],
          [
           17.18751281,
           27737
          ],
          [
           15.41242964,
           310201
          ],
          [
           16.18659339,
           79880
          ],
          [
           17.4772331,
           165875
          ],
          [
           16.01344599,
           134945
          ],
          [
           17.25184806,
           29143
          ],
          [
           17.59630906,
           206429
          ],
          [
           18.56012597,
           77686
          ],
          [
           17.1631645,
           40840
          ],
          [
           15.21025983,
           129946
          ],
          [
           15.44359631,
           50352
          ],
          [
           17.32613614,
           31903
          ],
          [
           15.69102752,
           114922
          ],
          [
           16.13191719,
           59495
          ],
          [
           15.73310882,
           87503
          ],
          [
           14.86662585,
           54940
          ],
          [
           17.75260041,
           63333
          ],
          [
           17.80025043,
           59485
          ],
          [
           15.44502871,
           21522
          ],
          [
           15.57202326,
           113280
          ],
          [
           17.05418434,
           65029
          ],
          [
           15.68518756,
           71957
          ],
          [
           17.09438451,
           56606
          ],
          [
           15.78017657,
           42850
          ],
          [
           15.73616766,
           22983
          ],
          [
           15.00360243,
           70578
          ],
          [
           17.08805131,
           14220
          ],
          [
           15.5058355,
           47158
          ],
          [
           15.75402845,
           72850
          ],
          [
           15.74286198,
           29730
          ],
          [
           17.29261899,
           24012
          ],
          [
           14.54950213,
           74066
          ],
          [
           16.08354044,
           110142
          ],
          [
           17.59626861,
           102825
          ],
          [
           16.63354636,
           30320
          ],
          [
           15.52763465,
           58377
          ],
          [
           17.13661869,
           17744
          ],
          [
           16.15953083,
           44805
          ],
          [
           14.47446683,
           47571
          ],
          [
           15.22778158,
           28757
          ],
          [
           18.31043503,
           32040
          ],
          [
           16.39062287,
           7283
          ],
          [
           13.34706731,
           21907
          ],
          [
           16.72698889,
           26475
          ],
          [
           16.07075684,
           9730
          ],
          [
           14.87253667,
           31056
          ],
          [
           14.61559461,
           6877
          ],
          [
           16.24934608,
           23891
          ],
          [
           16.28518664,
           19025
          ],
          [
           13.20032762,
           3054
          ],
          [
           15.35230466,
           19810
          ],
          [
           15.51289396,
           6055
          ],
          [
           13.80344,
           8006
          ],
          [
           16.13820607,
           5653
          ],
          [
           14.7480352,
           6634
          ],
          [
           13.35039417,
           11356
          ],
          [
           18.06114425,
           11162
          ],
          [
           17.81205473,
           13973
          ],
          [
           16.51438055,
           15984
          ],
          [
           15.39030816,
           7108
          ],
          [
           16.24266591,
           16774
          ],
          [
           14.15411267,
           8947
          ],
          [
           14.54736486,
           22165
          ],
          [
           16.76676599,
           15480
          ],
          [
           15.70629361,
           16410
          ],
          [
           17.25770384,
           3396
          ],
          [
           16.5814031,
           15001
          ],
          [
           14.81698436,
           14345
          ],
          [
           15.52354271,
           9298
          ],
          [
           13.22850199,
           4749
          ],
          [
           17.63850561,
           3748
          ],
          [
           16.87952045,
           2108
          ],
          [
           14.09808385,
           11802
          ],
          [
           13.96407193,
           8179
          ],
          [
           15.199095,
           4013
          ],
          [
           12.74037063,
           1968
          ],
          [
           16.82370654,
           18813
          ],
          [
           16.37677691,
           1744
          ],
          [
           14.90109198,
           5653
          ],
          [
           13.28215639,
           6961
          ],
          [
           16.23086427,
           6063
          ],
          [
           14.49252734,
           4199
          ],
          [
           17.3079574,
           11820
          ],
          [
           15.89207108,
           10036
          ],
          [
           16.67774898,
           12098
          ],
          [
           14.45007584,
           5376
          ],
          [
           15.38874766,
           4145
          ],
          [
           12.99802163,
           2409
          ],
          [
           16.31063137,
           4374
          ],
          [
           15.06073864,
           6083
          ],
          [
           12.88219574,
           5998
          ],
          [
           13.68300607,
           3735
          ],
          [
           16.85541655,
           10248
          ],
          [
           14.69789863,
           7201
          ],
          [
           17.21088998,
           64304
          ],
          [
           14.15161916,
           4519
          ],
          [
           11.25499635,
           9850
          ],
          [
           11.5783948,
           1624
          ],
          [
           14.67061714,
           895
          ],
          [
           17.00213737,
           11676
          ],
          [
           15.92920098,
           4197
          ],
          [
           13.57542301,
           5783
          ],
          [
           12.03636915,
           2715
          ],
          [
           15.43641784,
           10087
          ],
          [
           16.61436742,
           12212
          ],
          [
           10.43229061,
           8596
          ],
          [
           18.39370601,
           2318
          ],
          [
           12.2975619,
           2198
          ],
          [
           14.57736817,
           2680
          ],
          [
           12.89325457,
           1613
          ],
          [
           11.55620524,
           1833
          ],
          [
           16.98590072,
           1423
          ],
          [
           12.54576825,
           260
          ],
          [
           17.9054155,
           3733
          ],
          [
           14.05591783,
           1988
          ],
          [
           11.52359831,
           5527
          ],
          [
           11.35078294,
           4310
          ],
          [
           10.79681667,
           0
          ],
          [
           13.67578287,
           920
          ],
          [
           11.11322372,
           2450
          ],
          [
           16.29127395,
           188
          ],
          [
           10.66620744,
           3146
          ],
          [
           10.42498602,
           0
          ],
          [
           10.56405989,
           476
          ],
          [
           15.00283311,
           0
          ],
          [
           15.08145118,
           0
          ],
          [
           16.63205462,
           0
          ],
          [
           16.00683186,
           417
          ],
          [
           11.09315857,
           213
          ],
          [
           12.98879313,
           475
          ],
          [
           11.03928322,
           1631
          ],
          [
           12.56852934,
           1321
          ],
          [
           13.55623711,
           0
          ],
          [
           10.57755385,
           192
          ],
          [
           10.54894022,
           198
          ],
          [
           12.00823128,
           207
          ],
          [
           11.49618614,
           0
          ],
          [
           11.49198779,
           568
          ],
          [
           11.61680789,
           0
          ],
          [
           10.96053104,
           396
          ],
          [
           10.1743159,
           48
          ],
          [
           13.7061911,
           132
          ],
          [
           14.09196129,
           0
          ],
          [
           10.31682162,
           183
          ],
          [
           12.56196578,
           0
          ],
          [
           11.63087738,
           0
          ],
          [
           12.1206727,
           0
          ],
          [
           15.80003079,
           0
          ],
          [
           11.18429639,
           0
          ],
          [
           10.88166329,
           0
          ],
          [
           10.94679853,
           0
          ],
          [
           8.15564927,
           0
          ],
          [
           6.695798917,
           0
          ],
          [
           8.516993171,
           177
          ],
          [
           9.615938805,
           0
          ],
          [
           13.43991197,
           0
          ],
          [
           15.8300119,
           0
          ]
         ],
         "hovertemplate": "Country=%{x}<br>Total Cases=%{y}<br>Population=%{customdata[0]}<br>Total Deaths=%{customdata[1]}<br>Stringency Index=%{marker.color}<extra></extra>",
         "legendgroup": "",
         "marker": {
          "color": [
           3.3509486690850343,
           3.136027957462585,
           3.6105521148129256,
           3.380088191482993,
           3.4301264381156464,
           3.0192894045204084,
           3.393922273142857,
           3.3643329908979593,
           3.3579230454251703,
           3.3538831399625852,
           3.207064113278912,
           2.989193634731293,
           3.629838088122449,
           3.3857936759115645,
           3.4754380163809526,
           3.28451614412585,
           3.0414184019965984,
           3.2633605816360545,
           3.38580207355102,
           3.186409532867346,
           3.6382597844795925,
           3.67810238272449,
           3.8925538979353735,
           3.6401493643061213,
           3.286389158969388,
           3.561580438853742,
           3.5793130338673467,
           3.0981180947312925,
           3.4200551236938774,
           3.4756814307823136,
           3.279181903081632,
           2.922922530493197,
           3.079215255792518,
           2.75164141155102,
           3.2593630045034017,
           3.3440225178673466,
           3.329886860812925,
           3.6756516780068034,
           1.7777885856122446,
           3.347952237411565,
           3.2094847001292517,
           3.730139465272109,
           3.266071855346939,
           2.854065180411564,
           3.7307369099183667,
           3.2886413599217685,
           3.178413736503401,
           3.4795448106666664,
           3.12802378279932,
           3.672654081911565,
           3.310703392435374,
           3.504160797792516,
           0,
           3.677210356482993,
           3.3750440923061227,
           3.2069219557006803,
           3.0496734543605446,
           2.999125721982993,
           2.845124538520408,
           3.195168482772109,
           3.106953683829932,
           3.235751674234694,
           2.9956552940374146,
           3.052990643608844,
           3.130970957227891,
           3.1833747295,
           3.5610048554761904,
           3.0738407065272106,
           3.0402436258537415,
           3.422536914673469,
           3.332929539568027,
           3.2563697529931965,
           3.069241891969387,
           3.6220902177993195,
           3.228307817353741,
           2.9765738832653064,
           3.171279047295919,
           3.4019439833571425,
           3.0345279388299318,
           2.8512348956428575,
           3.1960380252551017,
           2.8532486089081637,
           3.411850270965986,
           3.6216474627346935,
           0,
           3.01363418397619,
           3.196909016653061,
           2.66599380340136,
           3.101641431479592,
           2.957421466741496,
           3.1346855279761905,
           3.1763816652925168,
           3.1440618902551023,
           3.0745801085034015,
           3.0001857734659865,
           2.905672398506803,
           2.645104184595238,
           2.240074461547619,
           3.0056236545748294,
           3.1221241128979584,
           2.7754449377074826,
           2.8630195453367344,
           0,
           2.6605094333877557,
           2.8965280817040817,
           2.910019280119047,
           3.179010039955782,
           2.996030525765306,
           0,
           3.060495103527211,
           3.1433438754523806,
           3.1611319515748297,
           2.9648505104047618,
           3.1526094456394556,
           0,
           3.0012790250646257,
           2.7483170985986396,
           1.7787903315544213,
           2.8819963542414953,
           2.5585456688027213,
           2.79028876255102,
           3.029772100969388,
           2.988857297673469,
           3.177188289904762,
           3.2125340412482988,
           2.5380262833979588,
           3.061297157204082,
           3.6389395285034007,
           3.174260733585034,
           2.7711030407380943,
           3.0920467206394555,
           3.239694818312925,
           3.167167094068027,
           2.71822275794898,
           0,
           2.965559714153062,
           2.5651667428537417,
           2.829461847836735,
           3.0254631613775507,
           3.233197103585034,
           0,
           2.7188522499115644,
           2.777736691469387,
           0,
           3.110623018248299,
           2.8844738915544217,
           3.1054073187108853,
           2.3695679034965984,
           3.0174295116428564,
           2.6776539695340142,
           2.7689076071326535,
           2.8325677352210885,
           2.2517598853673464,
           2.9374114366496604,
           3.139448600384354,
           2.8180347343673473,
           3.148329587809524,
           2.983968134125851,
           3.080051874061225,
           3.710868429755102,
           0,
           2.2233248549795923,
           2.8959699335272107,
           0,
           2.963287182741497,
           0,
           2.402485587190476,
           2.5070728676870746,
           0,
           0,
           0,
           0,
           0,
           1.689712130088435,
           0,
           2.2786489774285714,
           2.2971052494115645,
           3.0700195609013603,
           3.2501682509489793,
           2.875571929306122,
           2.67551761532653,
           1.5389167769829932,
           2.8664489886020412,
           2.846286835465986,
           2.9471776484217687,
           3.187371286312924,
           0,
           0,
           0,
           2.5486704868707477,
           0,
           0,
           0,
           0,
           3.427270103061224,
           2.5767618823639458,
           2.2406592542244894,
           0,
           0,
           0,
           2.516711985833333,
           2.6819666489727885,
           0,
           2.5884353651666667,
           2.1229575531768705,
           0,
           2.477076521632654,
           2.3261806732925168,
           0,
           0.6439803426292516
          ],
          "coloraxis": "coloraxis",
          "pattern": {
           "shape": ""
          }
         },
         "name": "",
         "offsetgroup": "",
         "orientation": "v",
         "showlegend": false,
         "textposition": "auto",
         "type": "bar",
         "x": [
          "United States",
          "Brazil",
          "India",
          "Russia",
          "Peru",
          "Mexico",
          "Spain",
          "South Africa",
          "Colombia",
          "United Kingdom",
          "Iran",
          "Chile",
          "Italy",
          "France",
          "Argentina",
          "Germany",
          "Turkey",
          "Saudi Arabia",
          "Pakistan",
          "Bangladesh",
          "Iraq",
          "Philippines",
          "China",
          "Indonesia",
          "Canada",
          "Qatar",
          "Israel",
          "Ukraine",
          "Belgium",
          "Ecuador",
          "Kazakhstan",
          "Netherlands",
          "Egypt",
          "Sweden",
          "Bolivia",
          "Romania",
          "Dominican Republic",
          "Kuwait",
          "Belarus",
          "Panama",
          "United Arab Emirates",
          "Oman",
          "Portugal",
          "Poland",
          "Singapore",
          "Morocco",
          "Japan",
          "Guatemala",
          "Switzerland",
          "Bahrain",
          "Honduras",
          "Nigeria",
          "Armenia",
          "Nepal",
          "Ireland",
          "Czech Republic",
          "Afghanistan",
          "Austria",
          "Ghana",
          "Algeria",
          "Ethiopia",
          "Venezuela",
          "Moldova",
          "Costa Rica",
          "Uzbekistan",
          "Kyrgyzstan",
          "Azerbaijan",
          "Serbia",
          "Puerto Rico",
          "South Korea",
          "Kenya",
          "Palestine",
          "Denmark",
          "Australia",
          "El Salvador",
          "Cameroon",
          "Paraguay",
          "Lebanon",
          "Bosnia and Herzegovina",
          "Cote d'Ivoire",
          "Norway",
          "Bulgaria",
          "Libya",
          "Malaysia",
          "Macedonia",
          "Hungary",
          "Sudan",
          "Senegal",
          "Finland",
          "Madagascar",
          "Greece",
          "Kosovo",
          "Croatia",
          "Democratic Republic of Congo",
          "Guinea",
          "Luxembourg",
          "Zambia",
          "Tajikistan",
          "Albania",
          "Gabon",
          "Haiti",
          "Tunisia",
          "Maldives",
          "Mauritania",
          "Slovakia",
          "Djibouti",
          "Jordan",
          "Namibia",
          "Montenegro",
          "Thailand",
          "Myanmar",
          "Zimbabwe",
          "Central African Republic",
          "Cuba",
          "Equatorial Guinea",
          "Slovenia",
          "Malawi",
          "Nicaragua",
          "Mozambique",
          "Somalia",
          "Lithuania",
          "Congo",
          "Cape Verde",
          "Uganda",
          "Sri Lanka",
          "Estonia",
          "Swaziland",
          "Georgia",
          "Iceland",
          "Mali",
          "Rwanda",
          "Jamaica",
          "Suriname",
          "South Sudan",
          "Guinea-Bissau",
          "Angola",
          "Sierra Leone",
          "Syria",
          "Latvia",
          "New Zealand",
          "Malta",
          "Benin",
          "Uruguay",
          "Bahamas",
          "Cyprus",
          "Burkina Faso",
          "Gambia",
          "Yemen",
          "Trinidad and Tobago",
          "Andorra",
          "Aruba",
          "Botswana",
          "Niger",
          "Togo",
          "Guyana",
          "Guam",
          "Liberia",
          "Chad",
          "San Marino",
          "Vietnam",
          "Sao Tome and Principe",
          "Lesotho",
          "Belize",
          "United States Virgin Islands",
          "Taiwan",
          "French Polynesia",
          "Tanzania",
          "Mauritius",
          "Jersey",
          "Isle of Man",
          "Faeroe Islands",
          "Comoros",
          "Guernsey",
          "Burundi",
          "Sint Maarten (Dutch part)",
          "Gibraltar",
          "Turks and Caicos Islands",
          "Mongolia",
          "Eritrea",
          "Cambodia",
          "Papua New Guinea",
          "Cayman Islands",
          "Brunei",
          "Bermuda",
          "Barbados",
          "Bhutan",
          "Monaco",
          "Liechtenstein",
          "Curacao",
          "Seychelles",
          "Antigua and Barbuda",
          "Saint Vincent and the Grenadines",
          "Northern Mariana Islands",
          "Bonaire Sint Eustatius and Saba",
          "Fiji",
          "Timor",
          "British Virgin Islands",
          "New Caledonia",
          "Grenada",
          "Saint Lucia",
          "Laos",
          "Dominica",
          "Saint Kitts and Nevis",
          "Greenland",
          "Falkland Islands",
          "Vatican",
          "Montserrat",
          "Anguilla",
          "Solomon Islands",
          "Hong Kong"
         ],
         "xaxis": "x",
         "y": [
          746014098,
          425704517,
          407771615,
          132888951,
          74882695,
          74347548,
          73717676,
          63027659,
          60543682,
          59475032,
          52421884,
          51268034,
          50752853,
          50084335,
          47155234,
          42447678,
          41431948,
          38585191,
          37738077,
          35266178,
          25280332,
          22409936,
          21632319,
          21570149,
          20902374,
          16351440,
          16202474,
          15805665,
          15192468,
          14408757,
          13194863,
          13026629,
          12422845,
          11910109,
          11858838,
          10672859,
          10649646,
          10622205,
          10595186,
          10371724,
          10247326,
          10060093,
          9266263,
          9239657,
          8191161,
          7839270,
          7659484,
          7644426,
          7552067,
          6549995,
          6545499,
          6107371,
          5474629,
          5243653,
          5239798,
          5213980,
          5126433,
          4909197,
          4900649,
          4893999,
          4876417,
          4839834,
          4632482,
          4631835,
          4421215,
          4287847,
          4236782,
          3984174,
          3586463,
          3333075,
          3277734,
          3249458,
          3030088,
          3012377,
          2573206,
          2476502,
          2265640,
          2220699,
          2200057,
          2132883,
          1985889,
          1890380,
          1817274,
          1774181,
          1724220,
          1708798,
          1663545,
          1586747,
          1458484,
          1443321,
          1421470,
          1345940,
          1314031,
          1271391,
          1195836,
          1146724,
          1129913,
          1117391,
          1071951,
          1031803,
          1023155,
          1000626,
          844040,
          799222,
          798665,
          781771,
          716514,
          681299,
          675912,
          655703,
          644209,
          593699,
          593048,
          581546,
          557355,
          547075,
          536447,
          524410,
          510578,
          491145,
          488057,
          473368,
          463888,
          448728,
          446643,
          445402,
          444238,
          431689,
          421210,
          390637,
          388775,
          370890,
          358632,
          333500,
          306564,
          304005,
          268396,
          267902,
          255964,
          253203,
          251261,
          245893,
          239884,
          237908,
          236673,
          231452,
          229521,
          228925,
          225550,
          223576,
          215110,
          205758,
          199978,
          169903,
          166917,
          160975,
          159880,
          154173,
          134994,
          122618,
          121909,
          107948,
          106383,
          98536,
          97074,
          95388,
          91526,
          69524,
          66777,
          64935,
          56893,
          52437,
          49814,
          49745,
          48026,
          45340,
          44432,
          42465,
          40026,
          39539,
          35966,
          33173,
          30140,
          28876,
          24998,
          22847,
          21511,
          19885,
          19777,
          14701,
          12619,
          7824,
          7784,
          5080,
          4742,
          4697,
          4605,
          4495,
          4470,
          4450,
          4039,
          3977,
          3246,
          2678,
          2467,
          2415,
          2383,
          614,
          11,
          0
         ],
         "yaxis": "y"
        }
       ],
       "layout": {
        "barmode": "relative",
        "coloraxis": {
         "colorbar": {
          "title": {
           "text": "Stringency Index"
          }
         },
         "colorscale": [
          [
           0,
           "#0d0887"
          ],
          [
           0.1111111111111111,
           "#46039f"
          ],
          [
           0.2222222222222222,
           "#7201a8"
          ],
          [
           0.3333333333333333,
           "#9c179e"
          ],
          [
           0.4444444444444444,
           "#bd3786"
          ],
          [
           0.5555555555555556,
           "#d8576b"
          ],
          [
           0.6666666666666666,
           "#ed7953"
          ],
          [
           0.7777777777777778,
           "#fb9f3a"
          ],
          [
           0.8888888888888888,
           "#fdca26"
          ],
          [
           1,
           "#f0f921"
          ]
         ]
        },
        "height": 400,
        "legend": {
         "tracegroupgap": 0
        },
        "template": {
         "data": {
          "bar": [
           {
            "error_x": {
             "color": "#2a3f5f"
            },
            "error_y": {
             "color": "#2a3f5f"
            },
            "marker": {
             "line": {
              "color": "#E5ECF6",
              "width": 0.5
             },
             "pattern": {
              "fillmode": "overlay",
              "size": 10,
              "solidity": 0.2
             }
            },
            "type": "bar"
           }
          ],
          "barpolar": [
           {
            "marker": {
             "line": {
              "color": "#E5ECF6",
              "width": 0.5
             },
             "pattern": {
              "fillmode": "overlay",
              "size": 10,
              "solidity": 0.2
             }
            },
            "type": "barpolar"
           }
          ],
          "carpet": [
           {
            "aaxis": {
             "endlinecolor": "#2a3f5f",
             "gridcolor": "white",
             "linecolor": "white",
             "minorgridcolor": "white",
             "startlinecolor": "#2a3f5f"
            },
            "baxis": {
             "endlinecolor": "#2a3f5f",
             "gridcolor": "white",
             "linecolor": "white",
             "minorgridcolor": "white",
             "startlinecolor": "#2a3f5f"
            },
            "type": "carpet"
           }
          ],
          "choropleth": [
           {
            "colorbar": {
             "outlinewidth": 0,
             "ticks": ""
            },
            "type": "choropleth"
           }
          ],
          "contour": [
           {
            "colorbar": {
             "outlinewidth": 0,
             "ticks": ""
            },
            "colorscale": [
             [
              0,
              "#0d0887"
             ],
             [
              0.1111111111111111,
              "#46039f"
             ],
             [
              0.2222222222222222,
              "#7201a8"
             ],
             [
              0.3333333333333333,
              "#9c179e"
             ],
             [
              0.4444444444444444,
              "#bd3786"
             ],
             [
              0.5555555555555556,
              "#d8576b"
             ],
             [
              0.6666666666666666,
              "#ed7953"
             ],
             [
              0.7777777777777778,
              "#fb9f3a"
             ],
             [
              0.8888888888888888,
              "#fdca26"
             ],
             [
              1,
              "#f0f921"
             ]
            ],
            "type": "contour"
           }
          ],
          "contourcarpet": [
           {
            "colorbar": {
             "outlinewidth": 0,
             "ticks": ""
            },
            "type": "contourcarpet"
           }
          ],
          "heatmap": [
           {
            "colorbar": {
             "outlinewidth": 0,
             "ticks": ""
            },
            "colorscale": [
             [
              0,
              "#0d0887"
             ],
             [
              0.1111111111111111,
              "#46039f"
             ],
             [
              0.2222222222222222,
              "#7201a8"
             ],
             [
              0.3333333333333333,
              "#9c179e"
             ],
             [
              0.4444444444444444,
              "#bd3786"
             ],
             [
              0.5555555555555556,
              "#d8576b"
             ],
             [
              0.6666666666666666,
              "#ed7953"
             ],
             [
              0.7777777777777778,
              "#fb9f3a"
             ],
             [
              0.8888888888888888,
              "#fdca26"
             ],
             [
              1,
              "#f0f921"
             ]
            ],
            "type": "heatmap"
           }
          ],
          "heatmapgl": [
           {
            "colorbar": {
             "outlinewidth": 0,
             "ticks": ""
            },
            "colorscale": [
             [
              0,
              "#0d0887"
             ],
             [
              0.1111111111111111,
              "#46039f"
             ],
             [
              0.2222222222222222,
              "#7201a8"
             ],
             [
              0.3333333333333333,
              "#9c179e"
             ],
             [
              0.4444444444444444,
              "#bd3786"
             ],
             [
              0.5555555555555556,
              "#d8576b"
             ],
             [
              0.6666666666666666,
              "#ed7953"
             ],
             [
              0.7777777777777778,
              "#fb9f3a"
             ],
             [
              0.8888888888888888,
              "#fdca26"
             ],
             [
              1,
              "#f0f921"
             ]
            ],
            "type": "heatmapgl"
           }
          ],
          "histogram": [
           {
            "marker": {
             "pattern": {
              "fillmode": "overlay",
              "size": 10,
              "solidity": 0.2
             }
            },
            "type": "histogram"
           }
          ],
          "histogram2d": [
           {
            "colorbar": {
             "outlinewidth": 0,
             "ticks": ""
            },
            "colorscale": [
             [
              0,
              "#0d0887"
             ],
             [
              0.1111111111111111,
              "#46039f"
             ],
             [
              0.2222222222222222,
              "#7201a8"
             ],
             [
              0.3333333333333333,
              "#9c179e"
             ],
             [
              0.4444444444444444,
              "#bd3786"
             ],
             [
              0.5555555555555556,
              "#d8576b"
             ],
             [
              0.6666666666666666,
              "#ed7953"
             ],
             [
              0.7777777777777778,
              "#fb9f3a"
             ],
             [
              0.8888888888888888,
              "#fdca26"
             ],
             [
              1,
              "#f0f921"
             ]
            ],
            "type": "histogram2d"
           }
          ],
          "histogram2dcontour": [
           {
            "colorbar": {
             "outlinewidth": 0,
             "ticks": ""
            },
            "colorscale": [
             [
              0,
              "#0d0887"
             ],
             [
              0.1111111111111111,
              "#46039f"
             ],
             [
              0.2222222222222222,
              "#7201a8"
             ],
             [
              0.3333333333333333,
              "#9c179e"
             ],
             [
              0.4444444444444444,
              "#bd3786"
             ],
             [
              0.5555555555555556,
              "#d8576b"
             ],
             [
              0.6666666666666666,
              "#ed7953"
             ],
             [
              0.7777777777777778,
              "#fb9f3a"
             ],
             [
              0.8888888888888888,
              "#fdca26"
             ],
             [
              1,
              "#f0f921"
             ]
            ],
            "type": "histogram2dcontour"
           }
          ],
          "mesh3d": [
           {
            "colorbar": {
             "outlinewidth": 0,
             "ticks": ""
            },
            "type": "mesh3d"
           }
          ],
          "parcoords": [
           {
            "line": {
             "colorbar": {
              "outlinewidth": 0,
              "ticks": ""
             }
            },
            "type": "parcoords"
           }
          ],
          "pie": [
           {
            "automargin": true,
            "type": "pie"
           }
          ],
          "scatter": [
           {
            "fillpattern": {
             "fillmode": "overlay",
             "size": 10,
             "solidity": 0.2
            },
            "type": "scatter"
           }
          ],
          "scatter3d": [
           {
            "line": {
             "colorbar": {
              "outlinewidth": 0,
              "ticks": ""
             }
            },
            "marker": {
             "colorbar": {
              "outlinewidth": 0,
              "ticks": ""
             }
            },
            "type": "scatter3d"
           }
          ],
          "scattercarpet": [
           {
            "marker": {
             "colorbar": {
              "outlinewidth": 0,
              "ticks": ""
             }
            },
            "type": "scattercarpet"
           }
          ],
          "scattergeo": [
           {
            "marker": {
             "colorbar": {
              "outlinewidth": 0,
              "ticks": ""
             }
            },
            "type": "scattergeo"
           }
          ],
          "scattergl": [
           {
            "marker": {
             "colorbar": {
              "outlinewidth": 0,
              "ticks": ""
             }
            },
            "type": "scattergl"
           }
          ],
          "scattermapbox": [
           {
            "marker": {
             "colorbar": {
              "outlinewidth": 0,
              "ticks": ""
             }
            },
            "type": "scattermapbox"
           }
          ],
          "scatterpolar": [
           {
            "marker": {
             "colorbar": {
              "outlinewidth": 0,
              "ticks": ""
             }
            },
            "type": "scatterpolar"
           }
          ],
          "scatterpolargl": [
           {
            "marker": {
             "colorbar": {
              "outlinewidth": 0,
              "ticks": ""
             }
            },
            "type": "scatterpolargl"
           }
          ],
          "scatterternary": [
           {
            "marker": {
             "colorbar": {
              "outlinewidth": 0,
              "ticks": ""
             }
            },
            "type": "scatterternary"
           }
          ],
          "surface": [
           {
            "colorbar": {
             "outlinewidth": 0,
             "ticks": ""
            },
            "colorscale": [
             [
              0,
              "#0d0887"
             ],
             [
              0.1111111111111111,
              "#46039f"
             ],
             [
              0.2222222222222222,
              "#7201a8"
             ],
             [
              0.3333333333333333,
              "#9c179e"
             ],
             [
              0.4444444444444444,
              "#bd3786"
             ],
             [
              0.5555555555555556,
              "#d8576b"
             ],
             [
              0.6666666666666666,
              "#ed7953"
             ],
             [
              0.7777777777777778,
              "#fb9f3a"
             ],
             [
              0.8888888888888888,
              "#fdca26"
             ],
             [
              1,
              "#f0f921"
             ]
            ],
            "type": "surface"
           }
          ],
          "table": [
           {
            "cells": {
             "fill": {
              "color": "#EBF0F8"
             },
             "line": {
              "color": "white"
             }
            },
            "header": {
             "fill": {
              "color": "#C8D4E3"
             },
             "line": {
              "color": "white"
             }
            },
            "type": "table"
           }
          ]
         },
         "layout": {
          "annotationdefaults": {
           "arrowcolor": "#2a3f5f",
           "arrowhead": 0,
           "arrowwidth": 1
          },
          "autotypenumbers": "strict",
          "coloraxis": {
           "colorbar": {
            "outlinewidth": 0,
            "ticks": ""
           }
          },
          "colorscale": {
           "diverging": [
            [
             0,
             "#8e0152"
            ],
            [
             0.1,
             "#c51b7d"
            ],
            [
             0.2,
             "#de77ae"
            ],
            [
             0.3,
             "#f1b6da"
            ],
            [
             0.4,
             "#fde0ef"
            ],
            [
             0.5,
             "#f7f7f7"
            ],
            [
             0.6,
             "#e6f5d0"
            ],
            [
             0.7,
             "#b8e186"
            ],
            [
             0.8,
             "#7fbc41"
            ],
            [
             0.9,
             "#4d9221"
            ],
            [
             1,
             "#276419"
            ]
           ],
           "sequential": [
            [
             0,
             "#0d0887"
            ],
            [
             0.1111111111111111,
             "#46039f"
            ],
            [
             0.2222222222222222,
             "#7201a8"
            ],
            [
             0.3333333333333333,
             "#9c179e"
            ],
            [
             0.4444444444444444,
             "#bd3786"
            ],
            [
             0.5555555555555556,
             "#d8576b"
            ],
            [
             0.6666666666666666,
             "#ed7953"
            ],
            [
             0.7777777777777778,
             "#fb9f3a"
            ],
            [
             0.8888888888888888,
             "#fdca26"
            ],
            [
             1,
             "#f0f921"
            ]
           ],
           "sequentialminus": [
            [
             0,
             "#0d0887"
            ],
            [
             0.1111111111111111,
             "#46039f"
            ],
            [
             0.2222222222222222,
             "#7201a8"
            ],
            [
             0.3333333333333333,
             "#9c179e"
            ],
            [
             0.4444444444444444,
             "#bd3786"
            ],
            [
             0.5555555555555556,
             "#d8576b"
            ],
            [
             0.6666666666666666,
             "#ed7953"
            ],
            [
             0.7777777777777778,
             "#fb9f3a"
            ],
            [
             0.8888888888888888,
             "#fdca26"
            ],
            [
             1,
             "#f0f921"
            ]
           ]
          },
          "colorway": [
           "#636efa",
           "#EF553B",
           "#00cc96",
           "#ab63fa",
           "#FFA15A",
           "#19d3f3",
           "#FF6692",
           "#B6E880",
           "#FF97FF",
           "#FECB52"
          ],
          "font": {
           "color": "#2a3f5f"
          },
          "geo": {
           "bgcolor": "white",
           "lakecolor": "white",
           "landcolor": "#E5ECF6",
           "showlakes": true,
           "showland": true,
           "subunitcolor": "white"
          },
          "hoverlabel": {
           "align": "left"
          },
          "hovermode": "closest",
          "mapbox": {
           "style": "light"
          },
          "paper_bgcolor": "white",
          "plot_bgcolor": "#E5ECF6",
          "polar": {
           "angularaxis": {
            "gridcolor": "white",
            "linecolor": "white",
            "ticks": ""
           },
           "bgcolor": "#E5ECF6",
           "radialaxis": {
            "gridcolor": "white",
            "linecolor": "white",
            "ticks": ""
           }
          },
          "scene": {
           "xaxis": {
            "backgroundcolor": "#E5ECF6",
            "gridcolor": "white",
            "gridwidth": 2,
            "linecolor": "white",
            "showbackground": true,
            "ticks": "",
            "zerolinecolor": "white"
           },
           "yaxis": {
            "backgroundcolor": "#E5ECF6",
            "gridcolor": "white",
            "gridwidth": 2,
            "linecolor": "white",
            "showbackground": true,
            "ticks": "",
            "zerolinecolor": "white"
           },
           "zaxis": {
            "backgroundcolor": "#E5ECF6",
            "gridcolor": "white",
            "gridwidth": 2,
            "linecolor": "white",
            "showbackground": true,
            "ticks": "",
            "zerolinecolor": "white"
           }
          },
          "shapedefaults": {
           "line": {
            "color": "#2a3f5f"
           }
          },
          "ternary": {
           "aaxis": {
            "gridcolor": "white",
            "linecolor": "white",
            "ticks": ""
           },
           "baxis": {
            "gridcolor": "white",
            "linecolor": "white",
            "ticks": ""
           },
           "bgcolor": "#E5ECF6",
           "caxis": {
            "gridcolor": "white",
            "linecolor": "white",
            "ticks": ""
           }
          },
          "title": {
           "x": 0.05
          },
          "xaxis": {
           "automargin": true,
           "gridcolor": "white",
           "linecolor": "white",
           "ticks": "",
           "title": {
            "standoff": 15
           },
           "zerolinecolor": "white",
           "zerolinewidth": 2
          },
          "yaxis": {
           "automargin": true,
           "gridcolor": "white",
           "linecolor": "white",
           "ticks": "",
           "title": {
            "standoff": 15
           },
           "zerolinecolor": "white",
           "zerolinewidth": 2
          }
         }
        },
        "title": {
         "text": "Stringency Index during Covid-19"
        },
        "xaxis": {
         "anchor": "y",
         "domain": [
          0,
          1
         ],
         "title": {
          "text": "Country"
         }
        },
        "yaxis": {
         "anchor": "x",
         "domain": [
          0,
          1
         ],
         "title": {
          "text": "Total Cases"
         }
        }
       }
      },
      "text/html": [
       "<div>                            <div id=\"89c5b5b6-f7fc-4e76-a607-b4adb853e501\" class=\"plotly-graph-div\" style=\"height:400px; width:100%;\"></div>            <script type=\"text/javascript\">                require([\"plotly\"], function(Plotly) {                    window.PLOTLYENV=window.PLOTLYENV || {};                                    if (document.getElementById(\"89c5b5b6-f7fc-4e76-a607-b4adb853e501\")) {                    Plotly.newPlot(                        \"89c5b5b6-f7fc-4e76-a607-b4adb853e501\",                        [{\"alignmentgroup\":\"True\",\"customdata\":[[19.61763693,26477574.0],[19.17473208,14340567.0],[21.04535251,7247327.0],[18.79866817,2131571.0],[17.3111646,3020038.0],[18.67480153,7295850.0],[17.66042712,5510624.0],[17.8982664,1357682.0],[17.74503716,1936134.0],[18.03334044,7249573.0],[18.24624346,2914070.0],[16.76604717,1283880.0],[17.91752278,6664225.0],[17.99409688,5633444.0],[17.62651421,1077426.0],[18.24375196,1640691.0],[18.25035574,1049757.0],[17.36552634,442507.0],[19.21318595,789557.0],[18.91957173,484534.0],[17.50993717,744253.0],[18.51217534,448665.0],[21.08743924,1066939.0],[19.42689854,916111.0],[17.44628825,1455549.0],[14.87366884,23820.0],[15.97371025,126278.0],[17.59363088,343334.0],[16.26562008,1798461.0],[16.68585306,1083749.0],[16.74812767,161480.0],[16.6566263,1142410.0],[18.44375647,644416.0],[16.1279737,941063.0],[16.27279152,578559.0],[16.77238152,464952.0],[16.19948244,209024.0],[15.26725623,69104.0],[16.06145345,88409.0],[15.27755412,222435.0],[16.10707515,58035.0],[15.44604869,73391.0],[16.13757538,302612.0],[17.44905184,304001.0],[15.58201085,4691.0],[17.42400819,142270.0],[18.65556675,194918.0],[16.70118056,281588.0],[15.97360361,320693.0],[14.34706955,22413.0],[16.10851066,200844.0],[19.1440641,125473.0],[14.9017918,102039.0],[17.18751281,27737.0],[15.41242964,310201.0],[16.18659339,79880.0],[17.4772331,165875.0],[16.01344599,134945.0],[17.25184806,29143.0],[17.59630906,206429.0],[18.56012597,77686.0],[17.1631645,40840.0],[15.21025983,129946.0],[15.44359631,50352.0],[17.32613614,31903.0],[15.69102752,114922.0],[16.13191719,59495.0],[15.73310882,87503.0],[14.86662585,54940.0],[17.75260041,63333.0],[17.80025043,59485.0],[15.44502871,21522.0],[15.57202326,113280.0],[17.05418434,65029.0],[15.68518756,71957.0],[17.09438451,56606.0],[15.78017657,42850.0],[15.73616766,22983.0],[15.00360243,70578.0],[17.08805131,14220.0],[15.5058355,47158.0],[15.75402845,72850.0],[15.74286198,29730.0],[17.29261899,24012.0],[14.54950213,74066.0],[16.08354044,110142.0],[17.59626861,102825.0],[16.63354636,30320.0],[15.52763465,58377.0],[17.13661869,17744.0],[16.15953083,44805.0],[14.47446683,47571.0],[15.22778158,28757.0],[18.31043503,32040.0],[16.39062287,7283.0],[13.34706731,21907.0],[16.72698889,26475.0],[16.07075684,9730.0],[14.87253667,31056.0],[14.61559461,6877.0],[16.24934608,23891.0],[16.28518664,19025.0],[13.20032762,3054.0],[15.35230466,19810.0],[15.51289396,6055.0],[13.80344,8006.0],[16.13820607,5653.0],[14.7480352,6634.0],[13.35039417,11356.0],[18.06114425,11162.0],[17.81205473,13973.0],[16.51438055,15984.0],[15.39030816,7108.0],[16.24266591,16774.0],[14.15411267,8947.0],[14.54736486,22165.0],[16.76676599,15480.0],[15.70629361,16410.0],[17.25770384,3396.0],[16.5814031,15001.0],[14.81698436,14345.0],[15.52354271,9298.0],[13.22850199,4749.0],[17.63850561,3748.0],[16.87952045,2108.0],[14.09808385,11802.0],[13.96407193,8179.0],[15.199095,4013.0],[12.74037063,1968.0],[16.82370654,18813.0],[16.37677691,1744.0],[14.90109198,5653.0],[13.28215639,6961.0],[16.23086427,6063.0],[14.49252734,4199.0],[17.3079574,11820.0],[15.89207108,10036.0],[16.67774898,12098.0],[14.45007584,5376.0],[15.38874766,4145.0],[12.99802163,2409.0],[16.31063137,4374.0],[15.06073864,6083.0],[12.88219574,5998.0],[13.68300607,3735.0],[16.85541655,10248.0],[14.69789863,7201.0],[17.21088998,64304.0],[14.15161916,4519.0],[11.25499635,9850.0],[11.5783948,1624.0],[14.67061714,895.0],[17.00213737,11676.0],[15.92920098,4197.0],[13.57542301,5783.0],[12.03636915,2715.0],[15.43641784,10087.0],[16.61436742,12212.0],[10.43229061,8596.0],[18.39370601,2318.0],[12.2975619,2198.0],[14.57736817,2680.0],[12.89325457,1613.0],[11.55620524,1833.0],[16.98590072,1423.0],[12.54576825,260.0],[17.9054155,3733.0],[14.05591783,1988.0],[11.52359831,5527.0],[11.35078294,4310.0],[10.79681667,0.0],[13.67578287,920.0],[11.11322372,2450.0],[16.29127395,188.0],[10.66620744,3146.0],[10.42498602,0.0],[10.56405989,476.0],[15.00283311,0.0],[15.08145118,0.0],[16.63205462,0.0],[16.00683186,417.0],[11.09315857,213.0],[12.98879313,475.0],[11.03928322,1631.0],[12.56852934,1321.0],[13.55623711,0.0],[10.57755385,192.0],[10.54894022,198.0],[12.00823128,207.0],[11.49618614,0.0],[11.49198779,568.0],[11.61680789,0.0],[10.96053104,396.0],[10.1743159,48.0],[13.7061911,132.0],[14.09196129,0.0],[10.31682162,183.0],[12.56196578,0.0],[11.63087738,0.0],[12.1206727,0.0],[15.80003079,0.0],[11.18429639,0.0],[10.88166329,0.0],[10.94679853,0.0],[8.15564927,0.0],[6.695798917,0.0],[8.516993171,177.0],[9.615938805,0.0],[13.43991197,0.0],[15.8300119,0.0]],\"hovertemplate\":\"Country=%{x}<br>Total Cases=%{y}<br>Population=%{customdata[0]}<br>Total Deaths=%{customdata[1]}<br>Stringency Index=%{marker.color}<extra></extra>\",\"legendgroup\":\"\",\"marker\":{\"color\":[3.3509486690850343,3.136027957462585,3.6105521148129256,3.380088191482993,3.4301264381156464,3.0192894045204084,3.393922273142857,3.3643329908979593,3.3579230454251703,3.3538831399625852,3.207064113278912,2.989193634731293,3.629838088122449,3.3857936759115645,3.4754380163809526,3.28451614412585,3.0414184019965984,3.2633605816360545,3.38580207355102,3.186409532867346,3.6382597844795925,3.67810238272449,3.8925538979353735,3.6401493643061213,3.286389158969388,3.561580438853742,3.5793130338673467,3.0981180947312925,3.4200551236938774,3.4756814307823136,3.279181903081632,2.922922530493197,3.079215255792518,2.75164141155102,3.2593630045034017,3.3440225178673466,3.329886860812925,3.6756516780068034,1.7777885856122446,3.347952237411565,3.2094847001292517,3.730139465272109,3.266071855346939,2.854065180411564,3.7307369099183667,3.2886413599217685,3.178413736503401,3.4795448106666664,3.12802378279932,3.672654081911565,3.310703392435374,3.504160797792516,0.0,3.677210356482993,3.3750440923061227,3.2069219557006803,3.0496734543605446,2.999125721982993,2.845124538520408,3.195168482772109,3.106953683829932,3.235751674234694,2.9956552940374146,3.052990643608844,3.130970957227891,3.1833747295,3.5610048554761904,3.0738407065272106,3.0402436258537415,3.422536914673469,3.332929539568027,3.2563697529931965,3.069241891969387,3.6220902177993195,3.228307817353741,2.9765738832653064,3.171279047295919,3.4019439833571425,3.0345279388299318,2.8512348956428575,3.1960380252551017,2.8532486089081637,3.411850270965986,3.6216474627346935,0.0,3.01363418397619,3.196909016653061,2.66599380340136,3.101641431479592,2.957421466741496,3.1346855279761905,3.1763816652925168,3.1440618902551023,3.0745801085034015,3.0001857734659865,2.905672398506803,2.645104184595238,2.240074461547619,3.0056236545748294,3.1221241128979584,2.7754449377074826,2.8630195453367344,0.0,2.6605094333877557,2.8965280817040817,2.910019280119047,3.179010039955782,2.996030525765306,0.0,3.060495103527211,3.1433438754523806,3.1611319515748297,2.9648505104047618,3.1526094456394556,0.0,3.0012790250646257,2.7483170985986396,1.7787903315544213,2.8819963542414953,2.5585456688027213,2.79028876255102,3.029772100969388,2.988857297673469,3.177188289904762,3.2125340412482988,2.5380262833979588,3.061297157204082,3.6389395285034007,3.174260733585034,2.7711030407380943,3.0920467206394555,3.239694818312925,3.167167094068027,2.71822275794898,0.0,2.965559714153062,2.5651667428537417,2.829461847836735,3.0254631613775507,3.233197103585034,0.0,2.7188522499115644,2.777736691469387,0.0,3.110623018248299,2.8844738915544217,3.1054073187108853,2.3695679034965984,3.0174295116428564,2.6776539695340142,2.7689076071326535,2.8325677352210885,2.2517598853673464,2.9374114366496604,3.139448600384354,2.8180347343673473,3.148329587809524,2.983968134125851,3.080051874061225,3.710868429755102,0.0,2.2233248549795923,2.8959699335272107,0.0,2.963287182741497,0.0,2.402485587190476,2.5070728676870746,0.0,0.0,0.0,0.0,0.0,1.689712130088435,0.0,2.2786489774285714,2.2971052494115645,3.0700195609013603,3.2501682509489793,2.875571929306122,2.67551761532653,1.5389167769829932,2.8664489886020412,2.846286835465986,2.9471776484217687,3.187371286312924,0.0,0.0,0.0,2.5486704868707477,0.0,0.0,0.0,0.0,3.427270103061224,2.5767618823639458,2.2406592542244894,0.0,0.0,0.0,2.516711985833333,2.6819666489727885,0.0,2.5884353651666667,2.1229575531768705,0.0,2.477076521632654,2.3261806732925168,0.0,0.6439803426292516],\"coloraxis\":\"coloraxis\",\"pattern\":{\"shape\":\"\"}},\"name\":\"\",\"offsetgroup\":\"\",\"orientation\":\"v\",\"showlegend\":false,\"textposition\":\"auto\",\"x\":[\"United States\",\"Brazil\",\"India\",\"Russia\",\"Peru\",\"Mexico\",\"Spain\",\"South Africa\",\"Colombia\",\"United Kingdom\",\"Iran\",\"Chile\",\"Italy\",\"France\",\"Argentina\",\"Germany\",\"Turkey\",\"Saudi Arabia\",\"Pakistan\",\"Bangladesh\",\"Iraq\",\"Philippines\",\"China\",\"Indonesia\",\"Canada\",\"Qatar\",\"Israel\",\"Ukraine\",\"Belgium\",\"Ecuador\",\"Kazakhstan\",\"Netherlands\",\"Egypt\",\"Sweden\",\"Bolivia\",\"Romania\",\"Dominican Republic\",\"Kuwait\",\"Belarus\",\"Panama\",\"United Arab Emirates\",\"Oman\",\"Portugal\",\"Poland\",\"Singapore\",\"Morocco\",\"Japan\",\"Guatemala\",\"Switzerland\",\"Bahrain\",\"Honduras\",\"Nigeria\",\"Armenia\",\"Nepal\",\"Ireland\",\"Czech Republic\",\"Afghanistan\",\"Austria\",\"Ghana\",\"Algeria\",\"Ethiopia\",\"Venezuela\",\"Moldova\",\"Costa Rica\",\"Uzbekistan\",\"Kyrgyzstan\",\"Azerbaijan\",\"Serbia\",\"Puerto Rico\",\"South Korea\",\"Kenya\",\"Palestine\",\"Denmark\",\"Australia\",\"El Salvador\",\"Cameroon\",\"Paraguay\",\"Lebanon\",\"Bosnia and Herzegovina\",\"Cote d'Ivoire\",\"Norway\",\"Bulgaria\",\"Libya\",\"Malaysia\",\"Macedonia\",\"Hungary\",\"Sudan\",\"Senegal\",\"Finland\",\"Madagascar\",\"Greece\",\"Kosovo\",\"Croatia\",\"Democratic Republic of Congo\",\"Guinea\",\"Luxembourg\",\"Zambia\",\"Tajikistan\",\"Albania\",\"Gabon\",\"Haiti\",\"Tunisia\",\"Maldives\",\"Mauritania\",\"Slovakia\",\"Djibouti\",\"Jordan\",\"Namibia\",\"Montenegro\",\"Thailand\",\"Myanmar\",\"Zimbabwe\",\"Central African Republic\",\"Cuba\",\"Equatorial Guinea\",\"Slovenia\",\"Malawi\",\"Nicaragua\",\"Mozambique\",\"Somalia\",\"Lithuania\",\"Congo\",\"Cape Verde\",\"Uganda\",\"Sri Lanka\",\"Estonia\",\"Swaziland\",\"Georgia\",\"Iceland\",\"Mali\",\"Rwanda\",\"Jamaica\",\"Suriname\",\"South Sudan\",\"Guinea-Bissau\",\"Angola\",\"Sierra Leone\",\"Syria\",\"Latvia\",\"New Zealand\",\"Malta\",\"Benin\",\"Uruguay\",\"Bahamas\",\"Cyprus\",\"Burkina Faso\",\"Gambia\",\"Yemen\",\"Trinidad and Tobago\",\"Andorra\",\"Aruba\",\"Botswana\",\"Niger\",\"Togo\",\"Guyana\",\"Guam\",\"Liberia\",\"Chad\",\"San Marino\",\"Vietnam\",\"Sao Tome and Principe\",\"Lesotho\",\"Belize\",\"United States Virgin Islands\",\"Taiwan\",\"French Polynesia\",\"Tanzania\",\"Mauritius\",\"Jersey\",\"Isle of Man\",\"Faeroe Islands\",\"Comoros\",\"Guernsey\",\"Burundi\",\"Sint Maarten (Dutch part)\",\"Gibraltar\",\"Turks and Caicos Islands\",\"Mongolia\",\"Eritrea\",\"Cambodia\",\"Papua New Guinea\",\"Cayman Islands\",\"Brunei\",\"Bermuda\",\"Barbados\",\"Bhutan\",\"Monaco\",\"Liechtenstein\",\"Curacao\",\"Seychelles\",\"Antigua and Barbuda\",\"Saint Vincent and the Grenadines\",\"Northern Mariana Islands\",\"Bonaire Sint Eustatius and Saba\",\"Fiji\",\"Timor\",\"British Virgin Islands\",\"New Caledonia\",\"Grenada\",\"Saint Lucia\",\"Laos\",\"Dominica\",\"Saint Kitts and Nevis\",\"Greenland\",\"Falkland Islands\",\"Vatican\",\"Montserrat\",\"Anguilla\",\"Solomon Islands\",\"Hong Kong\"],\"xaxis\":\"x\",\"y\":[746014098.0,425704517.0,407771615.0,132888951.0,74882695.0,74347548.0,73717676.0,63027659.0,60543682.0,59475032.0,52421884.0,51268034.0,50752853.0,50084335.0,47155234.0,42447678.0,41431948.0,38585191.0,37738077.0,35266178.0,25280332.0,22409936.0,21632319.0,21570149.0,20902374.0,16351440.0,16202474.0,15805665.0,15192468.0,14408757.0,13194863.0,13026629.0,12422845.0,11910109.0,11858838.0,10672859.0,10649646.0,10622205.0,10595186.0,10371724.0,10247326.0,10060093.0,9266263.0,9239657.0,8191161.0,7839270.0,7659484.0,7644426.0,7552067.0,6549995.0,6545499.0,6107371.0,5474629.0,5243653.0,5239798.0,5213980.0,5126433.0,4909197.0,4900649.0,4893999.0,4876417.0,4839834.0,4632482.0,4631835.0,4421215.0,4287847.0,4236782.0,3984174.0,3586463.0,3333075.0,3277734.0,3249458.0,3030088.0,3012377.0,2573206.0,2476502.0,2265640.0,2220699.0,2200057.0,2132883.0,1985889.0,1890380.0,1817274.0,1774181.0,1724220.0,1708798.0,1663545.0,1586747.0,1458484.0,1443321.0,1421470.0,1345940.0,1314031.0,1271391.0,1195836.0,1146724.0,1129913.0,1117391.0,1071951.0,1031803.0,1023155.0,1000626.0,844040.0,799222.0,798665.0,781771.0,716514.0,681299.0,675912.0,655703.0,644209.0,593699.0,593048.0,581546.0,557355.0,547075.0,536447.0,524410.0,510578.0,491145.0,488057.0,473368.0,463888.0,448728.0,446643.0,445402.0,444238.0,431689.0,421210.0,390637.0,388775.0,370890.0,358632.0,333500.0,306564.0,304005.0,268396.0,267902.0,255964.0,253203.0,251261.0,245893.0,239884.0,237908.0,236673.0,231452.0,229521.0,228925.0,225550.0,223576.0,215110.0,205758.0,199978.0,169903.0,166917.0,160975.0,159880.0,154173.0,134994.0,122618.0,121909.0,107948.0,106383.0,98536.0,97074.0,95388.0,91526.0,69524.0,66777.0,64935.0,56893.0,52437.0,49814.0,49745.0,48026.0,45340.0,44432.0,42465.0,40026.0,39539.0,35966.0,33173.0,30140.0,28876.0,24998.0,22847.0,21511.0,19885.0,19777.0,14701.0,12619.0,7824.0,7784.0,5080.0,4742.0,4697.0,4605.0,4495.0,4470.0,4450.0,4039.0,3977.0,3246.0,2678.0,2467.0,2415.0,2383.0,614.0,11.0,0.0],\"yaxis\":\"y\",\"type\":\"bar\"}],                        {\"template\":{\"data\":{\"histogram2dcontour\":[{\"type\":\"histogram2dcontour\",\"colorbar\":{\"outlinewidth\":0,\"ticks\":\"\"},\"colorscale\":[[0.0,\"#0d0887\"],[0.1111111111111111,\"#46039f\"],[0.2222222222222222,\"#7201a8\"],[0.3333333333333333,\"#9c179e\"],[0.4444444444444444,\"#bd3786\"],[0.5555555555555556,\"#d8576b\"],[0.6666666666666666,\"#ed7953\"],[0.7777777777777778,\"#fb9f3a\"],[0.8888888888888888,\"#fdca26\"],[1.0,\"#f0f921\"]]}],\"choropleth\":[{\"type\":\"choropleth\",\"colorbar\":{\"outlinewidth\":0,\"ticks\":\"\"}}],\"histogram2d\":[{\"type\":\"histogram2d\",\"colorbar\":{\"outlinewidth\":0,\"ticks\":\"\"},\"colorscale\":[[0.0,\"#0d0887\"],[0.1111111111111111,\"#46039f\"],[0.2222222222222222,\"#7201a8\"],[0.3333333333333333,\"#9c179e\"],[0.4444444444444444,\"#bd3786\"],[0.5555555555555556,\"#d8576b\"],[0.6666666666666666,\"#ed7953\"],[0.7777777777777778,\"#fb9f3a\"],[0.8888888888888888,\"#fdca26\"],[1.0,\"#f0f921\"]]}],\"heatmap\":[{\"type\":\"heatmap\",\"colorbar\":{\"outlinewidth\":0,\"ticks\":\"\"},\"colorscale\":[[0.0,\"#0d0887\"],[0.1111111111111111,\"#46039f\"],[0.2222222222222222,\"#7201a8\"],[0.3333333333333333,\"#9c179e\"],[0.4444444444444444,\"#bd3786\"],[0.5555555555555556,\"#d8576b\"],[0.6666666666666666,\"#ed7953\"],[0.7777777777777778,\"#fb9f3a\"],[0.8888888888888888,\"#fdca26\"],[1.0,\"#f0f921\"]]}],\"heatmapgl\":[{\"type\":\"heatmapgl\",\"colorbar\":{\"outlinewidth\":0,\"ticks\":\"\"},\"colorscale\":[[0.0,\"#0d0887\"],[0.1111111111111111,\"#46039f\"],[0.2222222222222222,\"#7201a8\"],[0.3333333333333333,\"#9c179e\"],[0.4444444444444444,\"#bd3786\"],[0.5555555555555556,\"#d8576b\"],[0.6666666666666666,\"#ed7953\"],[0.7777777777777778,\"#fb9f3a\"],[0.8888888888888888,\"#fdca26\"],[1.0,\"#f0f921\"]]}],\"contourcarpet\":[{\"type\":\"contourcarpet\",\"colorbar\":{\"outlinewidth\":0,\"ticks\":\"\"}}],\"contour\":[{\"type\":\"contour\",\"colorbar\":{\"outlinewidth\":0,\"ticks\":\"\"},\"colorscale\":[[0.0,\"#0d0887\"],[0.1111111111111111,\"#46039f\"],[0.2222222222222222,\"#7201a8\"],[0.3333333333333333,\"#9c179e\"],[0.4444444444444444,\"#bd3786\"],[0.5555555555555556,\"#d8576b\"],[0.6666666666666666,\"#ed7953\"],[0.7777777777777778,\"#fb9f3a\"],[0.8888888888888888,\"#fdca26\"],[1.0,\"#f0f921\"]]}],\"surface\":[{\"type\":\"surface\",\"colorbar\":{\"outlinewidth\":0,\"ticks\":\"\"},\"colorscale\":[[0.0,\"#0d0887\"],[0.1111111111111111,\"#46039f\"],[0.2222222222222222,\"#7201a8\"],[0.3333333333333333,\"#9c179e\"],[0.4444444444444444,\"#bd3786\"],[0.5555555555555556,\"#d8576b\"],[0.6666666666666666,\"#ed7953\"],[0.7777777777777778,\"#fb9f3a\"],[0.8888888888888888,\"#fdca26\"],[1.0,\"#f0f921\"]]}],\"mesh3d\":[{\"type\":\"mesh3d\",\"colorbar\":{\"outlinewidth\":0,\"ticks\":\"\"}}],\"scatter\":[{\"fillpattern\":{\"fillmode\":\"overlay\",\"size\":10,\"solidity\":0.2},\"type\":\"scatter\"}],\"parcoords\":[{\"type\":\"parcoords\",\"line\":{\"colorbar\":{\"outlinewidth\":0,\"ticks\":\"\"}}}],\"scatterpolargl\":[{\"type\":\"scatterpolargl\",\"marker\":{\"colorbar\":{\"outlinewidth\":0,\"ticks\":\"\"}}}],\"bar\":[{\"error_x\":{\"color\":\"#2a3f5f\"},\"error_y\":{\"color\":\"#2a3f5f\"},\"marker\":{\"line\":{\"color\":\"#E5ECF6\",\"width\":0.5},\"pattern\":{\"fillmode\":\"overlay\",\"size\":10,\"solidity\":0.2}},\"type\":\"bar\"}],\"scattergeo\":[{\"type\":\"scattergeo\",\"marker\":{\"colorbar\":{\"outlinewidth\":0,\"ticks\":\"\"}}}],\"scatterpolar\":[{\"type\":\"scatterpolar\",\"marker\":{\"colorbar\":{\"outlinewidth\":0,\"ticks\":\"\"}}}],\"histogram\":[{\"marker\":{\"pattern\":{\"fillmode\":\"overlay\",\"size\":10,\"solidity\":0.2}},\"type\":\"histogram\"}],\"scattergl\":[{\"type\":\"scattergl\",\"marker\":{\"colorbar\":{\"outlinewidth\":0,\"ticks\":\"\"}}}],\"scatter3d\":[{\"type\":\"scatter3d\",\"line\":{\"colorbar\":{\"outlinewidth\":0,\"ticks\":\"\"}},\"marker\":{\"colorbar\":{\"outlinewidth\":0,\"ticks\":\"\"}}}],\"scattermapbox\":[{\"type\":\"scattermapbox\",\"marker\":{\"colorbar\":{\"outlinewidth\":0,\"ticks\":\"\"}}}],\"scatterternary\":[{\"type\":\"scatterternary\",\"marker\":{\"colorbar\":{\"outlinewidth\":0,\"ticks\":\"\"}}}],\"scattercarpet\":[{\"type\":\"scattercarpet\",\"marker\":{\"colorbar\":{\"outlinewidth\":0,\"ticks\":\"\"}}}],\"carpet\":[{\"aaxis\":{\"endlinecolor\":\"#2a3f5f\",\"gridcolor\":\"white\",\"linecolor\":\"white\",\"minorgridcolor\":\"white\",\"startlinecolor\":\"#2a3f5f\"},\"baxis\":{\"endlinecolor\":\"#2a3f5f\",\"gridcolor\":\"white\",\"linecolor\":\"white\",\"minorgridcolor\":\"white\",\"startlinecolor\":\"#2a3f5f\"},\"type\":\"carpet\"}],\"table\":[{\"cells\":{\"fill\":{\"color\":\"#EBF0F8\"},\"line\":{\"color\":\"white\"}},\"header\":{\"fill\":{\"color\":\"#C8D4E3\"},\"line\":{\"color\":\"white\"}},\"type\":\"table\"}],\"barpolar\":[{\"marker\":{\"line\":{\"color\":\"#E5ECF6\",\"width\":0.5},\"pattern\":{\"fillmode\":\"overlay\",\"size\":10,\"solidity\":0.2}},\"type\":\"barpolar\"}],\"pie\":[{\"automargin\":true,\"type\":\"pie\"}]},\"layout\":{\"autotypenumbers\":\"strict\",\"colorway\":[\"#636efa\",\"#EF553B\",\"#00cc96\",\"#ab63fa\",\"#FFA15A\",\"#19d3f3\",\"#FF6692\",\"#B6E880\",\"#FF97FF\",\"#FECB52\"],\"font\":{\"color\":\"#2a3f5f\"},\"hovermode\":\"closest\",\"hoverlabel\":{\"align\":\"left\"},\"paper_bgcolor\":\"white\",\"plot_bgcolor\":\"#E5ECF6\",\"polar\":{\"bgcolor\":\"#E5ECF6\",\"angularaxis\":{\"gridcolor\":\"white\",\"linecolor\":\"white\",\"ticks\":\"\"},\"radialaxis\":{\"gridcolor\":\"white\",\"linecolor\":\"white\",\"ticks\":\"\"}},\"ternary\":{\"bgcolor\":\"#E5ECF6\",\"aaxis\":{\"gridcolor\":\"white\",\"linecolor\":\"white\",\"ticks\":\"\"},\"baxis\":{\"gridcolor\":\"white\",\"linecolor\":\"white\",\"ticks\":\"\"},\"caxis\":{\"gridcolor\":\"white\",\"linecolor\":\"white\",\"ticks\":\"\"}},\"coloraxis\":{\"colorbar\":{\"outlinewidth\":0,\"ticks\":\"\"}},\"colorscale\":{\"sequential\":[[0.0,\"#0d0887\"],[0.1111111111111111,\"#46039f\"],[0.2222222222222222,\"#7201a8\"],[0.3333333333333333,\"#9c179e\"],[0.4444444444444444,\"#bd3786\"],[0.5555555555555556,\"#d8576b\"],[0.6666666666666666,\"#ed7953\"],[0.7777777777777778,\"#fb9f3a\"],[0.8888888888888888,\"#fdca26\"],[1.0,\"#f0f921\"]],\"sequentialminus\":[[0.0,\"#0d0887\"],[0.1111111111111111,\"#46039f\"],[0.2222222222222222,\"#7201a8\"],[0.3333333333333333,\"#9c179e\"],[0.4444444444444444,\"#bd3786\"],[0.5555555555555556,\"#d8576b\"],[0.6666666666666666,\"#ed7953\"],[0.7777777777777778,\"#fb9f3a\"],[0.8888888888888888,\"#fdca26\"],[1.0,\"#f0f921\"]],\"diverging\":[[0,\"#8e0152\"],[0.1,\"#c51b7d\"],[0.2,\"#de77ae\"],[0.3,\"#f1b6da\"],[0.4,\"#fde0ef\"],[0.5,\"#f7f7f7\"],[0.6,\"#e6f5d0\"],[0.7,\"#b8e186\"],[0.8,\"#7fbc41\"],[0.9,\"#4d9221\"],[1,\"#276419\"]]},\"xaxis\":{\"gridcolor\":\"white\",\"linecolor\":\"white\",\"ticks\":\"\",\"title\":{\"standoff\":15},\"zerolinecolor\":\"white\",\"automargin\":true,\"zerolinewidth\":2},\"yaxis\":{\"gridcolor\":\"white\",\"linecolor\":\"white\",\"ticks\":\"\",\"title\":{\"standoff\":15},\"zerolinecolor\":\"white\",\"automargin\":true,\"zerolinewidth\":2},\"scene\":{\"xaxis\":{\"backgroundcolor\":\"#E5ECF6\",\"gridcolor\":\"white\",\"linecolor\":\"white\",\"showbackground\":true,\"ticks\":\"\",\"zerolinecolor\":\"white\",\"gridwidth\":2},\"yaxis\":{\"backgroundcolor\":\"#E5ECF6\",\"gridcolor\":\"white\",\"linecolor\":\"white\",\"showbackground\":true,\"ticks\":\"\",\"zerolinecolor\":\"white\",\"gridwidth\":2},\"zaxis\":{\"backgroundcolor\":\"#E5ECF6\",\"gridcolor\":\"white\",\"linecolor\":\"white\",\"showbackground\":true,\"ticks\":\"\",\"zerolinecolor\":\"white\",\"gridwidth\":2}},\"shapedefaults\":{\"line\":{\"color\":\"#2a3f5f\"}},\"annotationdefaults\":{\"arrowcolor\":\"#2a3f5f\",\"arrowhead\":0,\"arrowwidth\":1},\"geo\":{\"bgcolor\":\"white\",\"landcolor\":\"#E5ECF6\",\"subunitcolor\":\"white\",\"showland\":true,\"showlakes\":true,\"lakecolor\":\"white\"},\"title\":{\"x\":0.05},\"mapbox\":{\"style\":\"light\"}}},\"xaxis\":{\"anchor\":\"y\",\"domain\":[0.0,1.0],\"title\":{\"text\":\"Country\"}},\"yaxis\":{\"anchor\":\"x\",\"domain\":[0.0,1.0],\"title\":{\"text\":\"Total Cases\"}},\"coloraxis\":{\"colorbar\":{\"title\":{\"text\":\"Stringency Index\"}},\"colorscale\":[[0.0,\"#0d0887\"],[0.1111111111111111,\"#46039f\"],[0.2222222222222222,\"#7201a8\"],[0.3333333333333333,\"#9c179e\"],[0.4444444444444444,\"#bd3786\"],[0.5555555555555556,\"#d8576b\"],[0.6666666666666666,\"#ed7953\"],[0.7777777777777778,\"#fb9f3a\"],[0.8888888888888888,\"#fdca26\"],[1.0,\"#f0f921\"]]},\"legend\":{\"tracegroupgap\":0},\"title\":{\"text\":\"Stringency Index during Covid-19\"},\"barmode\":\"relative\",\"height\":400},                        {\"responsive\": true}                    ).then(function(){\n",
       "                            \n",
       "var gd = document.getElementById('89c5b5b6-f7fc-4e76-a607-b4adb853e501');\n",
       "var x = new MutationObserver(function (mutations, observer) {{\n",
       "        var display = window.getComputedStyle(gd).display;\n",
       "        if (!display || display === 'none') {{\n",
       "            console.log([gd, 'removed!']);\n",
       "            Plotly.purge(gd);\n",
       "            observer.disconnect();\n",
       "        }}\n",
       "}});\n",
       "\n",
       "// Listen for the removal of the full notebook cells\n",
       "var notebookContainer = gd.closest('#notebook-container');\n",
       "if (notebookContainer) {{\n",
       "    x.observe(notebookContainer, {childList: true});\n",
       "}}\n",
       "\n",
       "// Listen for the clearing of the current output cell\n",
       "var outputEl = gd.closest('.output');\n",
       "if (outputEl) {{\n",
       "    x.observe(outputEl, {childList: true});\n",
       "}}\n",
       "\n",
       "                        })                };                });            </script>        </div>"
      ]
     },
     "metadata": {},
     "output_type": "display_data"
    }
   ],
   "source": [
    "fig = px.bar(data, x='Country', y='Total Cases',\n",
    "             hover_data=['Population', 'Total Deaths'], \n",
    "             color='Stringency Index', height=400, \n",
    "             title= \"Stringency Index during Covid-19\")\n",
    "fig.show()"
   ]
  },
  {
   "cell_type": "markdown",
   "id": "cbd7f456",
   "metadata": {},
   "source": [
    "Here we can see that India is performing well in the stringency index during the outbreak of covid-19."
   ]
  },
  {
   "cell_type": "code",
   "execution_count": null,
   "id": "448f8152",
   "metadata": {},
   "outputs": [],
   "source": []
  },
  {
   "cell_type": "code",
   "execution_count": null,
   "id": "9e7c186a",
   "metadata": {},
   "outputs": [],
   "source": []
  },
  {
   "cell_type": "code",
   "execution_count": null,
   "id": "66925d72",
   "metadata": {},
   "outputs": [],
   "source": []
  }
 ],
 "metadata": {
  "kernelspec": {
   "display_name": "Python 3 (ipykernel)",
   "language": "python",
   "name": "python3"
  },
  "language_info": {
   "codemirror_mode": {
    "name": "ipython",
    "version": 3
   },
   "file_extension": ".py",
   "mimetype": "text/x-python",
   "name": "python",
   "nbconvert_exporter": "python",
   "pygments_lexer": "ipython3",
   "version": "3.9.7"
  }
 },
 "nbformat": 4,
 "nbformat_minor": 5
}
